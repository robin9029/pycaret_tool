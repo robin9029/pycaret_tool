{
 "cells": [
  {
   "cell_type": "markdown",
   "metadata": {},
   "source": [
    "# pycaret check for https://pycaret.org/ \n",
    "\n"
   ]
  },
  {
   "cell_type": "code",
   "execution_count": 1,
   "metadata": {},
   "outputs": [],
   "source": [
    "from pycaret.classification import *"
   ]
  },
  {
   "cell_type": "code",
   "execution_count": 2,
   "metadata": {},
   "outputs": [
    {
     "name": "stdout",
     "output_type": "stream",
     "text": [
      "1.0.0\n"
     ]
    }
   ],
   "source": [
    "from pycaret.utils import version \n",
    "version ()"
   ]
  },
  {
   "cell_type": "code",
   "execution_count": 5,
   "metadata": {},
   "outputs": [
    {
     "data": {
      "text/html": [
       "<div>\n",
       "<style scoped>\n",
       "    .dataframe tbody tr th:only-of-type {\n",
       "        vertical-align: middle;\n",
       "    }\n",
       "\n",
       "    .dataframe tbody tr th {\n",
       "        vertical-align: top;\n",
       "    }\n",
       "\n",
       "    .dataframe thead th {\n",
       "        text-align: right;\n",
       "    }\n",
       "</style>\n",
       "<table border=\"1\" class=\"dataframe\">\n",
       "  <thead>\n",
       "    <tr style=\"text-align: right;\">\n",
       "      <th></th>\n",
       "      <th>Number of times pregnant</th>\n",
       "      <th>Plasma glucose concentration a 2 hours in an oral glucose tolerance test</th>\n",
       "      <th>Diastolic blood pressure (mm Hg)</th>\n",
       "      <th>Triceps skin fold thickness (mm)</th>\n",
       "      <th>2-Hour serum insulin (mu U/ml)</th>\n",
       "      <th>Body mass index (weight in kg/(height in m)^2)</th>\n",
       "      <th>Diabetes pedigree function</th>\n",
       "      <th>Age (years)</th>\n",
       "      <th>Class variable</th>\n",
       "    </tr>\n",
       "  </thead>\n",
       "  <tbody>\n",
       "    <tr>\n",
       "      <th>0</th>\n",
       "      <td>6</td>\n",
       "      <td>148</td>\n",
       "      <td>72</td>\n",
       "      <td>35</td>\n",
       "      <td>0</td>\n",
       "      <td>33.6</td>\n",
       "      <td>0.627</td>\n",
       "      <td>50</td>\n",
       "      <td>1</td>\n",
       "    </tr>\n",
       "    <tr>\n",
       "      <th>1</th>\n",
       "      <td>1</td>\n",
       "      <td>85</td>\n",
       "      <td>66</td>\n",
       "      <td>29</td>\n",
       "      <td>0</td>\n",
       "      <td>26.6</td>\n",
       "      <td>0.351</td>\n",
       "      <td>31</td>\n",
       "      <td>0</td>\n",
       "    </tr>\n",
       "    <tr>\n",
       "      <th>2</th>\n",
       "      <td>8</td>\n",
       "      <td>183</td>\n",
       "      <td>64</td>\n",
       "      <td>0</td>\n",
       "      <td>0</td>\n",
       "      <td>23.3</td>\n",
       "      <td>0.672</td>\n",
       "      <td>32</td>\n",
       "      <td>1</td>\n",
       "    </tr>\n",
       "    <tr>\n",
       "      <th>3</th>\n",
       "      <td>1</td>\n",
       "      <td>89</td>\n",
       "      <td>66</td>\n",
       "      <td>23</td>\n",
       "      <td>94</td>\n",
       "      <td>28.1</td>\n",
       "      <td>0.167</td>\n",
       "      <td>21</td>\n",
       "      <td>0</td>\n",
       "    </tr>\n",
       "    <tr>\n",
       "      <th>4</th>\n",
       "      <td>0</td>\n",
       "      <td>137</td>\n",
       "      <td>40</td>\n",
       "      <td>35</td>\n",
       "      <td>168</td>\n",
       "      <td>43.1</td>\n",
       "      <td>2.288</td>\n",
       "      <td>33</td>\n",
       "      <td>1</td>\n",
       "    </tr>\n",
       "  </tbody>\n",
       "</table>\n",
       "</div>"
      ],
      "text/plain": [
       "   Number of times pregnant  \\\n",
       "0                         6   \n",
       "1                         1   \n",
       "2                         8   \n",
       "3                         1   \n",
       "4                         0   \n",
       "\n",
       "   Plasma glucose concentration a 2 hours in an oral glucose tolerance test  \\\n",
       "0                                                148                          \n",
       "1                                                 85                          \n",
       "2                                                183                          \n",
       "3                                                 89                          \n",
       "4                                                137                          \n",
       "\n",
       "   Diastolic blood pressure (mm Hg)  Triceps skin fold thickness (mm)  \\\n",
       "0                                72                                35   \n",
       "1                                66                                29   \n",
       "2                                64                                 0   \n",
       "3                                66                                23   \n",
       "4                                40                                35   \n",
       "\n",
       "   2-Hour serum insulin (mu U/ml)  \\\n",
       "0                               0   \n",
       "1                               0   \n",
       "2                               0   \n",
       "3                              94   \n",
       "4                             168   \n",
       "\n",
       "   Body mass index (weight in kg/(height in m)^2)  Diabetes pedigree function  \\\n",
       "0                                            33.6                       0.627   \n",
       "1                                            26.6                       0.351   \n",
       "2                                            23.3                       0.672   \n",
       "3                                            28.1                       0.167   \n",
       "4                                            43.1                       2.288   \n",
       "\n",
       "   Age (years)  Class variable  \n",
       "0           50               1  \n",
       "1           31               0  \n",
       "2           32               1  \n",
       "3           21               0  \n",
       "4           33               1  "
      ]
     },
     "metadata": {},
     "output_type": "display_data"
    }
   ],
   "source": [
    "from pycaret.datasets import get_data\n",
    "diabetes_df = get_data('diabetes')"
   ]
  },
  {
   "cell_type": "code",
   "execution_count": 8,
   "metadata": {},
   "outputs": [
    {
     "name": "stdout",
     "output_type": "stream",
     "text": [
      " \n",
      "Setup Succesfully Completed!\n"
     ]
    },
    {
     "data": {
      "text/html": [
       "<style  type=\"text/css\" >\n",
       "</style><table id=\"T_9ab429cc_cf5b_11ea_8c73_94b86dac7f41\" ><thead>    <tr>        <th class=\"blank level0\" ></th>        <th class=\"col_heading level0 col0\" >Description</th>        <th class=\"col_heading level0 col1\" >Value</th>    </tr></thead><tbody>\n",
       "                <tr>\n",
       "                        <th id=\"T_9ab429cc_cf5b_11ea_8c73_94b86dac7f41level0_row0\" class=\"row_heading level0 row0\" >0</th>\n",
       "                        <td id=\"T_9ab429cc_cf5b_11ea_8c73_94b86dac7f41row0_col0\" class=\"data row0 col0\" >session_id</td>\n",
       "                        <td id=\"T_9ab429cc_cf5b_11ea_8c73_94b86dac7f41row0_col1\" class=\"data row0 col1\" >8017</td>\n",
       "            </tr>\n",
       "            <tr>\n",
       "                        <th id=\"T_9ab429cc_cf5b_11ea_8c73_94b86dac7f41level0_row1\" class=\"row_heading level0 row1\" >1</th>\n",
       "                        <td id=\"T_9ab429cc_cf5b_11ea_8c73_94b86dac7f41row1_col0\" class=\"data row1 col0\" >Target Type</td>\n",
       "                        <td id=\"T_9ab429cc_cf5b_11ea_8c73_94b86dac7f41row1_col1\" class=\"data row1 col1\" >Binary</td>\n",
       "            </tr>\n",
       "            <tr>\n",
       "                        <th id=\"T_9ab429cc_cf5b_11ea_8c73_94b86dac7f41level0_row2\" class=\"row_heading level0 row2\" >2</th>\n",
       "                        <td id=\"T_9ab429cc_cf5b_11ea_8c73_94b86dac7f41row2_col0\" class=\"data row2 col0\" >Label Encoded</td>\n",
       "                        <td id=\"T_9ab429cc_cf5b_11ea_8c73_94b86dac7f41row2_col1\" class=\"data row2 col1\" >None</td>\n",
       "            </tr>\n",
       "            <tr>\n",
       "                        <th id=\"T_9ab429cc_cf5b_11ea_8c73_94b86dac7f41level0_row3\" class=\"row_heading level0 row3\" >3</th>\n",
       "                        <td id=\"T_9ab429cc_cf5b_11ea_8c73_94b86dac7f41row3_col0\" class=\"data row3 col0\" >Original Data</td>\n",
       "                        <td id=\"T_9ab429cc_cf5b_11ea_8c73_94b86dac7f41row3_col1\" class=\"data row3 col1\" >(768, 9)</td>\n",
       "            </tr>\n",
       "            <tr>\n",
       "                        <th id=\"T_9ab429cc_cf5b_11ea_8c73_94b86dac7f41level0_row4\" class=\"row_heading level0 row4\" >4</th>\n",
       "                        <td id=\"T_9ab429cc_cf5b_11ea_8c73_94b86dac7f41row4_col0\" class=\"data row4 col0\" >Missing Values </td>\n",
       "                        <td id=\"T_9ab429cc_cf5b_11ea_8c73_94b86dac7f41row4_col1\" class=\"data row4 col1\" >False</td>\n",
       "            </tr>\n",
       "            <tr>\n",
       "                        <th id=\"T_9ab429cc_cf5b_11ea_8c73_94b86dac7f41level0_row5\" class=\"row_heading level0 row5\" >5</th>\n",
       "                        <td id=\"T_9ab429cc_cf5b_11ea_8c73_94b86dac7f41row5_col0\" class=\"data row5 col0\" >Numeric Features </td>\n",
       "                        <td id=\"T_9ab429cc_cf5b_11ea_8c73_94b86dac7f41row5_col1\" class=\"data row5 col1\" >7</td>\n",
       "            </tr>\n",
       "            <tr>\n",
       "                        <th id=\"T_9ab429cc_cf5b_11ea_8c73_94b86dac7f41level0_row6\" class=\"row_heading level0 row6\" >6</th>\n",
       "                        <td id=\"T_9ab429cc_cf5b_11ea_8c73_94b86dac7f41row6_col0\" class=\"data row6 col0\" >Categorical Features </td>\n",
       "                        <td id=\"T_9ab429cc_cf5b_11ea_8c73_94b86dac7f41row6_col1\" class=\"data row6 col1\" >1</td>\n",
       "            </tr>\n",
       "            <tr>\n",
       "                        <th id=\"T_9ab429cc_cf5b_11ea_8c73_94b86dac7f41level0_row7\" class=\"row_heading level0 row7\" >7</th>\n",
       "                        <td id=\"T_9ab429cc_cf5b_11ea_8c73_94b86dac7f41row7_col0\" class=\"data row7 col0\" >Ordinal Features </td>\n",
       "                        <td id=\"T_9ab429cc_cf5b_11ea_8c73_94b86dac7f41row7_col1\" class=\"data row7 col1\" >False</td>\n",
       "            </tr>\n",
       "            <tr>\n",
       "                        <th id=\"T_9ab429cc_cf5b_11ea_8c73_94b86dac7f41level0_row8\" class=\"row_heading level0 row8\" >8</th>\n",
       "                        <td id=\"T_9ab429cc_cf5b_11ea_8c73_94b86dac7f41row8_col0\" class=\"data row8 col0\" >High Cardinality Features </td>\n",
       "                        <td id=\"T_9ab429cc_cf5b_11ea_8c73_94b86dac7f41row8_col1\" class=\"data row8 col1\" >False</td>\n",
       "            </tr>\n",
       "            <tr>\n",
       "                        <th id=\"T_9ab429cc_cf5b_11ea_8c73_94b86dac7f41level0_row9\" class=\"row_heading level0 row9\" >9</th>\n",
       "                        <td id=\"T_9ab429cc_cf5b_11ea_8c73_94b86dac7f41row9_col0\" class=\"data row9 col0\" >High Cardinality Method </td>\n",
       "                        <td id=\"T_9ab429cc_cf5b_11ea_8c73_94b86dac7f41row9_col1\" class=\"data row9 col1\" >None</td>\n",
       "            </tr>\n",
       "            <tr>\n",
       "                        <th id=\"T_9ab429cc_cf5b_11ea_8c73_94b86dac7f41level0_row10\" class=\"row_heading level0 row10\" >10</th>\n",
       "                        <td id=\"T_9ab429cc_cf5b_11ea_8c73_94b86dac7f41row10_col0\" class=\"data row10 col0\" >Sampled Data</td>\n",
       "                        <td id=\"T_9ab429cc_cf5b_11ea_8c73_94b86dac7f41row10_col1\" class=\"data row10 col1\" >(768, 9)</td>\n",
       "            </tr>\n",
       "            <tr>\n",
       "                        <th id=\"T_9ab429cc_cf5b_11ea_8c73_94b86dac7f41level0_row11\" class=\"row_heading level0 row11\" >11</th>\n",
       "                        <td id=\"T_9ab429cc_cf5b_11ea_8c73_94b86dac7f41row11_col0\" class=\"data row11 col0\" >Transformed Train Set</td>\n",
       "                        <td id=\"T_9ab429cc_cf5b_11ea_8c73_94b86dac7f41row11_col1\" class=\"data row11 col1\" >(537, 24)</td>\n",
       "            </tr>\n",
       "            <tr>\n",
       "                        <th id=\"T_9ab429cc_cf5b_11ea_8c73_94b86dac7f41level0_row12\" class=\"row_heading level0 row12\" >12</th>\n",
       "                        <td id=\"T_9ab429cc_cf5b_11ea_8c73_94b86dac7f41row12_col0\" class=\"data row12 col0\" >Transformed Test Set</td>\n",
       "                        <td id=\"T_9ab429cc_cf5b_11ea_8c73_94b86dac7f41row12_col1\" class=\"data row12 col1\" >(231, 24)</td>\n",
       "            </tr>\n",
       "            <tr>\n",
       "                        <th id=\"T_9ab429cc_cf5b_11ea_8c73_94b86dac7f41level0_row13\" class=\"row_heading level0 row13\" >13</th>\n",
       "                        <td id=\"T_9ab429cc_cf5b_11ea_8c73_94b86dac7f41row13_col0\" class=\"data row13 col0\" >Numeric Imputer </td>\n",
       "                        <td id=\"T_9ab429cc_cf5b_11ea_8c73_94b86dac7f41row13_col1\" class=\"data row13 col1\" >mean</td>\n",
       "            </tr>\n",
       "            <tr>\n",
       "                        <th id=\"T_9ab429cc_cf5b_11ea_8c73_94b86dac7f41level0_row14\" class=\"row_heading level0 row14\" >14</th>\n",
       "                        <td id=\"T_9ab429cc_cf5b_11ea_8c73_94b86dac7f41row14_col0\" class=\"data row14 col0\" >Categorical Imputer </td>\n",
       "                        <td id=\"T_9ab429cc_cf5b_11ea_8c73_94b86dac7f41row14_col1\" class=\"data row14 col1\" >constant</td>\n",
       "            </tr>\n",
       "            <tr>\n",
       "                        <th id=\"T_9ab429cc_cf5b_11ea_8c73_94b86dac7f41level0_row15\" class=\"row_heading level0 row15\" >15</th>\n",
       "                        <td id=\"T_9ab429cc_cf5b_11ea_8c73_94b86dac7f41row15_col0\" class=\"data row15 col0\" >Normalize </td>\n",
       "                        <td id=\"T_9ab429cc_cf5b_11ea_8c73_94b86dac7f41row15_col1\" class=\"data row15 col1\" >False</td>\n",
       "            </tr>\n",
       "            <tr>\n",
       "                        <th id=\"T_9ab429cc_cf5b_11ea_8c73_94b86dac7f41level0_row16\" class=\"row_heading level0 row16\" >16</th>\n",
       "                        <td id=\"T_9ab429cc_cf5b_11ea_8c73_94b86dac7f41row16_col0\" class=\"data row16 col0\" >Normalize Method </td>\n",
       "                        <td id=\"T_9ab429cc_cf5b_11ea_8c73_94b86dac7f41row16_col1\" class=\"data row16 col1\" >None</td>\n",
       "            </tr>\n",
       "            <tr>\n",
       "                        <th id=\"T_9ab429cc_cf5b_11ea_8c73_94b86dac7f41level0_row17\" class=\"row_heading level0 row17\" >17</th>\n",
       "                        <td id=\"T_9ab429cc_cf5b_11ea_8c73_94b86dac7f41row17_col0\" class=\"data row17 col0\" >Transformation </td>\n",
       "                        <td id=\"T_9ab429cc_cf5b_11ea_8c73_94b86dac7f41row17_col1\" class=\"data row17 col1\" >False</td>\n",
       "            </tr>\n",
       "            <tr>\n",
       "                        <th id=\"T_9ab429cc_cf5b_11ea_8c73_94b86dac7f41level0_row18\" class=\"row_heading level0 row18\" >18</th>\n",
       "                        <td id=\"T_9ab429cc_cf5b_11ea_8c73_94b86dac7f41row18_col0\" class=\"data row18 col0\" >Transformation Method </td>\n",
       "                        <td id=\"T_9ab429cc_cf5b_11ea_8c73_94b86dac7f41row18_col1\" class=\"data row18 col1\" >None</td>\n",
       "            </tr>\n",
       "            <tr>\n",
       "                        <th id=\"T_9ab429cc_cf5b_11ea_8c73_94b86dac7f41level0_row19\" class=\"row_heading level0 row19\" >19</th>\n",
       "                        <td id=\"T_9ab429cc_cf5b_11ea_8c73_94b86dac7f41row19_col0\" class=\"data row19 col0\" >PCA </td>\n",
       "                        <td id=\"T_9ab429cc_cf5b_11ea_8c73_94b86dac7f41row19_col1\" class=\"data row19 col1\" >False</td>\n",
       "            </tr>\n",
       "            <tr>\n",
       "                        <th id=\"T_9ab429cc_cf5b_11ea_8c73_94b86dac7f41level0_row20\" class=\"row_heading level0 row20\" >20</th>\n",
       "                        <td id=\"T_9ab429cc_cf5b_11ea_8c73_94b86dac7f41row20_col0\" class=\"data row20 col0\" >PCA Method </td>\n",
       "                        <td id=\"T_9ab429cc_cf5b_11ea_8c73_94b86dac7f41row20_col1\" class=\"data row20 col1\" >None</td>\n",
       "            </tr>\n",
       "            <tr>\n",
       "                        <th id=\"T_9ab429cc_cf5b_11ea_8c73_94b86dac7f41level0_row21\" class=\"row_heading level0 row21\" >21</th>\n",
       "                        <td id=\"T_9ab429cc_cf5b_11ea_8c73_94b86dac7f41row21_col0\" class=\"data row21 col0\" >PCA Components </td>\n",
       "                        <td id=\"T_9ab429cc_cf5b_11ea_8c73_94b86dac7f41row21_col1\" class=\"data row21 col1\" >None</td>\n",
       "            </tr>\n",
       "            <tr>\n",
       "                        <th id=\"T_9ab429cc_cf5b_11ea_8c73_94b86dac7f41level0_row22\" class=\"row_heading level0 row22\" >22</th>\n",
       "                        <td id=\"T_9ab429cc_cf5b_11ea_8c73_94b86dac7f41row22_col0\" class=\"data row22 col0\" >Ignore Low Variance </td>\n",
       "                        <td id=\"T_9ab429cc_cf5b_11ea_8c73_94b86dac7f41row22_col1\" class=\"data row22 col1\" >False</td>\n",
       "            </tr>\n",
       "            <tr>\n",
       "                        <th id=\"T_9ab429cc_cf5b_11ea_8c73_94b86dac7f41level0_row23\" class=\"row_heading level0 row23\" >23</th>\n",
       "                        <td id=\"T_9ab429cc_cf5b_11ea_8c73_94b86dac7f41row23_col0\" class=\"data row23 col0\" >Combine Rare Levels </td>\n",
       "                        <td id=\"T_9ab429cc_cf5b_11ea_8c73_94b86dac7f41row23_col1\" class=\"data row23 col1\" >False</td>\n",
       "            </tr>\n",
       "            <tr>\n",
       "                        <th id=\"T_9ab429cc_cf5b_11ea_8c73_94b86dac7f41level0_row24\" class=\"row_heading level0 row24\" >24</th>\n",
       "                        <td id=\"T_9ab429cc_cf5b_11ea_8c73_94b86dac7f41row24_col0\" class=\"data row24 col0\" >Rare Level Threshold </td>\n",
       "                        <td id=\"T_9ab429cc_cf5b_11ea_8c73_94b86dac7f41row24_col1\" class=\"data row24 col1\" >None</td>\n",
       "            </tr>\n",
       "            <tr>\n",
       "                        <th id=\"T_9ab429cc_cf5b_11ea_8c73_94b86dac7f41level0_row25\" class=\"row_heading level0 row25\" >25</th>\n",
       "                        <td id=\"T_9ab429cc_cf5b_11ea_8c73_94b86dac7f41row25_col0\" class=\"data row25 col0\" >Numeric Binning </td>\n",
       "                        <td id=\"T_9ab429cc_cf5b_11ea_8c73_94b86dac7f41row25_col1\" class=\"data row25 col1\" >False</td>\n",
       "            </tr>\n",
       "            <tr>\n",
       "                        <th id=\"T_9ab429cc_cf5b_11ea_8c73_94b86dac7f41level0_row26\" class=\"row_heading level0 row26\" >26</th>\n",
       "                        <td id=\"T_9ab429cc_cf5b_11ea_8c73_94b86dac7f41row26_col0\" class=\"data row26 col0\" >Remove Outliers </td>\n",
       "                        <td id=\"T_9ab429cc_cf5b_11ea_8c73_94b86dac7f41row26_col1\" class=\"data row26 col1\" >False</td>\n",
       "            </tr>\n",
       "            <tr>\n",
       "                        <th id=\"T_9ab429cc_cf5b_11ea_8c73_94b86dac7f41level0_row27\" class=\"row_heading level0 row27\" >27</th>\n",
       "                        <td id=\"T_9ab429cc_cf5b_11ea_8c73_94b86dac7f41row27_col0\" class=\"data row27 col0\" >Outliers Threshold </td>\n",
       "                        <td id=\"T_9ab429cc_cf5b_11ea_8c73_94b86dac7f41row27_col1\" class=\"data row27 col1\" >None</td>\n",
       "            </tr>\n",
       "            <tr>\n",
       "                        <th id=\"T_9ab429cc_cf5b_11ea_8c73_94b86dac7f41level0_row28\" class=\"row_heading level0 row28\" >28</th>\n",
       "                        <td id=\"T_9ab429cc_cf5b_11ea_8c73_94b86dac7f41row28_col0\" class=\"data row28 col0\" >Remove Multicollinearity </td>\n",
       "                        <td id=\"T_9ab429cc_cf5b_11ea_8c73_94b86dac7f41row28_col1\" class=\"data row28 col1\" >False</td>\n",
       "            </tr>\n",
       "            <tr>\n",
       "                        <th id=\"T_9ab429cc_cf5b_11ea_8c73_94b86dac7f41level0_row29\" class=\"row_heading level0 row29\" >29</th>\n",
       "                        <td id=\"T_9ab429cc_cf5b_11ea_8c73_94b86dac7f41row29_col0\" class=\"data row29 col0\" >Multicollinearity Threshold </td>\n",
       "                        <td id=\"T_9ab429cc_cf5b_11ea_8c73_94b86dac7f41row29_col1\" class=\"data row29 col1\" >None</td>\n",
       "            </tr>\n",
       "            <tr>\n",
       "                        <th id=\"T_9ab429cc_cf5b_11ea_8c73_94b86dac7f41level0_row30\" class=\"row_heading level0 row30\" >30</th>\n",
       "                        <td id=\"T_9ab429cc_cf5b_11ea_8c73_94b86dac7f41row30_col0\" class=\"data row30 col0\" >Clustering </td>\n",
       "                        <td id=\"T_9ab429cc_cf5b_11ea_8c73_94b86dac7f41row30_col1\" class=\"data row30 col1\" >False</td>\n",
       "            </tr>\n",
       "            <tr>\n",
       "                        <th id=\"T_9ab429cc_cf5b_11ea_8c73_94b86dac7f41level0_row31\" class=\"row_heading level0 row31\" >31</th>\n",
       "                        <td id=\"T_9ab429cc_cf5b_11ea_8c73_94b86dac7f41row31_col0\" class=\"data row31 col0\" >Clustering Iteration </td>\n",
       "                        <td id=\"T_9ab429cc_cf5b_11ea_8c73_94b86dac7f41row31_col1\" class=\"data row31 col1\" >None</td>\n",
       "            </tr>\n",
       "            <tr>\n",
       "                        <th id=\"T_9ab429cc_cf5b_11ea_8c73_94b86dac7f41level0_row32\" class=\"row_heading level0 row32\" >32</th>\n",
       "                        <td id=\"T_9ab429cc_cf5b_11ea_8c73_94b86dac7f41row32_col0\" class=\"data row32 col0\" >Polynomial Features </td>\n",
       "                        <td id=\"T_9ab429cc_cf5b_11ea_8c73_94b86dac7f41row32_col1\" class=\"data row32 col1\" >False</td>\n",
       "            </tr>\n",
       "            <tr>\n",
       "                        <th id=\"T_9ab429cc_cf5b_11ea_8c73_94b86dac7f41level0_row33\" class=\"row_heading level0 row33\" >33</th>\n",
       "                        <td id=\"T_9ab429cc_cf5b_11ea_8c73_94b86dac7f41row33_col0\" class=\"data row33 col0\" >Polynomial Degree </td>\n",
       "                        <td id=\"T_9ab429cc_cf5b_11ea_8c73_94b86dac7f41row33_col1\" class=\"data row33 col1\" >None</td>\n",
       "            </tr>\n",
       "            <tr>\n",
       "                        <th id=\"T_9ab429cc_cf5b_11ea_8c73_94b86dac7f41level0_row34\" class=\"row_heading level0 row34\" >34</th>\n",
       "                        <td id=\"T_9ab429cc_cf5b_11ea_8c73_94b86dac7f41row34_col0\" class=\"data row34 col0\" >Trignometry Features </td>\n",
       "                        <td id=\"T_9ab429cc_cf5b_11ea_8c73_94b86dac7f41row34_col1\" class=\"data row34 col1\" >False</td>\n",
       "            </tr>\n",
       "            <tr>\n",
       "                        <th id=\"T_9ab429cc_cf5b_11ea_8c73_94b86dac7f41level0_row35\" class=\"row_heading level0 row35\" >35</th>\n",
       "                        <td id=\"T_9ab429cc_cf5b_11ea_8c73_94b86dac7f41row35_col0\" class=\"data row35 col0\" >Polynomial Threshold </td>\n",
       "                        <td id=\"T_9ab429cc_cf5b_11ea_8c73_94b86dac7f41row35_col1\" class=\"data row35 col1\" >None</td>\n",
       "            </tr>\n",
       "            <tr>\n",
       "                        <th id=\"T_9ab429cc_cf5b_11ea_8c73_94b86dac7f41level0_row36\" class=\"row_heading level0 row36\" >36</th>\n",
       "                        <td id=\"T_9ab429cc_cf5b_11ea_8c73_94b86dac7f41row36_col0\" class=\"data row36 col0\" >Group Features </td>\n",
       "                        <td id=\"T_9ab429cc_cf5b_11ea_8c73_94b86dac7f41row36_col1\" class=\"data row36 col1\" >False</td>\n",
       "            </tr>\n",
       "            <tr>\n",
       "                        <th id=\"T_9ab429cc_cf5b_11ea_8c73_94b86dac7f41level0_row37\" class=\"row_heading level0 row37\" >37</th>\n",
       "                        <td id=\"T_9ab429cc_cf5b_11ea_8c73_94b86dac7f41row37_col0\" class=\"data row37 col0\" >Feature Selection </td>\n",
       "                        <td id=\"T_9ab429cc_cf5b_11ea_8c73_94b86dac7f41row37_col1\" class=\"data row37 col1\" >False</td>\n",
       "            </tr>\n",
       "            <tr>\n",
       "                        <th id=\"T_9ab429cc_cf5b_11ea_8c73_94b86dac7f41level0_row38\" class=\"row_heading level0 row38\" >38</th>\n",
       "                        <td id=\"T_9ab429cc_cf5b_11ea_8c73_94b86dac7f41row38_col0\" class=\"data row38 col0\" >Features Selection Threshold </td>\n",
       "                        <td id=\"T_9ab429cc_cf5b_11ea_8c73_94b86dac7f41row38_col1\" class=\"data row38 col1\" >None</td>\n",
       "            </tr>\n",
       "            <tr>\n",
       "                        <th id=\"T_9ab429cc_cf5b_11ea_8c73_94b86dac7f41level0_row39\" class=\"row_heading level0 row39\" >39</th>\n",
       "                        <td id=\"T_9ab429cc_cf5b_11ea_8c73_94b86dac7f41row39_col0\" class=\"data row39 col0\" >Feature Interaction </td>\n",
       "                        <td id=\"T_9ab429cc_cf5b_11ea_8c73_94b86dac7f41row39_col1\" class=\"data row39 col1\" >False</td>\n",
       "            </tr>\n",
       "            <tr>\n",
       "                        <th id=\"T_9ab429cc_cf5b_11ea_8c73_94b86dac7f41level0_row40\" class=\"row_heading level0 row40\" >40</th>\n",
       "                        <td id=\"T_9ab429cc_cf5b_11ea_8c73_94b86dac7f41row40_col0\" class=\"data row40 col0\" >Feature Ratio </td>\n",
       "                        <td id=\"T_9ab429cc_cf5b_11ea_8c73_94b86dac7f41row40_col1\" class=\"data row40 col1\" >False</td>\n",
       "            </tr>\n",
       "            <tr>\n",
       "                        <th id=\"T_9ab429cc_cf5b_11ea_8c73_94b86dac7f41level0_row41\" class=\"row_heading level0 row41\" >41</th>\n",
       "                        <td id=\"T_9ab429cc_cf5b_11ea_8c73_94b86dac7f41row41_col0\" class=\"data row41 col0\" >Interaction Threshold </td>\n",
       "                        <td id=\"T_9ab429cc_cf5b_11ea_8c73_94b86dac7f41row41_col1\" class=\"data row41 col1\" >None</td>\n",
       "            </tr>\n",
       "    </tbody></table>"
      ],
      "text/plain": [
       "<pandas.io.formats.style.Styler at 0x2645694ac48>"
      ]
     },
     "metadata": {},
     "output_type": "display_data"
    }
   ],
   "source": [
    "from pycaret.classification import *\n",
    "clf = setup(data=diabetes_df,target='Class variable')"
   ]
  },
  {
   "cell_type": "code",
   "execution_count": 9,
   "metadata": {
    "scrolled": true
   },
   "outputs": [
    {
     "data": {
      "text/html": [
       "<style  type=\"text/css\" >\n",
       "    #T_0829b1e8_cf5c_11ea_9907_94b86dac7f41 th {\n",
       "          text-align: left;\n",
       "    }    #T_0829b1e8_cf5c_11ea_9907_94b86dac7f41row0_col0 {\n",
       "            text-align:  left;\n",
       "        }    #T_0829b1e8_cf5c_11ea_9907_94b86dac7f41row0_col1 {\n",
       "            background-color:  yellow;\n",
       "            text-align:  left;\n",
       "        }    #T_0829b1e8_cf5c_11ea_9907_94b86dac7f41row0_col2 {\n",
       "            background-color:  yellow;\n",
       "            text-align:  left;\n",
       "        }    #T_0829b1e8_cf5c_11ea_9907_94b86dac7f41row0_col3 {\n",
       "            background-color:  yellow;\n",
       "            text-align:  left;\n",
       "        }    #T_0829b1e8_cf5c_11ea_9907_94b86dac7f41row0_col4 {\n",
       "            : ;\n",
       "            text-align:  left;\n",
       "        }    #T_0829b1e8_cf5c_11ea_9907_94b86dac7f41row0_col5 {\n",
       "            background-color:  yellow;\n",
       "            text-align:  left;\n",
       "        }    #T_0829b1e8_cf5c_11ea_9907_94b86dac7f41row0_col6 {\n",
       "            background-color:  yellow;\n",
       "            text-align:  left;\n",
       "        }    #T_0829b1e8_cf5c_11ea_9907_94b86dac7f41row1_col0 {\n",
       "            text-align:  left;\n",
       "        }    #T_0829b1e8_cf5c_11ea_9907_94b86dac7f41row1_col1 {\n",
       "            : ;\n",
       "            text-align:  left;\n",
       "        }    #T_0829b1e8_cf5c_11ea_9907_94b86dac7f41row1_col2 {\n",
       "            : ;\n",
       "            text-align:  left;\n",
       "        }    #T_0829b1e8_cf5c_11ea_9907_94b86dac7f41row1_col3 {\n",
       "            : ;\n",
       "            text-align:  left;\n",
       "        }    #T_0829b1e8_cf5c_11ea_9907_94b86dac7f41row1_col4 {\n",
       "            background-color:  yellow;\n",
       "            text-align:  left;\n",
       "        }    #T_0829b1e8_cf5c_11ea_9907_94b86dac7f41row1_col5 {\n",
       "            : ;\n",
       "            text-align:  left;\n",
       "        }    #T_0829b1e8_cf5c_11ea_9907_94b86dac7f41row1_col6 {\n",
       "            : ;\n",
       "            text-align:  left;\n",
       "        }    #T_0829b1e8_cf5c_11ea_9907_94b86dac7f41row2_col0 {\n",
       "            text-align:  left;\n",
       "        }    #T_0829b1e8_cf5c_11ea_9907_94b86dac7f41row2_col1 {\n",
       "            : ;\n",
       "            text-align:  left;\n",
       "        }    #T_0829b1e8_cf5c_11ea_9907_94b86dac7f41row2_col2 {\n",
       "            : ;\n",
       "            text-align:  left;\n",
       "        }    #T_0829b1e8_cf5c_11ea_9907_94b86dac7f41row2_col3 {\n",
       "            : ;\n",
       "            text-align:  left;\n",
       "        }    #T_0829b1e8_cf5c_11ea_9907_94b86dac7f41row2_col4 {\n",
       "            : ;\n",
       "            text-align:  left;\n",
       "        }    #T_0829b1e8_cf5c_11ea_9907_94b86dac7f41row2_col5 {\n",
       "            : ;\n",
       "            text-align:  left;\n",
       "        }    #T_0829b1e8_cf5c_11ea_9907_94b86dac7f41row2_col6 {\n",
       "            : ;\n",
       "            text-align:  left;\n",
       "        }    #T_0829b1e8_cf5c_11ea_9907_94b86dac7f41row3_col0 {\n",
       "            text-align:  left;\n",
       "        }    #T_0829b1e8_cf5c_11ea_9907_94b86dac7f41row3_col1 {\n",
       "            : ;\n",
       "            text-align:  left;\n",
       "        }    #T_0829b1e8_cf5c_11ea_9907_94b86dac7f41row3_col2 {\n",
       "            : ;\n",
       "            text-align:  left;\n",
       "        }    #T_0829b1e8_cf5c_11ea_9907_94b86dac7f41row3_col3 {\n",
       "            : ;\n",
       "            text-align:  left;\n",
       "        }    #T_0829b1e8_cf5c_11ea_9907_94b86dac7f41row3_col4 {\n",
       "            : ;\n",
       "            text-align:  left;\n",
       "        }    #T_0829b1e8_cf5c_11ea_9907_94b86dac7f41row3_col5 {\n",
       "            : ;\n",
       "            text-align:  left;\n",
       "        }    #T_0829b1e8_cf5c_11ea_9907_94b86dac7f41row3_col6 {\n",
       "            : ;\n",
       "            text-align:  left;\n",
       "        }    #T_0829b1e8_cf5c_11ea_9907_94b86dac7f41row4_col0 {\n",
       "            text-align:  left;\n",
       "        }    #T_0829b1e8_cf5c_11ea_9907_94b86dac7f41row4_col1 {\n",
       "            : ;\n",
       "            text-align:  left;\n",
       "        }    #T_0829b1e8_cf5c_11ea_9907_94b86dac7f41row4_col2 {\n",
       "            : ;\n",
       "            text-align:  left;\n",
       "        }    #T_0829b1e8_cf5c_11ea_9907_94b86dac7f41row4_col3 {\n",
       "            : ;\n",
       "            text-align:  left;\n",
       "        }    #T_0829b1e8_cf5c_11ea_9907_94b86dac7f41row4_col4 {\n",
       "            : ;\n",
       "            text-align:  left;\n",
       "        }    #T_0829b1e8_cf5c_11ea_9907_94b86dac7f41row4_col5 {\n",
       "            : ;\n",
       "            text-align:  left;\n",
       "        }    #T_0829b1e8_cf5c_11ea_9907_94b86dac7f41row4_col6 {\n",
       "            : ;\n",
       "            text-align:  left;\n",
       "        }    #T_0829b1e8_cf5c_11ea_9907_94b86dac7f41row5_col0 {\n",
       "            text-align:  left;\n",
       "        }    #T_0829b1e8_cf5c_11ea_9907_94b86dac7f41row5_col1 {\n",
       "            : ;\n",
       "            text-align:  left;\n",
       "        }    #T_0829b1e8_cf5c_11ea_9907_94b86dac7f41row5_col2 {\n",
       "            : ;\n",
       "            text-align:  left;\n",
       "        }    #T_0829b1e8_cf5c_11ea_9907_94b86dac7f41row5_col3 {\n",
       "            : ;\n",
       "            text-align:  left;\n",
       "        }    #T_0829b1e8_cf5c_11ea_9907_94b86dac7f41row5_col4 {\n",
       "            : ;\n",
       "            text-align:  left;\n",
       "        }    #T_0829b1e8_cf5c_11ea_9907_94b86dac7f41row5_col5 {\n",
       "            : ;\n",
       "            text-align:  left;\n",
       "        }    #T_0829b1e8_cf5c_11ea_9907_94b86dac7f41row5_col6 {\n",
       "            : ;\n",
       "            text-align:  left;\n",
       "        }    #T_0829b1e8_cf5c_11ea_9907_94b86dac7f41row6_col0 {\n",
       "            text-align:  left;\n",
       "        }    #T_0829b1e8_cf5c_11ea_9907_94b86dac7f41row6_col1 {\n",
       "            : ;\n",
       "            text-align:  left;\n",
       "        }    #T_0829b1e8_cf5c_11ea_9907_94b86dac7f41row6_col2 {\n",
       "            : ;\n",
       "            text-align:  left;\n",
       "        }    #T_0829b1e8_cf5c_11ea_9907_94b86dac7f41row6_col3 {\n",
       "            : ;\n",
       "            text-align:  left;\n",
       "        }    #T_0829b1e8_cf5c_11ea_9907_94b86dac7f41row6_col4 {\n",
       "            : ;\n",
       "            text-align:  left;\n",
       "        }    #T_0829b1e8_cf5c_11ea_9907_94b86dac7f41row6_col5 {\n",
       "            : ;\n",
       "            text-align:  left;\n",
       "        }    #T_0829b1e8_cf5c_11ea_9907_94b86dac7f41row6_col6 {\n",
       "            : ;\n",
       "            text-align:  left;\n",
       "        }    #T_0829b1e8_cf5c_11ea_9907_94b86dac7f41row7_col0 {\n",
       "            text-align:  left;\n",
       "        }    #T_0829b1e8_cf5c_11ea_9907_94b86dac7f41row7_col1 {\n",
       "            : ;\n",
       "            text-align:  left;\n",
       "        }    #T_0829b1e8_cf5c_11ea_9907_94b86dac7f41row7_col2 {\n",
       "            : ;\n",
       "            text-align:  left;\n",
       "        }    #T_0829b1e8_cf5c_11ea_9907_94b86dac7f41row7_col3 {\n",
       "            : ;\n",
       "            text-align:  left;\n",
       "        }    #T_0829b1e8_cf5c_11ea_9907_94b86dac7f41row7_col4 {\n",
       "            : ;\n",
       "            text-align:  left;\n",
       "        }    #T_0829b1e8_cf5c_11ea_9907_94b86dac7f41row7_col5 {\n",
       "            : ;\n",
       "            text-align:  left;\n",
       "        }    #T_0829b1e8_cf5c_11ea_9907_94b86dac7f41row7_col6 {\n",
       "            : ;\n",
       "            text-align:  left;\n",
       "        }    #T_0829b1e8_cf5c_11ea_9907_94b86dac7f41row8_col0 {\n",
       "            text-align:  left;\n",
       "        }    #T_0829b1e8_cf5c_11ea_9907_94b86dac7f41row8_col1 {\n",
       "            : ;\n",
       "            text-align:  left;\n",
       "        }    #T_0829b1e8_cf5c_11ea_9907_94b86dac7f41row8_col2 {\n",
       "            : ;\n",
       "            text-align:  left;\n",
       "        }    #T_0829b1e8_cf5c_11ea_9907_94b86dac7f41row8_col3 {\n",
       "            : ;\n",
       "            text-align:  left;\n",
       "        }    #T_0829b1e8_cf5c_11ea_9907_94b86dac7f41row8_col4 {\n",
       "            : ;\n",
       "            text-align:  left;\n",
       "        }    #T_0829b1e8_cf5c_11ea_9907_94b86dac7f41row8_col5 {\n",
       "            : ;\n",
       "            text-align:  left;\n",
       "        }    #T_0829b1e8_cf5c_11ea_9907_94b86dac7f41row8_col6 {\n",
       "            : ;\n",
       "            text-align:  left;\n",
       "        }    #T_0829b1e8_cf5c_11ea_9907_94b86dac7f41row9_col0 {\n",
       "            text-align:  left;\n",
       "        }    #T_0829b1e8_cf5c_11ea_9907_94b86dac7f41row9_col1 {\n",
       "            : ;\n",
       "            text-align:  left;\n",
       "        }    #T_0829b1e8_cf5c_11ea_9907_94b86dac7f41row9_col2 {\n",
       "            : ;\n",
       "            text-align:  left;\n",
       "        }    #T_0829b1e8_cf5c_11ea_9907_94b86dac7f41row9_col3 {\n",
       "            : ;\n",
       "            text-align:  left;\n",
       "        }    #T_0829b1e8_cf5c_11ea_9907_94b86dac7f41row9_col4 {\n",
       "            : ;\n",
       "            text-align:  left;\n",
       "        }    #T_0829b1e8_cf5c_11ea_9907_94b86dac7f41row9_col5 {\n",
       "            : ;\n",
       "            text-align:  left;\n",
       "        }    #T_0829b1e8_cf5c_11ea_9907_94b86dac7f41row9_col6 {\n",
       "            : ;\n",
       "            text-align:  left;\n",
       "        }    #T_0829b1e8_cf5c_11ea_9907_94b86dac7f41row10_col0 {\n",
       "            text-align:  left;\n",
       "        }    #T_0829b1e8_cf5c_11ea_9907_94b86dac7f41row10_col1 {\n",
       "            : ;\n",
       "            text-align:  left;\n",
       "        }    #T_0829b1e8_cf5c_11ea_9907_94b86dac7f41row10_col2 {\n",
       "            : ;\n",
       "            text-align:  left;\n",
       "        }    #T_0829b1e8_cf5c_11ea_9907_94b86dac7f41row10_col3 {\n",
       "            : ;\n",
       "            text-align:  left;\n",
       "        }    #T_0829b1e8_cf5c_11ea_9907_94b86dac7f41row10_col4 {\n",
       "            : ;\n",
       "            text-align:  left;\n",
       "        }    #T_0829b1e8_cf5c_11ea_9907_94b86dac7f41row10_col5 {\n",
       "            : ;\n",
       "            text-align:  left;\n",
       "        }    #T_0829b1e8_cf5c_11ea_9907_94b86dac7f41row10_col6 {\n",
       "            : ;\n",
       "            text-align:  left;\n",
       "        }    #T_0829b1e8_cf5c_11ea_9907_94b86dac7f41row11_col0 {\n",
       "            text-align:  left;\n",
       "        }    #T_0829b1e8_cf5c_11ea_9907_94b86dac7f41row11_col1 {\n",
       "            : ;\n",
       "            text-align:  left;\n",
       "        }    #T_0829b1e8_cf5c_11ea_9907_94b86dac7f41row11_col2 {\n",
       "            : ;\n",
       "            text-align:  left;\n",
       "        }    #T_0829b1e8_cf5c_11ea_9907_94b86dac7f41row11_col3 {\n",
       "            : ;\n",
       "            text-align:  left;\n",
       "        }    #T_0829b1e8_cf5c_11ea_9907_94b86dac7f41row11_col4 {\n",
       "            : ;\n",
       "            text-align:  left;\n",
       "        }    #T_0829b1e8_cf5c_11ea_9907_94b86dac7f41row11_col5 {\n",
       "            : ;\n",
       "            text-align:  left;\n",
       "        }    #T_0829b1e8_cf5c_11ea_9907_94b86dac7f41row11_col6 {\n",
       "            : ;\n",
       "            text-align:  left;\n",
       "        }    #T_0829b1e8_cf5c_11ea_9907_94b86dac7f41row12_col0 {\n",
       "            text-align:  left;\n",
       "        }    #T_0829b1e8_cf5c_11ea_9907_94b86dac7f41row12_col1 {\n",
       "            : ;\n",
       "            text-align:  left;\n",
       "        }    #T_0829b1e8_cf5c_11ea_9907_94b86dac7f41row12_col2 {\n",
       "            : ;\n",
       "            text-align:  left;\n",
       "        }    #T_0829b1e8_cf5c_11ea_9907_94b86dac7f41row12_col3 {\n",
       "            : ;\n",
       "            text-align:  left;\n",
       "        }    #T_0829b1e8_cf5c_11ea_9907_94b86dac7f41row12_col4 {\n",
       "            : ;\n",
       "            text-align:  left;\n",
       "        }    #T_0829b1e8_cf5c_11ea_9907_94b86dac7f41row12_col5 {\n",
       "            : ;\n",
       "            text-align:  left;\n",
       "        }    #T_0829b1e8_cf5c_11ea_9907_94b86dac7f41row12_col6 {\n",
       "            : ;\n",
       "            text-align:  left;\n",
       "        }    #T_0829b1e8_cf5c_11ea_9907_94b86dac7f41row13_col0 {\n",
       "            text-align:  left;\n",
       "        }    #T_0829b1e8_cf5c_11ea_9907_94b86dac7f41row13_col1 {\n",
       "            : ;\n",
       "            text-align:  left;\n",
       "        }    #T_0829b1e8_cf5c_11ea_9907_94b86dac7f41row13_col2 {\n",
       "            : ;\n",
       "            text-align:  left;\n",
       "        }    #T_0829b1e8_cf5c_11ea_9907_94b86dac7f41row13_col3 {\n",
       "            : ;\n",
       "            text-align:  left;\n",
       "        }    #T_0829b1e8_cf5c_11ea_9907_94b86dac7f41row13_col4 {\n",
       "            : ;\n",
       "            text-align:  left;\n",
       "        }    #T_0829b1e8_cf5c_11ea_9907_94b86dac7f41row13_col5 {\n",
       "            : ;\n",
       "            text-align:  left;\n",
       "        }    #T_0829b1e8_cf5c_11ea_9907_94b86dac7f41row13_col6 {\n",
       "            : ;\n",
       "            text-align:  left;\n",
       "        }    #T_0829b1e8_cf5c_11ea_9907_94b86dac7f41row14_col0 {\n",
       "            text-align:  left;\n",
       "        }    #T_0829b1e8_cf5c_11ea_9907_94b86dac7f41row14_col1 {\n",
       "            : ;\n",
       "            text-align:  left;\n",
       "        }    #T_0829b1e8_cf5c_11ea_9907_94b86dac7f41row14_col2 {\n",
       "            : ;\n",
       "            text-align:  left;\n",
       "        }    #T_0829b1e8_cf5c_11ea_9907_94b86dac7f41row14_col3 {\n",
       "            : ;\n",
       "            text-align:  left;\n",
       "        }    #T_0829b1e8_cf5c_11ea_9907_94b86dac7f41row14_col4 {\n",
       "            : ;\n",
       "            text-align:  left;\n",
       "        }    #T_0829b1e8_cf5c_11ea_9907_94b86dac7f41row14_col5 {\n",
       "            : ;\n",
       "            text-align:  left;\n",
       "        }    #T_0829b1e8_cf5c_11ea_9907_94b86dac7f41row14_col6 {\n",
       "            : ;\n",
       "            text-align:  left;\n",
       "        }</style><table id=\"T_0829b1e8_cf5c_11ea_9907_94b86dac7f41\" ><thead>    <tr>        <th class=\"blank level0\" ></th>        <th class=\"col_heading level0 col0\" >Model</th>        <th class=\"col_heading level0 col1\" >Accuracy</th>        <th class=\"col_heading level0 col2\" >AUC</th>        <th class=\"col_heading level0 col3\" >Recall</th>        <th class=\"col_heading level0 col4\" >Prec.</th>        <th class=\"col_heading level0 col5\" >F1</th>        <th class=\"col_heading level0 col6\" >Kappa</th>    </tr></thead><tbody>\n",
       "                <tr>\n",
       "                        <th id=\"T_0829b1e8_cf5c_11ea_9907_94b86dac7f41level0_row0\" class=\"row_heading level0 row0\" >0</th>\n",
       "                        <td id=\"T_0829b1e8_cf5c_11ea_9907_94b86dac7f41row0_col0\" class=\"data row0 col0\" >Extreme Gradient Boosting</td>\n",
       "                        <td id=\"T_0829b1e8_cf5c_11ea_9907_94b86dac7f41row0_col1\" class=\"data row0 col1\" >0.782300</td>\n",
       "                        <td id=\"T_0829b1e8_cf5c_11ea_9907_94b86dac7f41row0_col2\" class=\"data row0 col2\" >0.828100</td>\n",
       "                        <td id=\"T_0829b1e8_cf5c_11ea_9907_94b86dac7f41row0_col3\" class=\"data row0 col3\" >0.631300</td>\n",
       "                        <td id=\"T_0829b1e8_cf5c_11ea_9907_94b86dac7f41row0_col4\" class=\"data row0 col4\" >0.710000</td>\n",
       "                        <td id=\"T_0829b1e8_cf5c_11ea_9907_94b86dac7f41row0_col5\" class=\"data row0 col5\" >0.665500</td>\n",
       "                        <td id=\"T_0829b1e8_cf5c_11ea_9907_94b86dac7f41row0_col6\" class=\"data row0 col6\" >0.505600</td>\n",
       "            </tr>\n",
       "            <tr>\n",
       "                        <th id=\"T_0829b1e8_cf5c_11ea_9907_94b86dac7f41level0_row1\" class=\"row_heading level0 row1\" >1</th>\n",
       "                        <td id=\"T_0829b1e8_cf5c_11ea_9907_94b86dac7f41row1_col0\" class=\"data row1 col0\" >CatBoost Classifier</td>\n",
       "                        <td id=\"T_0829b1e8_cf5c_11ea_9907_94b86dac7f41row1_col1\" class=\"data row1 col1\" >0.776600</td>\n",
       "                        <td id=\"T_0829b1e8_cf5c_11ea_9907_94b86dac7f41row1_col2\" class=\"data row1 col2\" >0.826000</td>\n",
       "                        <td id=\"T_0829b1e8_cf5c_11ea_9907_94b86dac7f41row1_col3\" class=\"data row1 col3\" >0.614300</td>\n",
       "                        <td id=\"T_0829b1e8_cf5c_11ea_9907_94b86dac7f41row1_col4\" class=\"data row1 col4\" >0.719300</td>\n",
       "                        <td id=\"T_0829b1e8_cf5c_11ea_9907_94b86dac7f41row1_col5\" class=\"data row1 col5\" >0.652000</td>\n",
       "                        <td id=\"T_0829b1e8_cf5c_11ea_9907_94b86dac7f41row1_col6\" class=\"data row1 col6\" >0.490800</td>\n",
       "            </tr>\n",
       "            <tr>\n",
       "                        <th id=\"T_0829b1e8_cf5c_11ea_9907_94b86dac7f41level0_row2\" class=\"row_heading level0 row2\" >2</th>\n",
       "                        <td id=\"T_0829b1e8_cf5c_11ea_9907_94b86dac7f41row2_col0\" class=\"data row2 col0\" >Gradient Boosting Classifier</td>\n",
       "                        <td id=\"T_0829b1e8_cf5c_11ea_9907_94b86dac7f41row2_col1\" class=\"data row2 col1\" >0.769100</td>\n",
       "                        <td id=\"T_0829b1e8_cf5c_11ea_9907_94b86dac7f41row2_col2\" class=\"data row2 col2\" >0.824400</td>\n",
       "                        <td id=\"T_0829b1e8_cf5c_11ea_9907_94b86dac7f41row2_col3\" class=\"data row2 col3\" >0.604100</td>\n",
       "                        <td id=\"T_0829b1e8_cf5c_11ea_9907_94b86dac7f41row2_col4\" class=\"data row2 col4\" >0.701300</td>\n",
       "                        <td id=\"T_0829b1e8_cf5c_11ea_9907_94b86dac7f41row2_col5\" class=\"data row2 col5\" >0.644800</td>\n",
       "                        <td id=\"T_0829b1e8_cf5c_11ea_9907_94b86dac7f41row2_col6\" class=\"data row2 col6\" >0.475800</td>\n",
       "            </tr>\n",
       "            <tr>\n",
       "                        <th id=\"T_0829b1e8_cf5c_11ea_9907_94b86dac7f41level0_row3\" class=\"row_heading level0 row3\" >3</th>\n",
       "                        <td id=\"T_0829b1e8_cf5c_11ea_9907_94b86dac7f41row3_col0\" class=\"data row3 col0\" >Logistic Regression</td>\n",
       "                        <td id=\"T_0829b1e8_cf5c_11ea_9907_94b86dac7f41row3_col1\" class=\"data row3 col1\" >0.767100</td>\n",
       "                        <td id=\"T_0829b1e8_cf5c_11ea_9907_94b86dac7f41row3_col2\" class=\"data row3 col2\" >0.820600</td>\n",
       "                        <td id=\"T_0829b1e8_cf5c_11ea_9907_94b86dac7f41row3_col3\" class=\"data row3 col3\" >0.549100</td>\n",
       "                        <td id=\"T_0829b1e8_cf5c_11ea_9907_94b86dac7f41row3_col4\" class=\"data row3 col4\" >0.715700</td>\n",
       "                        <td id=\"T_0829b1e8_cf5c_11ea_9907_94b86dac7f41row3_col5\" class=\"data row3 col5\" >0.617700</td>\n",
       "                        <td id=\"T_0829b1e8_cf5c_11ea_9907_94b86dac7f41row3_col6\" class=\"data row3 col6\" >0.455300</td>\n",
       "            </tr>\n",
       "            <tr>\n",
       "                        <th id=\"T_0829b1e8_cf5c_11ea_9907_94b86dac7f41level0_row4\" class=\"row_heading level0 row4\" >4</th>\n",
       "                        <td id=\"T_0829b1e8_cf5c_11ea_9907_94b86dac7f41row4_col0\" class=\"data row4 col0\" >Light Gradient Boosting Machine</td>\n",
       "                        <td id=\"T_0829b1e8_cf5c_11ea_9907_94b86dac7f41row4_col1\" class=\"data row4 col1\" >0.763600</td>\n",
       "                        <td id=\"T_0829b1e8_cf5c_11ea_9907_94b86dac7f41row4_col2\" class=\"data row4 col2\" >0.814800</td>\n",
       "                        <td id=\"T_0829b1e8_cf5c_11ea_9907_94b86dac7f41row4_col3\" class=\"data row4 col3\" >0.604400</td>\n",
       "                        <td id=\"T_0829b1e8_cf5c_11ea_9907_94b86dac7f41row4_col4\" class=\"data row4 col4\" >0.687400</td>\n",
       "                        <td id=\"T_0829b1e8_cf5c_11ea_9907_94b86dac7f41row4_col5\" class=\"data row4 col5\" >0.639400</td>\n",
       "                        <td id=\"T_0829b1e8_cf5c_11ea_9907_94b86dac7f41row4_col6\" class=\"data row4 col6\" >0.465200</td>\n",
       "            </tr>\n",
       "            <tr>\n",
       "                        <th id=\"T_0829b1e8_cf5c_11ea_9907_94b86dac7f41level0_row5\" class=\"row_heading level0 row5\" >5</th>\n",
       "                        <td id=\"T_0829b1e8_cf5c_11ea_9907_94b86dac7f41row5_col0\" class=\"data row5 col0\" >Ridge Classifier</td>\n",
       "                        <td id=\"T_0829b1e8_cf5c_11ea_9907_94b86dac7f41row5_col1\" class=\"data row5 col1\" >0.759700</td>\n",
       "                        <td id=\"T_0829b1e8_cf5c_11ea_9907_94b86dac7f41row5_col2\" class=\"data row5 col2\" >0.000000</td>\n",
       "                        <td id=\"T_0829b1e8_cf5c_11ea_9907_94b86dac7f41row5_col3\" class=\"data row5 col3\" >0.528100</td>\n",
       "                        <td id=\"T_0829b1e8_cf5c_11ea_9907_94b86dac7f41row5_col4\" class=\"data row5 col4\" >0.715700</td>\n",
       "                        <td id=\"T_0829b1e8_cf5c_11ea_9907_94b86dac7f41row5_col5\" class=\"data row5 col5\" >0.600500</td>\n",
       "                        <td id=\"T_0829b1e8_cf5c_11ea_9907_94b86dac7f41row5_col6\" class=\"data row5 col6\" >0.435600</td>\n",
       "            </tr>\n",
       "            <tr>\n",
       "                        <th id=\"T_0829b1e8_cf5c_11ea_9907_94b86dac7f41level0_row6\" class=\"row_heading level0 row6\" >6</th>\n",
       "                        <td id=\"T_0829b1e8_cf5c_11ea_9907_94b86dac7f41row6_col0\" class=\"data row6 col0\" >Ada Boost Classifier</td>\n",
       "                        <td id=\"T_0829b1e8_cf5c_11ea_9907_94b86dac7f41row6_col1\" class=\"data row6 col1\" >0.757900</td>\n",
       "                        <td id=\"T_0829b1e8_cf5c_11ea_9907_94b86dac7f41row6_col2\" class=\"data row6 col2\" >0.797600</td>\n",
       "                        <td id=\"T_0829b1e8_cf5c_11ea_9907_94b86dac7f41row6_col3\" class=\"data row6 col3\" >0.603200</td>\n",
       "                        <td id=\"T_0829b1e8_cf5c_11ea_9907_94b86dac7f41row6_col4\" class=\"data row6 col4\" >0.673300</td>\n",
       "                        <td id=\"T_0829b1e8_cf5c_11ea_9907_94b86dac7f41row6_col5\" class=\"data row6 col5\" >0.631900</td>\n",
       "                        <td id=\"T_0829b1e8_cf5c_11ea_9907_94b86dac7f41row6_col6\" class=\"data row6 col6\" >0.453200</td>\n",
       "            </tr>\n",
       "            <tr>\n",
       "                        <th id=\"T_0829b1e8_cf5c_11ea_9907_94b86dac7f41level0_row7\" class=\"row_heading level0 row7\" >7</th>\n",
       "                        <td id=\"T_0829b1e8_cf5c_11ea_9907_94b86dac7f41row7_col0\" class=\"data row7 col0\" >Linear Discriminant Analysis</td>\n",
       "                        <td id=\"T_0829b1e8_cf5c_11ea_9907_94b86dac7f41row7_col1\" class=\"data row7 col1\" >0.754200</td>\n",
       "                        <td id=\"T_0829b1e8_cf5c_11ea_9907_94b86dac7f41row7_col2\" class=\"data row7 col2\" >0.822000</td>\n",
       "                        <td id=\"T_0829b1e8_cf5c_11ea_9907_94b86dac7f41row7_col3\" class=\"data row7 col3\" >0.533300</td>\n",
       "                        <td id=\"T_0829b1e8_cf5c_11ea_9907_94b86dac7f41row7_col4\" class=\"data row7 col4\" >0.699400</td>\n",
       "                        <td id=\"T_0829b1e8_cf5c_11ea_9907_94b86dac7f41row7_col5\" class=\"data row7 col5\" >0.598400</td>\n",
       "                        <td id=\"T_0829b1e8_cf5c_11ea_9907_94b86dac7f41row7_col6\" class=\"data row7 col6\" >0.426800</td>\n",
       "            </tr>\n",
       "            <tr>\n",
       "                        <th id=\"T_0829b1e8_cf5c_11ea_9907_94b86dac7f41level0_row8\" class=\"row_heading level0 row8\" >8</th>\n",
       "                        <td id=\"T_0829b1e8_cf5c_11ea_9907_94b86dac7f41row8_col0\" class=\"data row8 col0\" >Extra Trees Classifier</td>\n",
       "                        <td id=\"T_0829b1e8_cf5c_11ea_9907_94b86dac7f41row8_col1\" class=\"data row8 col1\" >0.744800</td>\n",
       "                        <td id=\"T_0829b1e8_cf5c_11ea_9907_94b86dac7f41row8_col2\" class=\"data row8 col2\" >0.799700</td>\n",
       "                        <td id=\"T_0829b1e8_cf5c_11ea_9907_94b86dac7f41row8_col3\" class=\"data row8 col3\" >0.517500</td>\n",
       "                        <td id=\"T_0829b1e8_cf5c_11ea_9907_94b86dac7f41row8_col4\" class=\"data row8 col4\" >0.689200</td>\n",
       "                        <td id=\"T_0829b1e8_cf5c_11ea_9907_94b86dac7f41row8_col5\" class=\"data row8 col5\" >0.584800</td>\n",
       "                        <td id=\"T_0829b1e8_cf5c_11ea_9907_94b86dac7f41row8_col6\" class=\"data row8 col6\" >0.406100</td>\n",
       "            </tr>\n",
       "            <tr>\n",
       "                        <th id=\"T_0829b1e8_cf5c_11ea_9907_94b86dac7f41level0_row9\" class=\"row_heading level0 row9\" >9</th>\n",
       "                        <td id=\"T_0829b1e8_cf5c_11ea_9907_94b86dac7f41row9_col0\" class=\"data row9 col0\" >Random Forest Classifier</td>\n",
       "                        <td id=\"T_0829b1e8_cf5c_11ea_9907_94b86dac7f41row9_col1\" class=\"data row9 col1\" >0.731900</td>\n",
       "                        <td id=\"T_0829b1e8_cf5c_11ea_9907_94b86dac7f41row9_col2\" class=\"data row9 col2\" >0.790100</td>\n",
       "                        <td id=\"T_0829b1e8_cf5c_11ea_9907_94b86dac7f41row9_col3\" class=\"data row9 col3\" >0.465800</td>\n",
       "                        <td id=\"T_0829b1e8_cf5c_11ea_9907_94b86dac7f41row9_col4\" class=\"data row9 col4\" >0.673400</td>\n",
       "                        <td id=\"T_0829b1e8_cf5c_11ea_9907_94b86dac7f41row9_col5\" class=\"data row9 col5\" >0.539300</td>\n",
       "                        <td id=\"T_0829b1e8_cf5c_11ea_9907_94b86dac7f41row9_col6\" class=\"data row9 col6\" >0.362900</td>\n",
       "            </tr>\n",
       "            <tr>\n",
       "                        <th id=\"T_0829b1e8_cf5c_11ea_9907_94b86dac7f41level0_row10\" class=\"row_heading level0 row10\" >10</th>\n",
       "                        <td id=\"T_0829b1e8_cf5c_11ea_9907_94b86dac7f41row10_col0\" class=\"data row10 col0\" >K Neighbors Classifier</td>\n",
       "                        <td id=\"T_0829b1e8_cf5c_11ea_9907_94b86dac7f41row10_col1\" class=\"data row10 col1\" >0.726300</td>\n",
       "                        <td id=\"T_0829b1e8_cf5c_11ea_9907_94b86dac7f41row10_col2\" class=\"data row10 col2\" >0.740500</td>\n",
       "                        <td id=\"T_0829b1e8_cf5c_11ea_9907_94b86dac7f41row10_col3\" class=\"data row10 col3\" >0.522800</td>\n",
       "                        <td id=\"T_0829b1e8_cf5c_11ea_9907_94b86dac7f41row10_col4\" class=\"data row10 col4\" >0.636600</td>\n",
       "                        <td id=\"T_0829b1e8_cf5c_11ea_9907_94b86dac7f41row10_col5\" class=\"data row10 col5\" >0.567500</td>\n",
       "                        <td id=\"T_0829b1e8_cf5c_11ea_9907_94b86dac7f41row10_col6\" class=\"data row10 col6\" >0.371500</td>\n",
       "            </tr>\n",
       "            <tr>\n",
       "                        <th id=\"T_0829b1e8_cf5c_11ea_9907_94b86dac7f41level0_row11\" class=\"row_heading level0 row11\" >11</th>\n",
       "                        <td id=\"T_0829b1e8_cf5c_11ea_9907_94b86dac7f41row11_col0\" class=\"data row11 col0\" >Decision Tree Classifier</td>\n",
       "                        <td id=\"T_0829b1e8_cf5c_11ea_9907_94b86dac7f41row11_col1\" class=\"data row11 col1\" >0.704000</td>\n",
       "                        <td id=\"T_0829b1e8_cf5c_11ea_9907_94b86dac7f41row11_col2\" class=\"data row11 col2\" >0.681800</td>\n",
       "                        <td id=\"T_0829b1e8_cf5c_11ea_9907_94b86dac7f41row11_col3\" class=\"data row11 col3\" >0.609400</td>\n",
       "                        <td id=\"T_0829b1e8_cf5c_11ea_9907_94b86dac7f41row11_col4\" class=\"data row11 col4\" >0.576000</td>\n",
       "                        <td id=\"T_0829b1e8_cf5c_11ea_9907_94b86dac7f41row11_col5\" class=\"data row11 col5\" >0.590500</td>\n",
       "                        <td id=\"T_0829b1e8_cf5c_11ea_9907_94b86dac7f41row11_col6\" class=\"data row11 col6\" >0.359600</td>\n",
       "            </tr>\n",
       "            <tr>\n",
       "                        <th id=\"T_0829b1e8_cf5c_11ea_9907_94b86dac7f41level0_row12\" class=\"row_heading level0 row12\" >12</th>\n",
       "                        <td id=\"T_0829b1e8_cf5c_11ea_9907_94b86dac7f41row12_col0\" class=\"data row12 col0\" >Naive Bayes</td>\n",
       "                        <td id=\"T_0829b1e8_cf5c_11ea_9907_94b86dac7f41row12_col1\" class=\"data row12 col1\" >0.677800</td>\n",
       "                        <td id=\"T_0829b1e8_cf5c_11ea_9907_94b86dac7f41row12_col2\" class=\"data row12 col2\" >0.738600</td>\n",
       "                        <td id=\"T_0829b1e8_cf5c_11ea_9907_94b86dac7f41row12_col3\" class=\"data row12 col3\" >0.255800</td>\n",
       "                        <td id=\"T_0829b1e8_cf5c_11ea_9907_94b86dac7f41row12_col4\" class=\"data row12 col4\" >0.582300</td>\n",
       "                        <td id=\"T_0829b1e8_cf5c_11ea_9907_94b86dac7f41row12_col5\" class=\"data row12 col5\" >0.347400</td>\n",
       "                        <td id=\"T_0829b1e8_cf5c_11ea_9907_94b86dac7f41row12_col6\" class=\"data row12 col6\" >0.180800</td>\n",
       "            </tr>\n",
       "            <tr>\n",
       "                        <th id=\"T_0829b1e8_cf5c_11ea_9907_94b86dac7f41level0_row13\" class=\"row_heading level0 row13\" >13</th>\n",
       "                        <td id=\"T_0829b1e8_cf5c_11ea_9907_94b86dac7f41row13_col0\" class=\"data row13 col0\" >Quadratic Discriminant Analysis</td>\n",
       "                        <td id=\"T_0829b1e8_cf5c_11ea_9907_94b86dac7f41row13_col1\" class=\"data row13 col1\" >0.629100</td>\n",
       "                        <td id=\"T_0829b1e8_cf5c_11ea_9907_94b86dac7f41row13_col2\" class=\"data row13 col2\" >0.609900</td>\n",
       "                        <td id=\"T_0829b1e8_cf5c_11ea_9907_94b86dac7f41row13_col3\" class=\"data row13 col3\" >0.454700</td>\n",
       "                        <td id=\"T_0829b1e8_cf5c_11ea_9907_94b86dac7f41row13_col4\" class=\"data row13 col4\" >0.516900</td>\n",
       "                        <td id=\"T_0829b1e8_cf5c_11ea_9907_94b86dac7f41row13_col5\" class=\"data row13 col5\" >0.451900</td>\n",
       "                        <td id=\"T_0829b1e8_cf5c_11ea_9907_94b86dac7f41row13_col6\" class=\"data row13 col6\" >0.186900</td>\n",
       "            </tr>\n",
       "            <tr>\n",
       "                        <th id=\"T_0829b1e8_cf5c_11ea_9907_94b86dac7f41level0_row14\" class=\"row_heading level0 row14\" >14</th>\n",
       "                        <td id=\"T_0829b1e8_cf5c_11ea_9907_94b86dac7f41row14_col0\" class=\"data row14 col0\" >SVM - Linear Kernel</td>\n",
       "                        <td id=\"T_0829b1e8_cf5c_11ea_9907_94b86dac7f41row14_col1\" class=\"data row14 col1\" >0.549500</td>\n",
       "                        <td id=\"T_0829b1e8_cf5c_11ea_9907_94b86dac7f41row14_col2\" class=\"data row14 col2\" >0.000000</td>\n",
       "                        <td id=\"T_0829b1e8_cf5c_11ea_9907_94b86dac7f41row14_col3\" class=\"data row14 col3\" >0.505000</td>\n",
       "                        <td id=\"T_0829b1e8_cf5c_11ea_9907_94b86dac7f41row14_col4\" class=\"data row14 col4\" >0.443900</td>\n",
       "                        <td id=\"T_0829b1e8_cf5c_11ea_9907_94b86dac7f41row14_col5\" class=\"data row14 col5\" >0.375600</td>\n",
       "                        <td id=\"T_0829b1e8_cf5c_11ea_9907_94b86dac7f41row14_col6\" class=\"data row14 col6\" >0.072800</td>\n",
       "            </tr>\n",
       "    </tbody></table>"
      ],
      "text/plain": [
       "<pandas.io.formats.style.Styler at 0x26458ee1608>"
      ]
     },
     "execution_count": 9,
     "metadata": {},
     "output_type": "execute_result"
    }
   ],
   "source": [
    "#compare models\n",
    "compare_models()"
   ]
  },
  {
   "cell_type": "markdown",
   "metadata": {},
   "source": [
    "# regression problems:"
   ]
  },
  {
   "cell_type": "code",
   "execution_count": 10,
   "metadata": {},
   "outputs": [
    {
     "data": {
      "text/html": [
       "<div>\n",
       "<style scoped>\n",
       "    .dataframe tbody tr th:only-of-type {\n",
       "        vertical-align: middle;\n",
       "    }\n",
       "\n",
       "    .dataframe tbody tr th {\n",
       "        vertical-align: top;\n",
       "    }\n",
       "\n",
       "    .dataframe thead th {\n",
       "        text-align: right;\n",
       "    }\n",
       "</style>\n",
       "<table border=\"1\" class=\"dataframe\">\n",
       "  <thead>\n",
       "    <tr style=\"text-align: right;\">\n",
       "      <th></th>\n",
       "      <th>crim</th>\n",
       "      <th>zn</th>\n",
       "      <th>indus</th>\n",
       "      <th>chas</th>\n",
       "      <th>nox</th>\n",
       "      <th>rm</th>\n",
       "      <th>age</th>\n",
       "      <th>dis</th>\n",
       "      <th>rad</th>\n",
       "      <th>tax</th>\n",
       "      <th>ptratio</th>\n",
       "      <th>black</th>\n",
       "      <th>lstat</th>\n",
       "      <th>medv</th>\n",
       "    </tr>\n",
       "  </thead>\n",
       "  <tbody>\n",
       "    <tr>\n",
       "      <th>0</th>\n",
       "      <td>0.00632</td>\n",
       "      <td>18.0</td>\n",
       "      <td>2.31</td>\n",
       "      <td>0</td>\n",
       "      <td>0.538</td>\n",
       "      <td>6.575</td>\n",
       "      <td>65.2</td>\n",
       "      <td>4.0900</td>\n",
       "      <td>1</td>\n",
       "      <td>296</td>\n",
       "      <td>15.3</td>\n",
       "      <td>396.90</td>\n",
       "      <td>4.98</td>\n",
       "      <td>24.0</td>\n",
       "    </tr>\n",
       "    <tr>\n",
       "      <th>1</th>\n",
       "      <td>0.02731</td>\n",
       "      <td>0.0</td>\n",
       "      <td>7.07</td>\n",
       "      <td>0</td>\n",
       "      <td>0.469</td>\n",
       "      <td>6.421</td>\n",
       "      <td>78.9</td>\n",
       "      <td>4.9671</td>\n",
       "      <td>2</td>\n",
       "      <td>242</td>\n",
       "      <td>17.8</td>\n",
       "      <td>396.90</td>\n",
       "      <td>9.14</td>\n",
       "      <td>21.6</td>\n",
       "    </tr>\n",
       "    <tr>\n",
       "      <th>2</th>\n",
       "      <td>0.02729</td>\n",
       "      <td>0.0</td>\n",
       "      <td>7.07</td>\n",
       "      <td>0</td>\n",
       "      <td>0.469</td>\n",
       "      <td>7.185</td>\n",
       "      <td>61.1</td>\n",
       "      <td>4.9671</td>\n",
       "      <td>2</td>\n",
       "      <td>242</td>\n",
       "      <td>17.8</td>\n",
       "      <td>392.83</td>\n",
       "      <td>4.03</td>\n",
       "      <td>34.7</td>\n",
       "    </tr>\n",
       "    <tr>\n",
       "      <th>3</th>\n",
       "      <td>0.03237</td>\n",
       "      <td>0.0</td>\n",
       "      <td>2.18</td>\n",
       "      <td>0</td>\n",
       "      <td>0.458</td>\n",
       "      <td>6.998</td>\n",
       "      <td>45.8</td>\n",
       "      <td>6.0622</td>\n",
       "      <td>3</td>\n",
       "      <td>222</td>\n",
       "      <td>18.7</td>\n",
       "      <td>394.63</td>\n",
       "      <td>2.94</td>\n",
       "      <td>33.4</td>\n",
       "    </tr>\n",
       "    <tr>\n",
       "      <th>4</th>\n",
       "      <td>0.06905</td>\n",
       "      <td>0.0</td>\n",
       "      <td>2.18</td>\n",
       "      <td>0</td>\n",
       "      <td>0.458</td>\n",
       "      <td>7.147</td>\n",
       "      <td>54.2</td>\n",
       "      <td>6.0622</td>\n",
       "      <td>3</td>\n",
       "      <td>222</td>\n",
       "      <td>18.7</td>\n",
       "      <td>396.90</td>\n",
       "      <td>5.33</td>\n",
       "      <td>36.2</td>\n",
       "    </tr>\n",
       "  </tbody>\n",
       "</table>\n",
       "</div>"
      ],
      "text/plain": [
       "      crim    zn  indus  chas    nox     rm   age     dis  rad  tax  ptratio  \\\n",
       "0  0.00632  18.0   2.31     0  0.538  6.575  65.2  4.0900    1  296     15.3   \n",
       "1  0.02731   0.0   7.07     0  0.469  6.421  78.9  4.9671    2  242     17.8   \n",
       "2  0.02729   0.0   7.07     0  0.469  7.185  61.1  4.9671    2  242     17.8   \n",
       "3  0.03237   0.0   2.18     0  0.458  6.998  45.8  6.0622    3  222     18.7   \n",
       "4  0.06905   0.0   2.18     0  0.458  7.147  54.2  6.0622    3  222     18.7   \n",
       "\n",
       "    black  lstat  medv  \n",
       "0  396.90   4.98  24.0  \n",
       "1  396.90   9.14  21.6  \n",
       "2  392.83   4.03  34.7  \n",
       "3  394.63   2.94  33.4  \n",
       "4  396.90   5.33  36.2  "
      ]
     },
     "metadata": {},
     "output_type": "display_data"
    }
   ],
   "source": [
    "#regression problems:\n",
    "boston_df = get_data('boston')"
   ]
  },
  {
   "cell_type": "code",
   "execution_count": 11,
   "metadata": {},
   "outputs": [
    {
     "name": "stdout",
     "output_type": "stream",
     "text": [
      " \n",
      "Setup Succesfully Completed!\n"
     ]
    },
    {
     "data": {
      "text/html": [
       "<style  type=\"text/css\" >\n",
       "</style><table id=\"T_4d3a33f0_cf5c_11ea_87e2_94b86dac7f41\" ><thead>    <tr>        <th class=\"blank level0\" ></th>        <th class=\"col_heading level0 col0\" >Description</th>        <th class=\"col_heading level0 col1\" >Value</th>    </tr></thead><tbody>\n",
       "                <tr>\n",
       "                        <th id=\"T_4d3a33f0_cf5c_11ea_87e2_94b86dac7f41level0_row0\" class=\"row_heading level0 row0\" >0</th>\n",
       "                        <td id=\"T_4d3a33f0_cf5c_11ea_87e2_94b86dac7f41row0_col0\" class=\"data row0 col0\" >session_id</td>\n",
       "                        <td id=\"T_4d3a33f0_cf5c_11ea_87e2_94b86dac7f41row0_col1\" class=\"data row0 col1\" >2481</td>\n",
       "            </tr>\n",
       "            <tr>\n",
       "                        <th id=\"T_4d3a33f0_cf5c_11ea_87e2_94b86dac7f41level0_row1\" class=\"row_heading level0 row1\" >1</th>\n",
       "                        <td id=\"T_4d3a33f0_cf5c_11ea_87e2_94b86dac7f41row1_col0\" class=\"data row1 col0\" >Transform Target </td>\n",
       "                        <td id=\"T_4d3a33f0_cf5c_11ea_87e2_94b86dac7f41row1_col1\" class=\"data row1 col1\" >False</td>\n",
       "            </tr>\n",
       "            <tr>\n",
       "                        <th id=\"T_4d3a33f0_cf5c_11ea_87e2_94b86dac7f41level0_row2\" class=\"row_heading level0 row2\" >2</th>\n",
       "                        <td id=\"T_4d3a33f0_cf5c_11ea_87e2_94b86dac7f41row2_col0\" class=\"data row2 col0\" >Transform Target Method</td>\n",
       "                        <td id=\"T_4d3a33f0_cf5c_11ea_87e2_94b86dac7f41row2_col1\" class=\"data row2 col1\" >None</td>\n",
       "            </tr>\n",
       "            <tr>\n",
       "                        <th id=\"T_4d3a33f0_cf5c_11ea_87e2_94b86dac7f41level0_row3\" class=\"row_heading level0 row3\" >3</th>\n",
       "                        <td id=\"T_4d3a33f0_cf5c_11ea_87e2_94b86dac7f41row3_col0\" class=\"data row3 col0\" >Original Data</td>\n",
       "                        <td id=\"T_4d3a33f0_cf5c_11ea_87e2_94b86dac7f41row3_col1\" class=\"data row3 col1\" >(506, 14)</td>\n",
       "            </tr>\n",
       "            <tr>\n",
       "                        <th id=\"T_4d3a33f0_cf5c_11ea_87e2_94b86dac7f41level0_row4\" class=\"row_heading level0 row4\" >4</th>\n",
       "                        <td id=\"T_4d3a33f0_cf5c_11ea_87e2_94b86dac7f41row4_col0\" class=\"data row4 col0\" >Missing Values </td>\n",
       "                        <td id=\"T_4d3a33f0_cf5c_11ea_87e2_94b86dac7f41row4_col1\" class=\"data row4 col1\" >False</td>\n",
       "            </tr>\n",
       "            <tr>\n",
       "                        <th id=\"T_4d3a33f0_cf5c_11ea_87e2_94b86dac7f41level0_row5\" class=\"row_heading level0 row5\" >5</th>\n",
       "                        <td id=\"T_4d3a33f0_cf5c_11ea_87e2_94b86dac7f41row5_col0\" class=\"data row5 col0\" >Numeric Features </td>\n",
       "                        <td id=\"T_4d3a33f0_cf5c_11ea_87e2_94b86dac7f41row5_col1\" class=\"data row5 col1\" >11</td>\n",
       "            </tr>\n",
       "            <tr>\n",
       "                        <th id=\"T_4d3a33f0_cf5c_11ea_87e2_94b86dac7f41level0_row6\" class=\"row_heading level0 row6\" >6</th>\n",
       "                        <td id=\"T_4d3a33f0_cf5c_11ea_87e2_94b86dac7f41row6_col0\" class=\"data row6 col0\" >Categorical Features </td>\n",
       "                        <td id=\"T_4d3a33f0_cf5c_11ea_87e2_94b86dac7f41row6_col1\" class=\"data row6 col1\" >2</td>\n",
       "            </tr>\n",
       "            <tr>\n",
       "                        <th id=\"T_4d3a33f0_cf5c_11ea_87e2_94b86dac7f41level0_row7\" class=\"row_heading level0 row7\" >7</th>\n",
       "                        <td id=\"T_4d3a33f0_cf5c_11ea_87e2_94b86dac7f41row7_col0\" class=\"data row7 col0\" >Ordinal Features </td>\n",
       "                        <td id=\"T_4d3a33f0_cf5c_11ea_87e2_94b86dac7f41row7_col1\" class=\"data row7 col1\" >False</td>\n",
       "            </tr>\n",
       "            <tr>\n",
       "                        <th id=\"T_4d3a33f0_cf5c_11ea_87e2_94b86dac7f41level0_row8\" class=\"row_heading level0 row8\" >8</th>\n",
       "                        <td id=\"T_4d3a33f0_cf5c_11ea_87e2_94b86dac7f41row8_col0\" class=\"data row8 col0\" >High Cardinality Features </td>\n",
       "                        <td id=\"T_4d3a33f0_cf5c_11ea_87e2_94b86dac7f41row8_col1\" class=\"data row8 col1\" >False</td>\n",
       "            </tr>\n",
       "            <tr>\n",
       "                        <th id=\"T_4d3a33f0_cf5c_11ea_87e2_94b86dac7f41level0_row9\" class=\"row_heading level0 row9\" >9</th>\n",
       "                        <td id=\"T_4d3a33f0_cf5c_11ea_87e2_94b86dac7f41row9_col0\" class=\"data row9 col0\" >High Cardinality Method </td>\n",
       "                        <td id=\"T_4d3a33f0_cf5c_11ea_87e2_94b86dac7f41row9_col1\" class=\"data row9 col1\" >None</td>\n",
       "            </tr>\n",
       "            <tr>\n",
       "                        <th id=\"T_4d3a33f0_cf5c_11ea_87e2_94b86dac7f41level0_row10\" class=\"row_heading level0 row10\" >10</th>\n",
       "                        <td id=\"T_4d3a33f0_cf5c_11ea_87e2_94b86dac7f41row10_col0\" class=\"data row10 col0\" >Sampled Data</td>\n",
       "                        <td id=\"T_4d3a33f0_cf5c_11ea_87e2_94b86dac7f41row10_col1\" class=\"data row10 col1\" >(506, 14)</td>\n",
       "            </tr>\n",
       "            <tr>\n",
       "                        <th id=\"T_4d3a33f0_cf5c_11ea_87e2_94b86dac7f41level0_row11\" class=\"row_heading level0 row11\" >11</th>\n",
       "                        <td id=\"T_4d3a33f0_cf5c_11ea_87e2_94b86dac7f41row11_col0\" class=\"data row11 col0\" >Transformed Train Set</td>\n",
       "                        <td id=\"T_4d3a33f0_cf5c_11ea_87e2_94b86dac7f41row11_col1\" class=\"data row11 col1\" >(354, 21)</td>\n",
       "            </tr>\n",
       "            <tr>\n",
       "                        <th id=\"T_4d3a33f0_cf5c_11ea_87e2_94b86dac7f41level0_row12\" class=\"row_heading level0 row12\" >12</th>\n",
       "                        <td id=\"T_4d3a33f0_cf5c_11ea_87e2_94b86dac7f41row12_col0\" class=\"data row12 col0\" >Transformed Test Set</td>\n",
       "                        <td id=\"T_4d3a33f0_cf5c_11ea_87e2_94b86dac7f41row12_col1\" class=\"data row12 col1\" >(152, 21)</td>\n",
       "            </tr>\n",
       "            <tr>\n",
       "                        <th id=\"T_4d3a33f0_cf5c_11ea_87e2_94b86dac7f41level0_row13\" class=\"row_heading level0 row13\" >13</th>\n",
       "                        <td id=\"T_4d3a33f0_cf5c_11ea_87e2_94b86dac7f41row13_col0\" class=\"data row13 col0\" >Numeric Imputer </td>\n",
       "                        <td id=\"T_4d3a33f0_cf5c_11ea_87e2_94b86dac7f41row13_col1\" class=\"data row13 col1\" >mean</td>\n",
       "            </tr>\n",
       "            <tr>\n",
       "                        <th id=\"T_4d3a33f0_cf5c_11ea_87e2_94b86dac7f41level0_row14\" class=\"row_heading level0 row14\" >14</th>\n",
       "                        <td id=\"T_4d3a33f0_cf5c_11ea_87e2_94b86dac7f41row14_col0\" class=\"data row14 col0\" >Categorical Imputer </td>\n",
       "                        <td id=\"T_4d3a33f0_cf5c_11ea_87e2_94b86dac7f41row14_col1\" class=\"data row14 col1\" >constant</td>\n",
       "            </tr>\n",
       "            <tr>\n",
       "                        <th id=\"T_4d3a33f0_cf5c_11ea_87e2_94b86dac7f41level0_row15\" class=\"row_heading level0 row15\" >15</th>\n",
       "                        <td id=\"T_4d3a33f0_cf5c_11ea_87e2_94b86dac7f41row15_col0\" class=\"data row15 col0\" >Normalize </td>\n",
       "                        <td id=\"T_4d3a33f0_cf5c_11ea_87e2_94b86dac7f41row15_col1\" class=\"data row15 col1\" >False</td>\n",
       "            </tr>\n",
       "            <tr>\n",
       "                        <th id=\"T_4d3a33f0_cf5c_11ea_87e2_94b86dac7f41level0_row16\" class=\"row_heading level0 row16\" >16</th>\n",
       "                        <td id=\"T_4d3a33f0_cf5c_11ea_87e2_94b86dac7f41row16_col0\" class=\"data row16 col0\" >Normalize Method </td>\n",
       "                        <td id=\"T_4d3a33f0_cf5c_11ea_87e2_94b86dac7f41row16_col1\" class=\"data row16 col1\" >None</td>\n",
       "            </tr>\n",
       "            <tr>\n",
       "                        <th id=\"T_4d3a33f0_cf5c_11ea_87e2_94b86dac7f41level0_row17\" class=\"row_heading level0 row17\" >17</th>\n",
       "                        <td id=\"T_4d3a33f0_cf5c_11ea_87e2_94b86dac7f41row17_col0\" class=\"data row17 col0\" >Transformation </td>\n",
       "                        <td id=\"T_4d3a33f0_cf5c_11ea_87e2_94b86dac7f41row17_col1\" class=\"data row17 col1\" >False</td>\n",
       "            </tr>\n",
       "            <tr>\n",
       "                        <th id=\"T_4d3a33f0_cf5c_11ea_87e2_94b86dac7f41level0_row18\" class=\"row_heading level0 row18\" >18</th>\n",
       "                        <td id=\"T_4d3a33f0_cf5c_11ea_87e2_94b86dac7f41row18_col0\" class=\"data row18 col0\" >Transformation Method </td>\n",
       "                        <td id=\"T_4d3a33f0_cf5c_11ea_87e2_94b86dac7f41row18_col1\" class=\"data row18 col1\" >None</td>\n",
       "            </tr>\n",
       "            <tr>\n",
       "                        <th id=\"T_4d3a33f0_cf5c_11ea_87e2_94b86dac7f41level0_row19\" class=\"row_heading level0 row19\" >19</th>\n",
       "                        <td id=\"T_4d3a33f0_cf5c_11ea_87e2_94b86dac7f41row19_col0\" class=\"data row19 col0\" >PCA </td>\n",
       "                        <td id=\"T_4d3a33f0_cf5c_11ea_87e2_94b86dac7f41row19_col1\" class=\"data row19 col1\" >False</td>\n",
       "            </tr>\n",
       "            <tr>\n",
       "                        <th id=\"T_4d3a33f0_cf5c_11ea_87e2_94b86dac7f41level0_row20\" class=\"row_heading level0 row20\" >20</th>\n",
       "                        <td id=\"T_4d3a33f0_cf5c_11ea_87e2_94b86dac7f41row20_col0\" class=\"data row20 col0\" >PCA Method </td>\n",
       "                        <td id=\"T_4d3a33f0_cf5c_11ea_87e2_94b86dac7f41row20_col1\" class=\"data row20 col1\" >None</td>\n",
       "            </tr>\n",
       "            <tr>\n",
       "                        <th id=\"T_4d3a33f0_cf5c_11ea_87e2_94b86dac7f41level0_row21\" class=\"row_heading level0 row21\" >21</th>\n",
       "                        <td id=\"T_4d3a33f0_cf5c_11ea_87e2_94b86dac7f41row21_col0\" class=\"data row21 col0\" >PCA Components </td>\n",
       "                        <td id=\"T_4d3a33f0_cf5c_11ea_87e2_94b86dac7f41row21_col1\" class=\"data row21 col1\" >None</td>\n",
       "            </tr>\n",
       "            <tr>\n",
       "                        <th id=\"T_4d3a33f0_cf5c_11ea_87e2_94b86dac7f41level0_row22\" class=\"row_heading level0 row22\" >22</th>\n",
       "                        <td id=\"T_4d3a33f0_cf5c_11ea_87e2_94b86dac7f41row22_col0\" class=\"data row22 col0\" >Ignore Low Variance </td>\n",
       "                        <td id=\"T_4d3a33f0_cf5c_11ea_87e2_94b86dac7f41row22_col1\" class=\"data row22 col1\" >False</td>\n",
       "            </tr>\n",
       "            <tr>\n",
       "                        <th id=\"T_4d3a33f0_cf5c_11ea_87e2_94b86dac7f41level0_row23\" class=\"row_heading level0 row23\" >23</th>\n",
       "                        <td id=\"T_4d3a33f0_cf5c_11ea_87e2_94b86dac7f41row23_col0\" class=\"data row23 col0\" >Combine Rare Levels </td>\n",
       "                        <td id=\"T_4d3a33f0_cf5c_11ea_87e2_94b86dac7f41row23_col1\" class=\"data row23 col1\" >False</td>\n",
       "            </tr>\n",
       "            <tr>\n",
       "                        <th id=\"T_4d3a33f0_cf5c_11ea_87e2_94b86dac7f41level0_row24\" class=\"row_heading level0 row24\" >24</th>\n",
       "                        <td id=\"T_4d3a33f0_cf5c_11ea_87e2_94b86dac7f41row24_col0\" class=\"data row24 col0\" >Rare Level Threshold </td>\n",
       "                        <td id=\"T_4d3a33f0_cf5c_11ea_87e2_94b86dac7f41row24_col1\" class=\"data row24 col1\" >None</td>\n",
       "            </tr>\n",
       "            <tr>\n",
       "                        <th id=\"T_4d3a33f0_cf5c_11ea_87e2_94b86dac7f41level0_row25\" class=\"row_heading level0 row25\" >25</th>\n",
       "                        <td id=\"T_4d3a33f0_cf5c_11ea_87e2_94b86dac7f41row25_col0\" class=\"data row25 col0\" >Numeric Binning </td>\n",
       "                        <td id=\"T_4d3a33f0_cf5c_11ea_87e2_94b86dac7f41row25_col1\" class=\"data row25 col1\" >False</td>\n",
       "            </tr>\n",
       "            <tr>\n",
       "                        <th id=\"T_4d3a33f0_cf5c_11ea_87e2_94b86dac7f41level0_row26\" class=\"row_heading level0 row26\" >26</th>\n",
       "                        <td id=\"T_4d3a33f0_cf5c_11ea_87e2_94b86dac7f41row26_col0\" class=\"data row26 col0\" >Remove Outliers </td>\n",
       "                        <td id=\"T_4d3a33f0_cf5c_11ea_87e2_94b86dac7f41row26_col1\" class=\"data row26 col1\" >False</td>\n",
       "            </tr>\n",
       "            <tr>\n",
       "                        <th id=\"T_4d3a33f0_cf5c_11ea_87e2_94b86dac7f41level0_row27\" class=\"row_heading level0 row27\" >27</th>\n",
       "                        <td id=\"T_4d3a33f0_cf5c_11ea_87e2_94b86dac7f41row27_col0\" class=\"data row27 col0\" >Outliers Threshold </td>\n",
       "                        <td id=\"T_4d3a33f0_cf5c_11ea_87e2_94b86dac7f41row27_col1\" class=\"data row27 col1\" >None</td>\n",
       "            </tr>\n",
       "            <tr>\n",
       "                        <th id=\"T_4d3a33f0_cf5c_11ea_87e2_94b86dac7f41level0_row28\" class=\"row_heading level0 row28\" >28</th>\n",
       "                        <td id=\"T_4d3a33f0_cf5c_11ea_87e2_94b86dac7f41row28_col0\" class=\"data row28 col0\" >Remove Multicollinearity </td>\n",
       "                        <td id=\"T_4d3a33f0_cf5c_11ea_87e2_94b86dac7f41row28_col1\" class=\"data row28 col1\" >False</td>\n",
       "            </tr>\n",
       "            <tr>\n",
       "                        <th id=\"T_4d3a33f0_cf5c_11ea_87e2_94b86dac7f41level0_row29\" class=\"row_heading level0 row29\" >29</th>\n",
       "                        <td id=\"T_4d3a33f0_cf5c_11ea_87e2_94b86dac7f41row29_col0\" class=\"data row29 col0\" >Multicollinearity Threshold </td>\n",
       "                        <td id=\"T_4d3a33f0_cf5c_11ea_87e2_94b86dac7f41row29_col1\" class=\"data row29 col1\" >None</td>\n",
       "            </tr>\n",
       "            <tr>\n",
       "                        <th id=\"T_4d3a33f0_cf5c_11ea_87e2_94b86dac7f41level0_row30\" class=\"row_heading level0 row30\" >30</th>\n",
       "                        <td id=\"T_4d3a33f0_cf5c_11ea_87e2_94b86dac7f41row30_col0\" class=\"data row30 col0\" >Clustering </td>\n",
       "                        <td id=\"T_4d3a33f0_cf5c_11ea_87e2_94b86dac7f41row30_col1\" class=\"data row30 col1\" >False</td>\n",
       "            </tr>\n",
       "            <tr>\n",
       "                        <th id=\"T_4d3a33f0_cf5c_11ea_87e2_94b86dac7f41level0_row31\" class=\"row_heading level0 row31\" >31</th>\n",
       "                        <td id=\"T_4d3a33f0_cf5c_11ea_87e2_94b86dac7f41row31_col0\" class=\"data row31 col0\" >Clustering Iteration </td>\n",
       "                        <td id=\"T_4d3a33f0_cf5c_11ea_87e2_94b86dac7f41row31_col1\" class=\"data row31 col1\" >None</td>\n",
       "            </tr>\n",
       "            <tr>\n",
       "                        <th id=\"T_4d3a33f0_cf5c_11ea_87e2_94b86dac7f41level0_row32\" class=\"row_heading level0 row32\" >32</th>\n",
       "                        <td id=\"T_4d3a33f0_cf5c_11ea_87e2_94b86dac7f41row32_col0\" class=\"data row32 col0\" >Polynomial Features </td>\n",
       "                        <td id=\"T_4d3a33f0_cf5c_11ea_87e2_94b86dac7f41row32_col1\" class=\"data row32 col1\" >False</td>\n",
       "            </tr>\n",
       "            <tr>\n",
       "                        <th id=\"T_4d3a33f0_cf5c_11ea_87e2_94b86dac7f41level0_row33\" class=\"row_heading level0 row33\" >33</th>\n",
       "                        <td id=\"T_4d3a33f0_cf5c_11ea_87e2_94b86dac7f41row33_col0\" class=\"data row33 col0\" >Polynomial Degree </td>\n",
       "                        <td id=\"T_4d3a33f0_cf5c_11ea_87e2_94b86dac7f41row33_col1\" class=\"data row33 col1\" >None</td>\n",
       "            </tr>\n",
       "            <tr>\n",
       "                        <th id=\"T_4d3a33f0_cf5c_11ea_87e2_94b86dac7f41level0_row34\" class=\"row_heading level0 row34\" >34</th>\n",
       "                        <td id=\"T_4d3a33f0_cf5c_11ea_87e2_94b86dac7f41row34_col0\" class=\"data row34 col0\" >Trignometry Features </td>\n",
       "                        <td id=\"T_4d3a33f0_cf5c_11ea_87e2_94b86dac7f41row34_col1\" class=\"data row34 col1\" >False</td>\n",
       "            </tr>\n",
       "            <tr>\n",
       "                        <th id=\"T_4d3a33f0_cf5c_11ea_87e2_94b86dac7f41level0_row35\" class=\"row_heading level0 row35\" >35</th>\n",
       "                        <td id=\"T_4d3a33f0_cf5c_11ea_87e2_94b86dac7f41row35_col0\" class=\"data row35 col0\" >Polynomial Threshold </td>\n",
       "                        <td id=\"T_4d3a33f0_cf5c_11ea_87e2_94b86dac7f41row35_col1\" class=\"data row35 col1\" >None</td>\n",
       "            </tr>\n",
       "            <tr>\n",
       "                        <th id=\"T_4d3a33f0_cf5c_11ea_87e2_94b86dac7f41level0_row36\" class=\"row_heading level0 row36\" >36</th>\n",
       "                        <td id=\"T_4d3a33f0_cf5c_11ea_87e2_94b86dac7f41row36_col0\" class=\"data row36 col0\" >Group Features </td>\n",
       "                        <td id=\"T_4d3a33f0_cf5c_11ea_87e2_94b86dac7f41row36_col1\" class=\"data row36 col1\" >False</td>\n",
       "            </tr>\n",
       "            <tr>\n",
       "                        <th id=\"T_4d3a33f0_cf5c_11ea_87e2_94b86dac7f41level0_row37\" class=\"row_heading level0 row37\" >37</th>\n",
       "                        <td id=\"T_4d3a33f0_cf5c_11ea_87e2_94b86dac7f41row37_col0\" class=\"data row37 col0\" >Feature Selection </td>\n",
       "                        <td id=\"T_4d3a33f0_cf5c_11ea_87e2_94b86dac7f41row37_col1\" class=\"data row37 col1\" >False</td>\n",
       "            </tr>\n",
       "            <tr>\n",
       "                        <th id=\"T_4d3a33f0_cf5c_11ea_87e2_94b86dac7f41level0_row38\" class=\"row_heading level0 row38\" >38</th>\n",
       "                        <td id=\"T_4d3a33f0_cf5c_11ea_87e2_94b86dac7f41row38_col0\" class=\"data row38 col0\" >Features Selection Threshold </td>\n",
       "                        <td id=\"T_4d3a33f0_cf5c_11ea_87e2_94b86dac7f41row38_col1\" class=\"data row38 col1\" >None</td>\n",
       "            </tr>\n",
       "            <tr>\n",
       "                        <th id=\"T_4d3a33f0_cf5c_11ea_87e2_94b86dac7f41level0_row39\" class=\"row_heading level0 row39\" >39</th>\n",
       "                        <td id=\"T_4d3a33f0_cf5c_11ea_87e2_94b86dac7f41row39_col0\" class=\"data row39 col0\" >Feature Interaction </td>\n",
       "                        <td id=\"T_4d3a33f0_cf5c_11ea_87e2_94b86dac7f41row39_col1\" class=\"data row39 col1\" >False</td>\n",
       "            </tr>\n",
       "            <tr>\n",
       "                        <th id=\"T_4d3a33f0_cf5c_11ea_87e2_94b86dac7f41level0_row40\" class=\"row_heading level0 row40\" >40</th>\n",
       "                        <td id=\"T_4d3a33f0_cf5c_11ea_87e2_94b86dac7f41row40_col0\" class=\"data row40 col0\" >Feature Ratio </td>\n",
       "                        <td id=\"T_4d3a33f0_cf5c_11ea_87e2_94b86dac7f41row40_col1\" class=\"data row40 col1\" >False</td>\n",
       "            </tr>\n",
       "            <tr>\n",
       "                        <th id=\"T_4d3a33f0_cf5c_11ea_87e2_94b86dac7f41level0_row41\" class=\"row_heading level0 row41\" >41</th>\n",
       "                        <td id=\"T_4d3a33f0_cf5c_11ea_87e2_94b86dac7f41row41_col0\" class=\"data row41 col0\" >Interaction Threshold </td>\n",
       "                        <td id=\"T_4d3a33f0_cf5c_11ea_87e2_94b86dac7f41row41_col1\" class=\"data row41 col1\" >None</td>\n",
       "            </tr>\n",
       "    </tbody></table>"
      ],
      "text/plain": [
       "<pandas.io.formats.style.Styler at 0x264564a65c8>"
      ]
     },
     "metadata": {},
     "output_type": "display_data"
    }
   ],
   "source": [
    "from pycaret.regression import *\n",
    "reg = setup(data=boston_df,target ='medv')"
   ]
  },
  {
   "cell_type": "code",
   "execution_count": 12,
   "metadata": {},
   "outputs": [
    {
     "data": {
      "text/html": [
       "<style  type=\"text/css\" >\n",
       "    #T_93955500_cf5c_11ea_9f2d_94b86dac7f41 th {\n",
       "          text-align: left;\n",
       "    }    #T_93955500_cf5c_11ea_9f2d_94b86dac7f41row0_col0 {\n",
       "            text-align:  left;\n",
       "        }    #T_93955500_cf5c_11ea_9f2d_94b86dac7f41row0_col1 {\n",
       "            background-color:  yellow;\n",
       "            text-align:  left;\n",
       "        }    #T_93955500_cf5c_11ea_9f2d_94b86dac7f41row0_col2 {\n",
       "            background-color:  yellow;\n",
       "            text-align:  left;\n",
       "        }    #T_93955500_cf5c_11ea_9f2d_94b86dac7f41row0_col3 {\n",
       "            background-color:  yellow;\n",
       "            text-align:  left;\n",
       "        }    #T_93955500_cf5c_11ea_9f2d_94b86dac7f41row0_col4 {\n",
       "            text-align:  left;\n",
       "        }    #T_93955500_cf5c_11ea_9f2d_94b86dac7f41row0_col5 {\n",
       "            background-color:  yellow;\n",
       "            text-align:  left;\n",
       "        }    #T_93955500_cf5c_11ea_9f2d_94b86dac7f41row0_col6 {\n",
       "            background-color:  yellow;\n",
       "            text-align:  left;\n",
       "        }    #T_93955500_cf5c_11ea_9f2d_94b86dac7f41row1_col0 {\n",
       "            text-align:  left;\n",
       "        }    #T_93955500_cf5c_11ea_9f2d_94b86dac7f41row1_col1 {\n",
       "            : ;\n",
       "            text-align:  left;\n",
       "        }    #T_93955500_cf5c_11ea_9f2d_94b86dac7f41row1_col2 {\n",
       "            : ;\n",
       "            text-align:  left;\n",
       "        }    #T_93955500_cf5c_11ea_9f2d_94b86dac7f41row1_col3 {\n",
       "            : ;\n",
       "            text-align:  left;\n",
       "        }    #T_93955500_cf5c_11ea_9f2d_94b86dac7f41row1_col4 {\n",
       "            text-align:  left;\n",
       "        }    #T_93955500_cf5c_11ea_9f2d_94b86dac7f41row1_col5 {\n",
       "            : ;\n",
       "            text-align:  left;\n",
       "        }    #T_93955500_cf5c_11ea_9f2d_94b86dac7f41row1_col6 {\n",
       "            : ;\n",
       "            text-align:  left;\n",
       "        }    #T_93955500_cf5c_11ea_9f2d_94b86dac7f41row2_col0 {\n",
       "            text-align:  left;\n",
       "        }    #T_93955500_cf5c_11ea_9f2d_94b86dac7f41row2_col1 {\n",
       "            : ;\n",
       "            text-align:  left;\n",
       "        }    #T_93955500_cf5c_11ea_9f2d_94b86dac7f41row2_col2 {\n",
       "            : ;\n",
       "            text-align:  left;\n",
       "        }    #T_93955500_cf5c_11ea_9f2d_94b86dac7f41row2_col3 {\n",
       "            : ;\n",
       "            text-align:  left;\n",
       "        }    #T_93955500_cf5c_11ea_9f2d_94b86dac7f41row2_col4 {\n",
       "            text-align:  left;\n",
       "        }    #T_93955500_cf5c_11ea_9f2d_94b86dac7f41row2_col5 {\n",
       "            : ;\n",
       "            text-align:  left;\n",
       "        }    #T_93955500_cf5c_11ea_9f2d_94b86dac7f41row2_col6 {\n",
       "            : ;\n",
       "            text-align:  left;\n",
       "        }    #T_93955500_cf5c_11ea_9f2d_94b86dac7f41row3_col0 {\n",
       "            text-align:  left;\n",
       "        }    #T_93955500_cf5c_11ea_9f2d_94b86dac7f41row3_col1 {\n",
       "            : ;\n",
       "            text-align:  left;\n",
       "        }    #T_93955500_cf5c_11ea_9f2d_94b86dac7f41row3_col2 {\n",
       "            : ;\n",
       "            text-align:  left;\n",
       "        }    #T_93955500_cf5c_11ea_9f2d_94b86dac7f41row3_col3 {\n",
       "            : ;\n",
       "            text-align:  left;\n",
       "        }    #T_93955500_cf5c_11ea_9f2d_94b86dac7f41row3_col4 {\n",
       "            text-align:  left;\n",
       "        }    #T_93955500_cf5c_11ea_9f2d_94b86dac7f41row3_col5 {\n",
       "            : ;\n",
       "            text-align:  left;\n",
       "        }    #T_93955500_cf5c_11ea_9f2d_94b86dac7f41row3_col6 {\n",
       "            : ;\n",
       "            text-align:  left;\n",
       "        }    #T_93955500_cf5c_11ea_9f2d_94b86dac7f41row4_col0 {\n",
       "            text-align:  left;\n",
       "        }    #T_93955500_cf5c_11ea_9f2d_94b86dac7f41row4_col1 {\n",
       "            : ;\n",
       "            text-align:  left;\n",
       "        }    #T_93955500_cf5c_11ea_9f2d_94b86dac7f41row4_col2 {\n",
       "            : ;\n",
       "            text-align:  left;\n",
       "        }    #T_93955500_cf5c_11ea_9f2d_94b86dac7f41row4_col3 {\n",
       "            : ;\n",
       "            text-align:  left;\n",
       "        }    #T_93955500_cf5c_11ea_9f2d_94b86dac7f41row4_col4 {\n",
       "            text-align:  left;\n",
       "        }    #T_93955500_cf5c_11ea_9f2d_94b86dac7f41row4_col5 {\n",
       "            : ;\n",
       "            text-align:  left;\n",
       "        }    #T_93955500_cf5c_11ea_9f2d_94b86dac7f41row4_col6 {\n",
       "            : ;\n",
       "            text-align:  left;\n",
       "        }    #T_93955500_cf5c_11ea_9f2d_94b86dac7f41row5_col0 {\n",
       "            text-align:  left;\n",
       "        }    #T_93955500_cf5c_11ea_9f2d_94b86dac7f41row5_col1 {\n",
       "            : ;\n",
       "            text-align:  left;\n",
       "        }    #T_93955500_cf5c_11ea_9f2d_94b86dac7f41row5_col2 {\n",
       "            : ;\n",
       "            text-align:  left;\n",
       "        }    #T_93955500_cf5c_11ea_9f2d_94b86dac7f41row5_col3 {\n",
       "            : ;\n",
       "            text-align:  left;\n",
       "        }    #T_93955500_cf5c_11ea_9f2d_94b86dac7f41row5_col4 {\n",
       "            text-align:  left;\n",
       "        }    #T_93955500_cf5c_11ea_9f2d_94b86dac7f41row5_col5 {\n",
       "            : ;\n",
       "            text-align:  left;\n",
       "        }    #T_93955500_cf5c_11ea_9f2d_94b86dac7f41row5_col6 {\n",
       "            : ;\n",
       "            text-align:  left;\n",
       "        }    #T_93955500_cf5c_11ea_9f2d_94b86dac7f41row6_col0 {\n",
       "            text-align:  left;\n",
       "        }    #T_93955500_cf5c_11ea_9f2d_94b86dac7f41row6_col1 {\n",
       "            : ;\n",
       "            text-align:  left;\n",
       "        }    #T_93955500_cf5c_11ea_9f2d_94b86dac7f41row6_col2 {\n",
       "            : ;\n",
       "            text-align:  left;\n",
       "        }    #T_93955500_cf5c_11ea_9f2d_94b86dac7f41row6_col3 {\n",
       "            : ;\n",
       "            text-align:  left;\n",
       "        }    #T_93955500_cf5c_11ea_9f2d_94b86dac7f41row6_col4 {\n",
       "            text-align:  left;\n",
       "        }    #T_93955500_cf5c_11ea_9f2d_94b86dac7f41row6_col5 {\n",
       "            : ;\n",
       "            text-align:  left;\n",
       "        }    #T_93955500_cf5c_11ea_9f2d_94b86dac7f41row6_col6 {\n",
       "            : ;\n",
       "            text-align:  left;\n",
       "        }    #T_93955500_cf5c_11ea_9f2d_94b86dac7f41row7_col0 {\n",
       "            text-align:  left;\n",
       "        }    #T_93955500_cf5c_11ea_9f2d_94b86dac7f41row7_col1 {\n",
       "            : ;\n",
       "            text-align:  left;\n",
       "        }    #T_93955500_cf5c_11ea_9f2d_94b86dac7f41row7_col2 {\n",
       "            : ;\n",
       "            text-align:  left;\n",
       "        }    #T_93955500_cf5c_11ea_9f2d_94b86dac7f41row7_col3 {\n",
       "            : ;\n",
       "            text-align:  left;\n",
       "        }    #T_93955500_cf5c_11ea_9f2d_94b86dac7f41row7_col4 {\n",
       "            text-align:  left;\n",
       "        }    #T_93955500_cf5c_11ea_9f2d_94b86dac7f41row7_col5 {\n",
       "            : ;\n",
       "            text-align:  left;\n",
       "        }    #T_93955500_cf5c_11ea_9f2d_94b86dac7f41row7_col6 {\n",
       "            : ;\n",
       "            text-align:  left;\n",
       "        }    #T_93955500_cf5c_11ea_9f2d_94b86dac7f41row8_col0 {\n",
       "            text-align:  left;\n",
       "        }    #T_93955500_cf5c_11ea_9f2d_94b86dac7f41row8_col1 {\n",
       "            : ;\n",
       "            text-align:  left;\n",
       "        }    #T_93955500_cf5c_11ea_9f2d_94b86dac7f41row8_col2 {\n",
       "            : ;\n",
       "            text-align:  left;\n",
       "        }    #T_93955500_cf5c_11ea_9f2d_94b86dac7f41row8_col3 {\n",
       "            : ;\n",
       "            text-align:  left;\n",
       "        }    #T_93955500_cf5c_11ea_9f2d_94b86dac7f41row8_col4 {\n",
       "            text-align:  left;\n",
       "        }    #T_93955500_cf5c_11ea_9f2d_94b86dac7f41row8_col5 {\n",
       "            : ;\n",
       "            text-align:  left;\n",
       "        }    #T_93955500_cf5c_11ea_9f2d_94b86dac7f41row8_col6 {\n",
       "            : ;\n",
       "            text-align:  left;\n",
       "        }    #T_93955500_cf5c_11ea_9f2d_94b86dac7f41row9_col0 {\n",
       "            text-align:  left;\n",
       "        }    #T_93955500_cf5c_11ea_9f2d_94b86dac7f41row9_col1 {\n",
       "            : ;\n",
       "            text-align:  left;\n",
       "        }    #T_93955500_cf5c_11ea_9f2d_94b86dac7f41row9_col2 {\n",
       "            : ;\n",
       "            text-align:  left;\n",
       "        }    #T_93955500_cf5c_11ea_9f2d_94b86dac7f41row9_col3 {\n",
       "            : ;\n",
       "            text-align:  left;\n",
       "        }    #T_93955500_cf5c_11ea_9f2d_94b86dac7f41row9_col4 {\n",
       "            text-align:  left;\n",
       "        }    #T_93955500_cf5c_11ea_9f2d_94b86dac7f41row9_col5 {\n",
       "            : ;\n",
       "            text-align:  left;\n",
       "        }    #T_93955500_cf5c_11ea_9f2d_94b86dac7f41row9_col6 {\n",
       "            : ;\n",
       "            text-align:  left;\n",
       "        }    #T_93955500_cf5c_11ea_9f2d_94b86dac7f41row10_col0 {\n",
       "            text-align:  left;\n",
       "        }    #T_93955500_cf5c_11ea_9f2d_94b86dac7f41row10_col1 {\n",
       "            : ;\n",
       "            text-align:  left;\n",
       "        }    #T_93955500_cf5c_11ea_9f2d_94b86dac7f41row10_col2 {\n",
       "            : ;\n",
       "            text-align:  left;\n",
       "        }    #T_93955500_cf5c_11ea_9f2d_94b86dac7f41row10_col3 {\n",
       "            : ;\n",
       "            text-align:  left;\n",
       "        }    #T_93955500_cf5c_11ea_9f2d_94b86dac7f41row10_col4 {\n",
       "            text-align:  left;\n",
       "        }    #T_93955500_cf5c_11ea_9f2d_94b86dac7f41row10_col5 {\n",
       "            : ;\n",
       "            text-align:  left;\n",
       "        }    #T_93955500_cf5c_11ea_9f2d_94b86dac7f41row10_col6 {\n",
       "            : ;\n",
       "            text-align:  left;\n",
       "        }    #T_93955500_cf5c_11ea_9f2d_94b86dac7f41row11_col0 {\n",
       "            text-align:  left;\n",
       "        }    #T_93955500_cf5c_11ea_9f2d_94b86dac7f41row11_col1 {\n",
       "            : ;\n",
       "            text-align:  left;\n",
       "        }    #T_93955500_cf5c_11ea_9f2d_94b86dac7f41row11_col2 {\n",
       "            : ;\n",
       "            text-align:  left;\n",
       "        }    #T_93955500_cf5c_11ea_9f2d_94b86dac7f41row11_col3 {\n",
       "            : ;\n",
       "            text-align:  left;\n",
       "        }    #T_93955500_cf5c_11ea_9f2d_94b86dac7f41row11_col4 {\n",
       "            text-align:  left;\n",
       "        }    #T_93955500_cf5c_11ea_9f2d_94b86dac7f41row11_col5 {\n",
       "            : ;\n",
       "            text-align:  left;\n",
       "        }    #T_93955500_cf5c_11ea_9f2d_94b86dac7f41row11_col6 {\n",
       "            : ;\n",
       "            text-align:  left;\n",
       "        }    #T_93955500_cf5c_11ea_9f2d_94b86dac7f41row12_col0 {\n",
       "            text-align:  left;\n",
       "        }    #T_93955500_cf5c_11ea_9f2d_94b86dac7f41row12_col1 {\n",
       "            : ;\n",
       "            text-align:  left;\n",
       "        }    #T_93955500_cf5c_11ea_9f2d_94b86dac7f41row12_col2 {\n",
       "            : ;\n",
       "            text-align:  left;\n",
       "        }    #T_93955500_cf5c_11ea_9f2d_94b86dac7f41row12_col3 {\n",
       "            : ;\n",
       "            text-align:  left;\n",
       "        }    #T_93955500_cf5c_11ea_9f2d_94b86dac7f41row12_col4 {\n",
       "            text-align:  left;\n",
       "        }    #T_93955500_cf5c_11ea_9f2d_94b86dac7f41row12_col5 {\n",
       "            : ;\n",
       "            text-align:  left;\n",
       "        }    #T_93955500_cf5c_11ea_9f2d_94b86dac7f41row12_col6 {\n",
       "            : ;\n",
       "            text-align:  left;\n",
       "        }    #T_93955500_cf5c_11ea_9f2d_94b86dac7f41row13_col0 {\n",
       "            text-align:  left;\n",
       "        }    #T_93955500_cf5c_11ea_9f2d_94b86dac7f41row13_col1 {\n",
       "            : ;\n",
       "            text-align:  left;\n",
       "        }    #T_93955500_cf5c_11ea_9f2d_94b86dac7f41row13_col2 {\n",
       "            : ;\n",
       "            text-align:  left;\n",
       "        }    #T_93955500_cf5c_11ea_9f2d_94b86dac7f41row13_col3 {\n",
       "            : ;\n",
       "            text-align:  left;\n",
       "        }    #T_93955500_cf5c_11ea_9f2d_94b86dac7f41row13_col4 {\n",
       "            text-align:  left;\n",
       "        }    #T_93955500_cf5c_11ea_9f2d_94b86dac7f41row13_col5 {\n",
       "            : ;\n",
       "            text-align:  left;\n",
       "        }    #T_93955500_cf5c_11ea_9f2d_94b86dac7f41row13_col6 {\n",
       "            : ;\n",
       "            text-align:  left;\n",
       "        }    #T_93955500_cf5c_11ea_9f2d_94b86dac7f41row14_col0 {\n",
       "            text-align:  left;\n",
       "        }    #T_93955500_cf5c_11ea_9f2d_94b86dac7f41row14_col1 {\n",
       "            : ;\n",
       "            text-align:  left;\n",
       "        }    #T_93955500_cf5c_11ea_9f2d_94b86dac7f41row14_col2 {\n",
       "            : ;\n",
       "            text-align:  left;\n",
       "        }    #T_93955500_cf5c_11ea_9f2d_94b86dac7f41row14_col3 {\n",
       "            : ;\n",
       "            text-align:  left;\n",
       "        }    #T_93955500_cf5c_11ea_9f2d_94b86dac7f41row14_col4 {\n",
       "            text-align:  left;\n",
       "        }    #T_93955500_cf5c_11ea_9f2d_94b86dac7f41row14_col5 {\n",
       "            : ;\n",
       "            text-align:  left;\n",
       "        }    #T_93955500_cf5c_11ea_9f2d_94b86dac7f41row14_col6 {\n",
       "            : ;\n",
       "            text-align:  left;\n",
       "        }    #T_93955500_cf5c_11ea_9f2d_94b86dac7f41row15_col0 {\n",
       "            text-align:  left;\n",
       "        }    #T_93955500_cf5c_11ea_9f2d_94b86dac7f41row15_col1 {\n",
       "            : ;\n",
       "            text-align:  left;\n",
       "        }    #T_93955500_cf5c_11ea_9f2d_94b86dac7f41row15_col2 {\n",
       "            : ;\n",
       "            text-align:  left;\n",
       "        }    #T_93955500_cf5c_11ea_9f2d_94b86dac7f41row15_col3 {\n",
       "            : ;\n",
       "            text-align:  left;\n",
       "        }    #T_93955500_cf5c_11ea_9f2d_94b86dac7f41row15_col4 {\n",
       "            text-align:  left;\n",
       "        }    #T_93955500_cf5c_11ea_9f2d_94b86dac7f41row15_col5 {\n",
       "            : ;\n",
       "            text-align:  left;\n",
       "        }    #T_93955500_cf5c_11ea_9f2d_94b86dac7f41row15_col6 {\n",
       "            : ;\n",
       "            text-align:  left;\n",
       "        }    #T_93955500_cf5c_11ea_9f2d_94b86dac7f41row16_col0 {\n",
       "            text-align:  left;\n",
       "        }    #T_93955500_cf5c_11ea_9f2d_94b86dac7f41row16_col1 {\n",
       "            : ;\n",
       "            text-align:  left;\n",
       "        }    #T_93955500_cf5c_11ea_9f2d_94b86dac7f41row16_col2 {\n",
       "            : ;\n",
       "            text-align:  left;\n",
       "        }    #T_93955500_cf5c_11ea_9f2d_94b86dac7f41row16_col3 {\n",
       "            : ;\n",
       "            text-align:  left;\n",
       "        }    #T_93955500_cf5c_11ea_9f2d_94b86dac7f41row16_col4 {\n",
       "            text-align:  left;\n",
       "        }    #T_93955500_cf5c_11ea_9f2d_94b86dac7f41row16_col5 {\n",
       "            : ;\n",
       "            text-align:  left;\n",
       "        }    #T_93955500_cf5c_11ea_9f2d_94b86dac7f41row16_col6 {\n",
       "            : ;\n",
       "            text-align:  left;\n",
       "        }    #T_93955500_cf5c_11ea_9f2d_94b86dac7f41row17_col0 {\n",
       "            text-align:  left;\n",
       "        }    #T_93955500_cf5c_11ea_9f2d_94b86dac7f41row17_col1 {\n",
       "            : ;\n",
       "            text-align:  left;\n",
       "        }    #T_93955500_cf5c_11ea_9f2d_94b86dac7f41row17_col2 {\n",
       "            : ;\n",
       "            text-align:  left;\n",
       "        }    #T_93955500_cf5c_11ea_9f2d_94b86dac7f41row17_col3 {\n",
       "            : ;\n",
       "            text-align:  left;\n",
       "        }    #T_93955500_cf5c_11ea_9f2d_94b86dac7f41row17_col4 {\n",
       "            text-align:  left;\n",
       "        }    #T_93955500_cf5c_11ea_9f2d_94b86dac7f41row17_col5 {\n",
       "            : ;\n",
       "            text-align:  left;\n",
       "        }    #T_93955500_cf5c_11ea_9f2d_94b86dac7f41row17_col6 {\n",
       "            : ;\n",
       "            text-align:  left;\n",
       "        }    #T_93955500_cf5c_11ea_9f2d_94b86dac7f41row18_col0 {\n",
       "            text-align:  left;\n",
       "        }    #T_93955500_cf5c_11ea_9f2d_94b86dac7f41row18_col1 {\n",
       "            : ;\n",
       "            text-align:  left;\n",
       "        }    #T_93955500_cf5c_11ea_9f2d_94b86dac7f41row18_col2 {\n",
       "            : ;\n",
       "            text-align:  left;\n",
       "        }    #T_93955500_cf5c_11ea_9f2d_94b86dac7f41row18_col3 {\n",
       "            : ;\n",
       "            text-align:  left;\n",
       "        }    #T_93955500_cf5c_11ea_9f2d_94b86dac7f41row18_col4 {\n",
       "            text-align:  left;\n",
       "        }    #T_93955500_cf5c_11ea_9f2d_94b86dac7f41row18_col5 {\n",
       "            : ;\n",
       "            text-align:  left;\n",
       "        }    #T_93955500_cf5c_11ea_9f2d_94b86dac7f41row18_col6 {\n",
       "            : ;\n",
       "            text-align:  left;\n",
       "        }    #T_93955500_cf5c_11ea_9f2d_94b86dac7f41row19_col0 {\n",
       "            text-align:  left;\n",
       "        }    #T_93955500_cf5c_11ea_9f2d_94b86dac7f41row19_col1 {\n",
       "            : ;\n",
       "            text-align:  left;\n",
       "        }    #T_93955500_cf5c_11ea_9f2d_94b86dac7f41row19_col2 {\n",
       "            : ;\n",
       "            text-align:  left;\n",
       "        }    #T_93955500_cf5c_11ea_9f2d_94b86dac7f41row19_col3 {\n",
       "            : ;\n",
       "            text-align:  left;\n",
       "        }    #T_93955500_cf5c_11ea_9f2d_94b86dac7f41row19_col4 {\n",
       "            text-align:  left;\n",
       "        }    #T_93955500_cf5c_11ea_9f2d_94b86dac7f41row19_col5 {\n",
       "            : ;\n",
       "            text-align:  left;\n",
       "        }    #T_93955500_cf5c_11ea_9f2d_94b86dac7f41row19_col6 {\n",
       "            : ;\n",
       "            text-align:  left;\n",
       "        }    #T_93955500_cf5c_11ea_9f2d_94b86dac7f41row20_col0 {\n",
       "            text-align:  left;\n",
       "        }    #T_93955500_cf5c_11ea_9f2d_94b86dac7f41row20_col1 {\n",
       "            : ;\n",
       "            text-align:  left;\n",
       "        }    #T_93955500_cf5c_11ea_9f2d_94b86dac7f41row20_col2 {\n",
       "            : ;\n",
       "            text-align:  left;\n",
       "        }    #T_93955500_cf5c_11ea_9f2d_94b86dac7f41row20_col3 {\n",
       "            : ;\n",
       "            text-align:  left;\n",
       "        }    #T_93955500_cf5c_11ea_9f2d_94b86dac7f41row20_col4 {\n",
       "            text-align:  left;\n",
       "        }    #T_93955500_cf5c_11ea_9f2d_94b86dac7f41row20_col5 {\n",
       "            : ;\n",
       "            text-align:  left;\n",
       "        }    #T_93955500_cf5c_11ea_9f2d_94b86dac7f41row20_col6 {\n",
       "            : ;\n",
       "            text-align:  left;\n",
       "        }    #T_93955500_cf5c_11ea_9f2d_94b86dac7f41row21_col0 {\n",
       "            text-align:  left;\n",
       "        }    #T_93955500_cf5c_11ea_9f2d_94b86dac7f41row21_col1 {\n",
       "            : ;\n",
       "            text-align:  left;\n",
       "        }    #T_93955500_cf5c_11ea_9f2d_94b86dac7f41row21_col2 {\n",
       "            : ;\n",
       "            text-align:  left;\n",
       "        }    #T_93955500_cf5c_11ea_9f2d_94b86dac7f41row21_col3 {\n",
       "            : ;\n",
       "            text-align:  left;\n",
       "        }    #T_93955500_cf5c_11ea_9f2d_94b86dac7f41row21_col4 {\n",
       "            text-align:  left;\n",
       "        }    #T_93955500_cf5c_11ea_9f2d_94b86dac7f41row21_col5 {\n",
       "            : ;\n",
       "            text-align:  left;\n",
       "        }    #T_93955500_cf5c_11ea_9f2d_94b86dac7f41row21_col6 {\n",
       "            : ;\n",
       "            text-align:  left;\n",
       "        }</style><table id=\"T_93955500_cf5c_11ea_9f2d_94b86dac7f41\" ><thead>    <tr>        <th class=\"blank level0\" ></th>        <th class=\"col_heading level0 col0\" >Model</th>        <th class=\"col_heading level0 col1\" >MAE</th>        <th class=\"col_heading level0 col2\" >MSE</th>        <th class=\"col_heading level0 col3\" >RMSE</th>        <th class=\"col_heading level0 col4\" >R2</th>        <th class=\"col_heading level0 col5\" >RMSLE</th>        <th class=\"col_heading level0 col6\" >MAPE</th>    </tr></thead><tbody>\n",
       "                <tr>\n",
       "                        <th id=\"T_93955500_cf5c_11ea_9f2d_94b86dac7f41level0_row0\" class=\"row_heading level0 row0\" >0</th>\n",
       "                        <td id=\"T_93955500_cf5c_11ea_9f2d_94b86dac7f41row0_col0\" class=\"data row0 col0\" >CatBoost Regressor</td>\n",
       "                        <td id=\"T_93955500_cf5c_11ea_9f2d_94b86dac7f41row0_col1\" class=\"data row0 col1\" >2.042700</td>\n",
       "                        <td id=\"T_93955500_cf5c_11ea_9f2d_94b86dac7f41row0_col2\" class=\"data row0 col2\" >9.261900</td>\n",
       "                        <td id=\"T_93955500_cf5c_11ea_9f2d_94b86dac7f41row0_col3\" class=\"data row0 col3\" >2.927800</td>\n",
       "                        <td id=\"T_93955500_cf5c_11ea_9f2d_94b86dac7f41row0_col4\" class=\"data row0 col4\" >0.890000</td>\n",
       "                        <td id=\"T_93955500_cf5c_11ea_9f2d_94b86dac7f41row0_col5\" class=\"data row0 col5\" >0.136900</td>\n",
       "                        <td id=\"T_93955500_cf5c_11ea_9f2d_94b86dac7f41row0_col6\" class=\"data row0 col6\" >0.105000</td>\n",
       "            </tr>\n",
       "            <tr>\n",
       "                        <th id=\"T_93955500_cf5c_11ea_9f2d_94b86dac7f41level0_row1\" class=\"row_heading level0 row1\" >1</th>\n",
       "                        <td id=\"T_93955500_cf5c_11ea_9f2d_94b86dac7f41row1_col0\" class=\"data row1 col0\" >Extra Trees Regressor</td>\n",
       "                        <td id=\"T_93955500_cf5c_11ea_9f2d_94b86dac7f41row1_col1\" class=\"data row1 col1\" >2.097500</td>\n",
       "                        <td id=\"T_93955500_cf5c_11ea_9f2d_94b86dac7f41row1_col2\" class=\"data row1 col2\" >10.055100</td>\n",
       "                        <td id=\"T_93955500_cf5c_11ea_9f2d_94b86dac7f41row1_col3\" class=\"data row1 col3\" >3.015800</td>\n",
       "                        <td id=\"T_93955500_cf5c_11ea_9f2d_94b86dac7f41row1_col4\" class=\"data row1 col4\" >0.877900</td>\n",
       "                        <td id=\"T_93955500_cf5c_11ea_9f2d_94b86dac7f41row1_col5\" class=\"data row1 col5\" >0.138800</td>\n",
       "                        <td id=\"T_93955500_cf5c_11ea_9f2d_94b86dac7f41row1_col6\" class=\"data row1 col6\" >0.107900</td>\n",
       "            </tr>\n",
       "            <tr>\n",
       "                        <th id=\"T_93955500_cf5c_11ea_9f2d_94b86dac7f41level0_row2\" class=\"row_heading level0 row2\" >2</th>\n",
       "                        <td id=\"T_93955500_cf5c_11ea_9f2d_94b86dac7f41row2_col0\" class=\"data row2 col0\" >Extreme Gradient Boosting</td>\n",
       "                        <td id=\"T_93955500_cf5c_11ea_9f2d_94b86dac7f41row2_col1\" class=\"data row2 col1\" >2.212300</td>\n",
       "                        <td id=\"T_93955500_cf5c_11ea_9f2d_94b86dac7f41row2_col2\" class=\"data row2 col2\" >11.032700</td>\n",
       "                        <td id=\"T_93955500_cf5c_11ea_9f2d_94b86dac7f41row2_col3\" class=\"data row2 col3\" >3.224600</td>\n",
       "                        <td id=\"T_93955500_cf5c_11ea_9f2d_94b86dac7f41row2_col4\" class=\"data row2 col4\" >0.868400</td>\n",
       "                        <td id=\"T_93955500_cf5c_11ea_9f2d_94b86dac7f41row2_col5\" class=\"data row2 col5\" >0.144300</td>\n",
       "                        <td id=\"T_93955500_cf5c_11ea_9f2d_94b86dac7f41row2_col6\" class=\"data row2 col6\" >0.112100</td>\n",
       "            </tr>\n",
       "            <tr>\n",
       "                        <th id=\"T_93955500_cf5c_11ea_9f2d_94b86dac7f41level0_row3\" class=\"row_heading level0 row3\" >3</th>\n",
       "                        <td id=\"T_93955500_cf5c_11ea_9f2d_94b86dac7f41row3_col0\" class=\"data row3 col0\" >Gradient Boosting Regressor</td>\n",
       "                        <td id=\"T_93955500_cf5c_11ea_9f2d_94b86dac7f41row3_col1\" class=\"data row3 col1\" >2.206900</td>\n",
       "                        <td id=\"T_93955500_cf5c_11ea_9f2d_94b86dac7f41row3_col2\" class=\"data row3 col2\" >11.402700</td>\n",
       "                        <td id=\"T_93955500_cf5c_11ea_9f2d_94b86dac7f41row3_col3\" class=\"data row3 col3\" >3.236500</td>\n",
       "                        <td id=\"T_93955500_cf5c_11ea_9f2d_94b86dac7f41row3_col4\" class=\"data row3 col4\" >0.859400</td>\n",
       "                        <td id=\"T_93955500_cf5c_11ea_9f2d_94b86dac7f41row3_col5\" class=\"data row3 col5\" >0.144700</td>\n",
       "                        <td id=\"T_93955500_cf5c_11ea_9f2d_94b86dac7f41row3_col6\" class=\"data row3 col6\" >0.111400</td>\n",
       "            </tr>\n",
       "            <tr>\n",
       "                        <th id=\"T_93955500_cf5c_11ea_9f2d_94b86dac7f41level0_row4\" class=\"row_heading level0 row4\" >4</th>\n",
       "                        <td id=\"T_93955500_cf5c_11ea_9f2d_94b86dac7f41row4_col0\" class=\"data row4 col0\" >Light Gradient Boosting Machine</td>\n",
       "                        <td id=\"T_93955500_cf5c_11ea_9f2d_94b86dac7f41row4_col1\" class=\"data row4 col1\" >2.339500</td>\n",
       "                        <td id=\"T_93955500_cf5c_11ea_9f2d_94b86dac7f41row4_col2\" class=\"data row4 col2\" >12.291200</td>\n",
       "                        <td id=\"T_93955500_cf5c_11ea_9f2d_94b86dac7f41row4_col3\" class=\"data row4 col3\" >3.398800</td>\n",
       "                        <td id=\"T_93955500_cf5c_11ea_9f2d_94b86dac7f41row4_col4\" class=\"data row4 col4\" >0.842300</td>\n",
       "                        <td id=\"T_93955500_cf5c_11ea_9f2d_94b86dac7f41row4_col5\" class=\"data row4 col5\" >0.150600</td>\n",
       "                        <td id=\"T_93955500_cf5c_11ea_9f2d_94b86dac7f41row4_col6\" class=\"data row4 col6\" >0.116400</td>\n",
       "            </tr>\n",
       "            <tr>\n",
       "                        <th id=\"T_93955500_cf5c_11ea_9f2d_94b86dac7f41level0_row5\" class=\"row_heading level0 row5\" >5</th>\n",
       "                        <td id=\"T_93955500_cf5c_11ea_9f2d_94b86dac7f41row5_col0\" class=\"data row5 col0\" >Random Forest</td>\n",
       "                        <td id=\"T_93955500_cf5c_11ea_9f2d_94b86dac7f41row5_col1\" class=\"data row5 col1\" >2.356600</td>\n",
       "                        <td id=\"T_93955500_cf5c_11ea_9f2d_94b86dac7f41row5_col2\" class=\"data row5 col2\" >13.683600</td>\n",
       "                        <td id=\"T_93955500_cf5c_11ea_9f2d_94b86dac7f41row5_col3\" class=\"data row5 col3\" >3.536200</td>\n",
       "                        <td id=\"T_93955500_cf5c_11ea_9f2d_94b86dac7f41row5_col4\" class=\"data row5 col4\" >0.832700</td>\n",
       "                        <td id=\"T_93955500_cf5c_11ea_9f2d_94b86dac7f41row5_col5\" class=\"data row5 col5\" >0.155500</td>\n",
       "                        <td id=\"T_93955500_cf5c_11ea_9f2d_94b86dac7f41row5_col6\" class=\"data row5 col6\" >0.119900</td>\n",
       "            </tr>\n",
       "            <tr>\n",
       "                        <th id=\"T_93955500_cf5c_11ea_9f2d_94b86dac7f41level0_row6\" class=\"row_heading level0 row6\" >6</th>\n",
       "                        <td id=\"T_93955500_cf5c_11ea_9f2d_94b86dac7f41row6_col0\" class=\"data row6 col0\" >AdaBoost Regressor</td>\n",
       "                        <td id=\"T_93955500_cf5c_11ea_9f2d_94b86dac7f41row6_col1\" class=\"data row6 col1\" >2.786800</td>\n",
       "                        <td id=\"T_93955500_cf5c_11ea_9f2d_94b86dac7f41row6_col2\" class=\"data row6 col2\" >16.171500</td>\n",
       "                        <td id=\"T_93955500_cf5c_11ea_9f2d_94b86dac7f41row6_col3\" class=\"data row6 col3\" >3.873500</td>\n",
       "                        <td id=\"T_93955500_cf5c_11ea_9f2d_94b86dac7f41row6_col4\" class=\"data row6 col4\" >0.811500</td>\n",
       "                        <td id=\"T_93955500_cf5c_11ea_9f2d_94b86dac7f41row6_col5\" class=\"data row6 col5\" >0.178600</td>\n",
       "                        <td id=\"T_93955500_cf5c_11ea_9f2d_94b86dac7f41row6_col6\" class=\"data row6 col6\" >0.148100</td>\n",
       "            </tr>\n",
       "            <tr>\n",
       "                        <th id=\"T_93955500_cf5c_11ea_9f2d_94b86dac7f41level0_row7\" class=\"row_heading level0 row7\" >7</th>\n",
       "                        <td id=\"T_93955500_cf5c_11ea_9f2d_94b86dac7f41row7_col0\" class=\"data row7 col0\" >Linear Regression</td>\n",
       "                        <td id=\"T_93955500_cf5c_11ea_9f2d_94b86dac7f41row7_col1\" class=\"data row7 col1\" >3.234700</td>\n",
       "                        <td id=\"T_93955500_cf5c_11ea_9f2d_94b86dac7f41row7_col2\" class=\"data row7 col2\" >21.760400</td>\n",
       "                        <td id=\"T_93955500_cf5c_11ea_9f2d_94b86dac7f41row7_col3\" class=\"data row7 col3\" >4.603000</td>\n",
       "                        <td id=\"T_93955500_cf5c_11ea_9f2d_94b86dac7f41row7_col4\" class=\"data row7 col4\" >0.729900</td>\n",
       "                        <td id=\"T_93955500_cf5c_11ea_9f2d_94b86dac7f41row7_col5\" class=\"data row7 col5\" >0.261200</td>\n",
       "                        <td id=\"T_93955500_cf5c_11ea_9f2d_94b86dac7f41row7_col6\" class=\"data row7 col6\" >0.167700</td>\n",
       "            </tr>\n",
       "            <tr>\n",
       "                        <th id=\"T_93955500_cf5c_11ea_9f2d_94b86dac7f41level0_row8\" class=\"row_heading level0 row8\" >8</th>\n",
       "                        <td id=\"T_93955500_cf5c_11ea_9f2d_94b86dac7f41row8_col0\" class=\"data row8 col0\" >Ridge Regression</td>\n",
       "                        <td id=\"T_93955500_cf5c_11ea_9f2d_94b86dac7f41row8_col1\" class=\"data row8 col1\" >3.220000</td>\n",
       "                        <td id=\"T_93955500_cf5c_11ea_9f2d_94b86dac7f41row8_col2\" class=\"data row8 col2\" >21.986200</td>\n",
       "                        <td id=\"T_93955500_cf5c_11ea_9f2d_94b86dac7f41row8_col3\" class=\"data row8 col3\" >4.630300</td>\n",
       "                        <td id=\"T_93955500_cf5c_11ea_9f2d_94b86dac7f41row8_col4\" class=\"data row8 col4\" >0.726700</td>\n",
       "                        <td id=\"T_93955500_cf5c_11ea_9f2d_94b86dac7f41row8_col5\" class=\"data row8 col5\" >0.260000</td>\n",
       "                        <td id=\"T_93955500_cf5c_11ea_9f2d_94b86dac7f41row8_col6\" class=\"data row8 col6\" >0.168100</td>\n",
       "            </tr>\n",
       "            <tr>\n",
       "                        <th id=\"T_93955500_cf5c_11ea_9f2d_94b86dac7f41level0_row9\" class=\"row_heading level0 row9\" >9</th>\n",
       "                        <td id=\"T_93955500_cf5c_11ea_9f2d_94b86dac7f41row9_col0\" class=\"data row9 col0\" >TheilSen Regressor</td>\n",
       "                        <td id=\"T_93955500_cf5c_11ea_9f2d_94b86dac7f41row9_col1\" class=\"data row9 col1\" >3.209600</td>\n",
       "                        <td id=\"T_93955500_cf5c_11ea_9f2d_94b86dac7f41row9_col2\" class=\"data row9 col2\" >23.066800</td>\n",
       "                        <td id=\"T_93955500_cf5c_11ea_9f2d_94b86dac7f41row9_col3\" class=\"data row9 col3\" >4.706100</td>\n",
       "                        <td id=\"T_93955500_cf5c_11ea_9f2d_94b86dac7f41row9_col4\" class=\"data row9 col4\" >0.722300</td>\n",
       "                        <td id=\"T_93955500_cf5c_11ea_9f2d_94b86dac7f41row9_col5\" class=\"data row9 col5\" >0.268600</td>\n",
       "                        <td id=\"T_93955500_cf5c_11ea_9f2d_94b86dac7f41row9_col6\" class=\"data row9 col6\" >0.160400</td>\n",
       "            </tr>\n",
       "            <tr>\n",
       "                        <th id=\"T_93955500_cf5c_11ea_9f2d_94b86dac7f41level0_row10\" class=\"row_heading level0 row10\" >10</th>\n",
       "                        <td id=\"T_93955500_cf5c_11ea_9f2d_94b86dac7f41row10_col0\" class=\"data row10 col0\" >Bayesian Ridge</td>\n",
       "                        <td id=\"T_93955500_cf5c_11ea_9f2d_94b86dac7f41row10_col1\" class=\"data row10 col1\" >3.250700</td>\n",
       "                        <td id=\"T_93955500_cf5c_11ea_9f2d_94b86dac7f41row10_col2\" class=\"data row10 col2\" >22.605200</td>\n",
       "                        <td id=\"T_93955500_cf5c_11ea_9f2d_94b86dac7f41row10_col3\" class=\"data row10 col3\" >4.694500</td>\n",
       "                        <td id=\"T_93955500_cf5c_11ea_9f2d_94b86dac7f41row10_col4\" class=\"data row10 col4\" >0.719400</td>\n",
       "                        <td id=\"T_93955500_cf5c_11ea_9f2d_94b86dac7f41row10_col5\" class=\"data row10 col5\" >0.250800</td>\n",
       "                        <td id=\"T_93955500_cf5c_11ea_9f2d_94b86dac7f41row10_col6\" class=\"data row10 col6\" >0.168900</td>\n",
       "            </tr>\n",
       "            <tr>\n",
       "                        <th id=\"T_93955500_cf5c_11ea_9f2d_94b86dac7f41level0_row11\" class=\"row_heading level0 row11\" >11</th>\n",
       "                        <td id=\"T_93955500_cf5c_11ea_9f2d_94b86dac7f41row11_col0\" class=\"data row11 col0\" >Random Sample Consensus</td>\n",
       "                        <td id=\"T_93955500_cf5c_11ea_9f2d_94b86dac7f41row11_col1\" class=\"data row11 col1\" >3.205300</td>\n",
       "                        <td id=\"T_93955500_cf5c_11ea_9f2d_94b86dac7f41row11_col2\" class=\"data row11 col2\" >24.037400</td>\n",
       "                        <td id=\"T_93955500_cf5c_11ea_9f2d_94b86dac7f41row11_col3\" class=\"data row11 col3\" >4.771900</td>\n",
       "                        <td id=\"T_93955500_cf5c_11ea_9f2d_94b86dac7f41row11_col4\" class=\"data row11 col4\" >0.715700</td>\n",
       "                        <td id=\"T_93955500_cf5c_11ea_9f2d_94b86dac7f41row11_col5\" class=\"data row11 col5\" >0.258800</td>\n",
       "                        <td id=\"T_93955500_cf5c_11ea_9f2d_94b86dac7f41row11_col6\" class=\"data row11 col6\" >0.159400</td>\n",
       "            </tr>\n",
       "            <tr>\n",
       "                        <th id=\"T_93955500_cf5c_11ea_9f2d_94b86dac7f41level0_row12\" class=\"row_heading level0 row12\" >12</th>\n",
       "                        <td id=\"T_93955500_cf5c_11ea_9f2d_94b86dac7f41row12_col0\" class=\"data row12 col0\" >Least Angle Regression</td>\n",
       "                        <td id=\"T_93955500_cf5c_11ea_9f2d_94b86dac7f41row12_col1\" class=\"data row12 col1\" >3.451400</td>\n",
       "                        <td id=\"T_93955500_cf5c_11ea_9f2d_94b86dac7f41row12_col2\" class=\"data row12 col2\" >23.592900</td>\n",
       "                        <td id=\"T_93955500_cf5c_11ea_9f2d_94b86dac7f41row12_col3\" class=\"data row12 col3\" >4.805400</td>\n",
       "                        <td id=\"T_93955500_cf5c_11ea_9f2d_94b86dac7f41row12_col4\" class=\"data row12 col4\" >0.696500</td>\n",
       "                        <td id=\"T_93955500_cf5c_11ea_9f2d_94b86dac7f41row12_col5\" class=\"data row12 col5\" >0.273000</td>\n",
       "                        <td id=\"T_93955500_cf5c_11ea_9f2d_94b86dac7f41row12_col6\" class=\"data row12 col6\" >0.180100</td>\n",
       "            </tr>\n",
       "            <tr>\n",
       "                        <th id=\"T_93955500_cf5c_11ea_9f2d_94b86dac7f41level0_row13\" class=\"row_heading level0 row13\" >13</th>\n",
       "                        <td id=\"T_93955500_cf5c_11ea_9f2d_94b86dac7f41row13_col0\" class=\"data row13 col0\" >Huber Regressor</td>\n",
       "                        <td id=\"T_93955500_cf5c_11ea_9f2d_94b86dac7f41row13_col1\" class=\"data row13 col1\" >3.479300</td>\n",
       "                        <td id=\"T_93955500_cf5c_11ea_9f2d_94b86dac7f41row13_col2\" class=\"data row13 col2\" >27.782900</td>\n",
       "                        <td id=\"T_93955500_cf5c_11ea_9f2d_94b86dac7f41row13_col3\" class=\"data row13 col3\" >5.104400</td>\n",
       "                        <td id=\"T_93955500_cf5c_11ea_9f2d_94b86dac7f41row13_col4\" class=\"data row13 col4\" >0.680300</td>\n",
       "                        <td id=\"T_93955500_cf5c_11ea_9f2d_94b86dac7f41row13_col5\" class=\"data row13 col5\" >0.244700</td>\n",
       "                        <td id=\"T_93955500_cf5c_11ea_9f2d_94b86dac7f41row13_col6\" class=\"data row13 col6\" >0.170000</td>\n",
       "            </tr>\n",
       "            <tr>\n",
       "                        <th id=\"T_93955500_cf5c_11ea_9f2d_94b86dac7f41level0_row14\" class=\"row_heading level0 row14\" >14</th>\n",
       "                        <td id=\"T_93955500_cf5c_11ea_9f2d_94b86dac7f41row14_col0\" class=\"data row14 col0\" >Lasso Regression</td>\n",
       "                        <td id=\"T_93955500_cf5c_11ea_9f2d_94b86dac7f41row14_col1\" class=\"data row14 col1\" >3.662800</td>\n",
       "                        <td id=\"T_93955500_cf5c_11ea_9f2d_94b86dac7f41row14_col2\" class=\"data row14 col2\" >28.011500</td>\n",
       "                        <td id=\"T_93955500_cf5c_11ea_9f2d_94b86dac7f41row14_col3\" class=\"data row14 col3\" >5.203400</td>\n",
       "                        <td id=\"T_93955500_cf5c_11ea_9f2d_94b86dac7f41row14_col4\" class=\"data row14 col4\" >0.663300</td>\n",
       "                        <td id=\"T_93955500_cf5c_11ea_9f2d_94b86dac7f41row14_col5\" class=\"data row14 col5\" >0.260000</td>\n",
       "                        <td id=\"T_93955500_cf5c_11ea_9f2d_94b86dac7f41row14_col6\" class=\"data row14 col6\" >0.175600</td>\n",
       "            </tr>\n",
       "            <tr>\n",
       "                        <th id=\"T_93955500_cf5c_11ea_9f2d_94b86dac7f41level0_row15\" class=\"row_heading level0 row15\" >15</th>\n",
       "                        <td id=\"T_93955500_cf5c_11ea_9f2d_94b86dac7f41row15_col0\" class=\"data row15 col0\" >Decision Tree</td>\n",
       "                        <td id=\"T_93955500_cf5c_11ea_9f2d_94b86dac7f41row15_col1\" class=\"data row15 col1\" >3.367500</td>\n",
       "                        <td id=\"T_93955500_cf5c_11ea_9f2d_94b86dac7f41row15_col2\" class=\"data row15 col2\" >25.757500</td>\n",
       "                        <td id=\"T_93955500_cf5c_11ea_9f2d_94b86dac7f41row15_col3\" class=\"data row15 col3\" >4.920600</td>\n",
       "                        <td id=\"T_93955500_cf5c_11ea_9f2d_94b86dac7f41row15_col4\" class=\"data row15 col4\" >0.659700</td>\n",
       "                        <td id=\"T_93955500_cf5c_11ea_9f2d_94b86dac7f41row15_col5\" class=\"data row15 col5\" >0.219900</td>\n",
       "                        <td id=\"T_93955500_cf5c_11ea_9f2d_94b86dac7f41row15_col6\" class=\"data row15 col6\" >0.174900</td>\n",
       "            </tr>\n",
       "            <tr>\n",
       "                        <th id=\"T_93955500_cf5c_11ea_9f2d_94b86dac7f41level0_row16\" class=\"row_heading level0 row16\" >16</th>\n",
       "                        <td id=\"T_93955500_cf5c_11ea_9f2d_94b86dac7f41row16_col0\" class=\"data row16 col0\" >Elastic Net</td>\n",
       "                        <td id=\"T_93955500_cf5c_11ea_9f2d_94b86dac7f41row16_col1\" class=\"data row16 col1\" >3.756300</td>\n",
       "                        <td id=\"T_93955500_cf5c_11ea_9f2d_94b86dac7f41row16_col2\" class=\"data row16 col2\" >29.395100</td>\n",
       "                        <td id=\"T_93955500_cf5c_11ea_9f2d_94b86dac7f41row16_col3\" class=\"data row16 col3\" >5.338800</td>\n",
       "                        <td id=\"T_93955500_cf5c_11ea_9f2d_94b86dac7f41row16_col4\" class=\"data row16 col4\" >0.644900</td>\n",
       "                        <td id=\"T_93955500_cf5c_11ea_9f2d_94b86dac7f41row16_col5\" class=\"data row16 col5\" >0.270100</td>\n",
       "                        <td id=\"T_93955500_cf5c_11ea_9f2d_94b86dac7f41row16_col6\" class=\"data row16 col6\" >0.177700</td>\n",
       "            </tr>\n",
       "            <tr>\n",
       "                        <th id=\"T_93955500_cf5c_11ea_9f2d_94b86dac7f41level0_row17\" class=\"row_heading level0 row17\" >17</th>\n",
       "                        <td id=\"T_93955500_cf5c_11ea_9f2d_94b86dac7f41row17_col0\" class=\"data row17 col0\" >Orthogonal Matching Pursuit</td>\n",
       "                        <td id=\"T_93955500_cf5c_11ea_9f2d_94b86dac7f41row17_col1\" class=\"data row17 col1\" >4.004800</td>\n",
       "                        <td id=\"T_93955500_cf5c_11ea_9f2d_94b86dac7f41row17_col2\" class=\"data row17 col2\" >33.211500</td>\n",
       "                        <td id=\"T_93955500_cf5c_11ea_9f2d_94b86dac7f41row17_col3\" class=\"data row17 col3\" >5.674300</td>\n",
       "                        <td id=\"T_93955500_cf5c_11ea_9f2d_94b86dac7f41row17_col4\" class=\"data row17 col4\" >0.589700</td>\n",
       "                        <td id=\"T_93955500_cf5c_11ea_9f2d_94b86dac7f41row17_col5\" class=\"data row17 col5\" >0.304200</td>\n",
       "                        <td id=\"T_93955500_cf5c_11ea_9f2d_94b86dac7f41row17_col6\" class=\"data row17 col6\" >0.221300</td>\n",
       "            </tr>\n",
       "            <tr>\n",
       "                        <th id=\"T_93955500_cf5c_11ea_9f2d_94b86dac7f41level0_row18\" class=\"row_heading level0 row18\" >18</th>\n",
       "                        <td id=\"T_93955500_cf5c_11ea_9f2d_94b86dac7f41row18_col0\" class=\"data row18 col0\" >K Neighbors Regressor</td>\n",
       "                        <td id=\"T_93955500_cf5c_11ea_9f2d_94b86dac7f41row18_col1\" class=\"data row18 col1\" >4.677400</td>\n",
       "                        <td id=\"T_93955500_cf5c_11ea_9f2d_94b86dac7f41row18_col2\" class=\"data row18 col2\" >46.509400</td>\n",
       "                        <td id=\"T_93955500_cf5c_11ea_9f2d_94b86dac7f41row18_col3\" class=\"data row18 col3\" >6.629500</td>\n",
       "                        <td id=\"T_93955500_cf5c_11ea_9f2d_94b86dac7f41row18_col4\" class=\"data row18 col4\" >0.432000</td>\n",
       "                        <td id=\"T_93955500_cf5c_11ea_9f2d_94b86dac7f41row18_col5\" class=\"data row18 col5\" >0.255800</td>\n",
       "                        <td id=\"T_93955500_cf5c_11ea_9f2d_94b86dac7f41row18_col6\" class=\"data row18 col6\" >0.218500</td>\n",
       "            </tr>\n",
       "            <tr>\n",
       "                        <th id=\"T_93955500_cf5c_11ea_9f2d_94b86dac7f41level0_row19\" class=\"row_heading level0 row19\" >19</th>\n",
       "                        <td id=\"T_93955500_cf5c_11ea_9f2d_94b86dac7f41row19_col0\" class=\"data row19 col0\" >Support Vector Machine</td>\n",
       "                        <td id=\"T_93955500_cf5c_11ea_9f2d_94b86dac7f41row19_col1\" class=\"data row19 col1\" >5.411100</td>\n",
       "                        <td id=\"T_93955500_cf5c_11ea_9f2d_94b86dac7f41row19_col2\" class=\"data row19 col2\" >71.833900</td>\n",
       "                        <td id=\"T_93955500_cf5c_11ea_9f2d_94b86dac7f41row19_col3\" class=\"data row19 col3\" >8.290400</td>\n",
       "                        <td id=\"T_93955500_cf5c_11ea_9f2d_94b86dac7f41row19_col4\" class=\"data row19 col4\" >0.176100</td>\n",
       "                        <td id=\"T_93955500_cf5c_11ea_9f2d_94b86dac7f41row19_col5\" class=\"data row19 col5\" >0.316700</td>\n",
       "                        <td id=\"T_93955500_cf5c_11ea_9f2d_94b86dac7f41row19_col6\" class=\"data row19 col6\" >0.244600</td>\n",
       "            </tr>\n",
       "            <tr>\n",
       "                        <th id=\"T_93955500_cf5c_11ea_9f2d_94b86dac7f41level0_row20\" class=\"row_heading level0 row20\" >20</th>\n",
       "                        <td id=\"T_93955500_cf5c_11ea_9f2d_94b86dac7f41row20_col0\" class=\"data row20 col0\" >Lasso Least Angle Regression</td>\n",
       "                        <td id=\"T_93955500_cf5c_11ea_9f2d_94b86dac7f41row20_col1\" class=\"data row20 col1\" >6.552000</td>\n",
       "                        <td id=\"T_93955500_cf5c_11ea_9f2d_94b86dac7f41row20_col2\" class=\"data row20 col2\" >86.773400</td>\n",
       "                        <td id=\"T_93955500_cf5c_11ea_9f2d_94b86dac7f41row20_col3\" class=\"data row20 col3\" >9.181600</td>\n",
       "                        <td id=\"T_93955500_cf5c_11ea_9f2d_94b86dac7f41row20_col4\" class=\"data row20 col4\" >-0.021000</td>\n",
       "                        <td id=\"T_93955500_cf5c_11ea_9f2d_94b86dac7f41row20_col5\" class=\"data row20 col5\" >0.386800</td>\n",
       "                        <td id=\"T_93955500_cf5c_11ea_9f2d_94b86dac7f41row20_col6\" class=\"data row20 col6\" >0.351400</td>\n",
       "            </tr>\n",
       "            <tr>\n",
       "                        <th id=\"T_93955500_cf5c_11ea_9f2d_94b86dac7f41level0_row21\" class=\"row_heading level0 row21\" >21</th>\n",
       "                        <td id=\"T_93955500_cf5c_11ea_9f2d_94b86dac7f41row21_col0\" class=\"data row21 col0\" >Passive Aggressive Regressor</td>\n",
       "                        <td id=\"T_93955500_cf5c_11ea_9f2d_94b86dac7f41row21_col1\" class=\"data row21 col1\" >8.268000</td>\n",
       "                        <td id=\"T_93955500_cf5c_11ea_9f2d_94b86dac7f41row21_col2\" class=\"data row21 col2\" >114.632100</td>\n",
       "                        <td id=\"T_93955500_cf5c_11ea_9f2d_94b86dac7f41row21_col3\" class=\"data row21 col3\" >10.460400</td>\n",
       "                        <td id=\"T_93955500_cf5c_11ea_9f2d_94b86dac7f41row21_col4\" class=\"data row21 col4\" >-0.524300</td>\n",
       "                        <td id=\"T_93955500_cf5c_11ea_9f2d_94b86dac7f41row21_col5\" class=\"data row21 col5\" >0.493500</td>\n",
       "                        <td id=\"T_93955500_cf5c_11ea_9f2d_94b86dac7f41row21_col6\" class=\"data row21 col6\" >0.427700</td>\n",
       "            </tr>\n",
       "    </tbody></table>"
      ],
      "text/plain": [
       "<pandas.io.formats.style.Styler at 0x26456870d88>"
      ]
     },
     "execution_count": 12,
     "metadata": {},
     "output_type": "execute_result"
    }
   ],
   "source": [
    "compare_models()"
   ]
  },
  {
   "cell_type": "code",
   "execution_count": 13,
   "metadata": {},
   "outputs": [
    {
     "data": {
      "text/html": [
       "<div>\n",
       "<style scoped>\n",
       "    .dataframe tbody tr th:only-of-type {\n",
       "        vertical-align: middle;\n",
       "    }\n",
       "\n",
       "    .dataframe tbody tr th {\n",
       "        vertical-align: top;\n",
       "    }\n",
       "\n",
       "    .dataframe thead th {\n",
       "        text-align: right;\n",
       "    }\n",
       "</style>\n",
       "<table border=\"1\" class=\"dataframe\">\n",
       "  <thead>\n",
       "    <tr style=\"text-align: right;\">\n",
       "      <th></th>\n",
       "      <th>MAE</th>\n",
       "      <th>MSE</th>\n",
       "      <th>RMSE</th>\n",
       "      <th>R2</th>\n",
       "      <th>RMSLE</th>\n",
       "      <th>MAPE</th>\n",
       "    </tr>\n",
       "  </thead>\n",
       "  <tbody>\n",
       "    <tr>\n",
       "      <th>0</th>\n",
       "      <td>1.6424</td>\n",
       "      <td>5.4424</td>\n",
       "      <td>2.3329</td>\n",
       "      <td>0.8832</td>\n",
       "      <td>0.1314</td>\n",
       "      <td>0.0960</td>\n",
       "    </tr>\n",
       "    <tr>\n",
       "      <th>1</th>\n",
       "      <td>2.1322</td>\n",
       "      <td>8.6051</td>\n",
       "      <td>2.9334</td>\n",
       "      <td>0.8968</td>\n",
       "      <td>0.1331</td>\n",
       "      <td>0.1071</td>\n",
       "    </tr>\n",
       "    <tr>\n",
       "      <th>2</th>\n",
       "      <td>2.0852</td>\n",
       "      <td>6.4163</td>\n",
       "      <td>2.5330</td>\n",
       "      <td>0.9362</td>\n",
       "      <td>0.1396</td>\n",
       "      <td>0.1097</td>\n",
       "    </tr>\n",
       "    <tr>\n",
       "      <th>3</th>\n",
       "      <td>2.9367</td>\n",
       "      <td>24.6768</td>\n",
       "      <td>4.9676</td>\n",
       "      <td>0.7725</td>\n",
       "      <td>0.1671</td>\n",
       "      <td>0.1247</td>\n",
       "    </tr>\n",
       "    <tr>\n",
       "      <th>4</th>\n",
       "      <td>1.8358</td>\n",
       "      <td>8.7145</td>\n",
       "      <td>2.9520</td>\n",
       "      <td>0.9395</td>\n",
       "      <td>0.1073</td>\n",
       "      <td>0.0820</td>\n",
       "    </tr>\n",
       "    <tr>\n",
       "      <th>5</th>\n",
       "      <td>1.8237</td>\n",
       "      <td>5.2306</td>\n",
       "      <td>2.2871</td>\n",
       "      <td>0.9333</td>\n",
       "      <td>0.1246</td>\n",
       "      <td>0.0951</td>\n",
       "    </tr>\n",
       "    <tr>\n",
       "      <th>6</th>\n",
       "      <td>1.4995</td>\n",
       "      <td>4.8129</td>\n",
       "      <td>2.1938</td>\n",
       "      <td>0.8967</td>\n",
       "      <td>0.1043</td>\n",
       "      <td>0.0773</td>\n",
       "    </tr>\n",
       "    <tr>\n",
       "      <th>7</th>\n",
       "      <td>2.5993</td>\n",
       "      <td>15.5017</td>\n",
       "      <td>3.9372</td>\n",
       "      <td>0.8257</td>\n",
       "      <td>0.1755</td>\n",
       "      <td>0.1344</td>\n",
       "    </tr>\n",
       "    <tr>\n",
       "      <th>8</th>\n",
       "      <td>1.8871</td>\n",
       "      <td>6.4275</td>\n",
       "      <td>2.5352</td>\n",
       "      <td>0.9315</td>\n",
       "      <td>0.1486</td>\n",
       "      <td>0.1181</td>\n",
       "    </tr>\n",
       "    <tr>\n",
       "      <th>9</th>\n",
       "      <td>1.9847</td>\n",
       "      <td>6.7917</td>\n",
       "      <td>2.6061</td>\n",
       "      <td>0.8846</td>\n",
       "      <td>0.1377</td>\n",
       "      <td>0.1052</td>\n",
       "    </tr>\n",
       "    <tr>\n",
       "      <th>Mean</th>\n",
       "      <td>2.0427</td>\n",
       "      <td>9.2619</td>\n",
       "      <td>2.9278</td>\n",
       "      <td>0.8900</td>\n",
       "      <td>0.1369</td>\n",
       "      <td>0.1050</td>\n",
       "    </tr>\n",
       "    <tr>\n",
       "      <th>SD</th>\n",
       "      <td>0.4114</td>\n",
       "      <td>5.9174</td>\n",
       "      <td>0.8305</td>\n",
       "      <td>0.0513</td>\n",
       "      <td>0.0216</td>\n",
       "      <td>0.0171</td>\n",
       "    </tr>\n",
       "  </tbody>\n",
       "</table>\n",
       "</div>"
      ],
      "text/plain": [
       "         MAE      MSE    RMSE      R2   RMSLE    MAPE\n",
       "0     1.6424   5.4424  2.3329  0.8832  0.1314  0.0960\n",
       "1     2.1322   8.6051  2.9334  0.8968  0.1331  0.1071\n",
       "2     2.0852   6.4163  2.5330  0.9362  0.1396  0.1097\n",
       "3     2.9367  24.6768  4.9676  0.7725  0.1671  0.1247\n",
       "4     1.8358   8.7145  2.9520  0.9395  0.1073  0.0820\n",
       "5     1.8237   5.2306  2.2871  0.9333  0.1246  0.0951\n",
       "6     1.4995   4.8129  2.1938  0.8967  0.1043  0.0773\n",
       "7     2.5993  15.5017  3.9372  0.8257  0.1755  0.1344\n",
       "8     1.8871   6.4275  2.5352  0.9315  0.1486  0.1181\n",
       "9     1.9847   6.7917  2.6061  0.8846  0.1377  0.1052\n",
       "Mean  2.0427   9.2619  2.9278  0.8900  0.1369  0.1050\n",
       "SD    0.4114   5.9174  0.8305  0.0513  0.0216  0.0171"
      ]
     },
     "metadata": {},
     "output_type": "display_data"
    }
   ],
   "source": [
    "reg_model= create_model('catboost')"
   ]
  },
  {
   "cell_type": "code",
   "execution_count": 14,
   "metadata": {},
   "outputs": [
    {
     "data": {
      "text/html": [
       "<div>\n",
       "<style scoped>\n",
       "    .dataframe tbody tr th:only-of-type {\n",
       "        vertical-align: middle;\n",
       "    }\n",
       "\n",
       "    .dataframe tbody tr th {\n",
       "        vertical-align: top;\n",
       "    }\n",
       "\n",
       "    .dataframe thead th {\n",
       "        text-align: right;\n",
       "    }\n",
       "</style>\n",
       "<table border=\"1\" class=\"dataframe\">\n",
       "  <thead>\n",
       "    <tr style=\"text-align: right;\">\n",
       "      <th></th>\n",
       "      <th>MAE</th>\n",
       "      <th>MSE</th>\n",
       "      <th>RMSE</th>\n",
       "      <th>R2</th>\n",
       "      <th>RMSLE</th>\n",
       "      <th>MAPE</th>\n",
       "    </tr>\n",
       "  </thead>\n",
       "  <tbody>\n",
       "    <tr>\n",
       "      <th>0</th>\n",
       "      <td>1.8705</td>\n",
       "      <td>7.4692</td>\n",
       "      <td>2.7330</td>\n",
       "      <td>0.8397</td>\n",
       "      <td>0.1500</td>\n",
       "      <td>0.1078</td>\n",
       "    </tr>\n",
       "    <tr>\n",
       "      <th>1</th>\n",
       "      <td>1.9412</td>\n",
       "      <td>7.4367</td>\n",
       "      <td>2.7270</td>\n",
       "      <td>0.9108</td>\n",
       "      <td>0.1250</td>\n",
       "      <td>0.1010</td>\n",
       "    </tr>\n",
       "    <tr>\n",
       "      <th>2</th>\n",
       "      <td>1.8219</td>\n",
       "      <td>5.0169</td>\n",
       "      <td>2.2398</td>\n",
       "      <td>0.9501</td>\n",
       "      <td>0.1157</td>\n",
       "      <td>0.0922</td>\n",
       "    </tr>\n",
       "    <tr>\n",
       "      <th>3</th>\n",
       "      <td>2.8935</td>\n",
       "      <td>23.0718</td>\n",
       "      <td>4.8033</td>\n",
       "      <td>0.7873</td>\n",
       "      <td>0.1645</td>\n",
       "      <td>0.1234</td>\n",
       "    </tr>\n",
       "    <tr>\n",
       "      <th>4</th>\n",
       "      <td>1.5680</td>\n",
       "      <td>4.4984</td>\n",
       "      <td>2.1209</td>\n",
       "      <td>0.9688</td>\n",
       "      <td>0.1010</td>\n",
       "      <td>0.0799</td>\n",
       "    </tr>\n",
       "    <tr>\n",
       "      <th>5</th>\n",
       "      <td>1.7561</td>\n",
       "      <td>4.7730</td>\n",
       "      <td>2.1847</td>\n",
       "      <td>0.9391</td>\n",
       "      <td>0.1121</td>\n",
       "      <td>0.0920</td>\n",
       "    </tr>\n",
       "    <tr>\n",
       "      <th>6</th>\n",
       "      <td>1.6293</td>\n",
       "      <td>5.9114</td>\n",
       "      <td>2.4313</td>\n",
       "      <td>0.8732</td>\n",
       "      <td>0.1080</td>\n",
       "      <td>0.0796</td>\n",
       "    </tr>\n",
       "    <tr>\n",
       "      <th>7</th>\n",
       "      <td>2.5809</td>\n",
       "      <td>16.5127</td>\n",
       "      <td>4.0636</td>\n",
       "      <td>0.8144</td>\n",
       "      <td>0.1762</td>\n",
       "      <td>0.1311</td>\n",
       "    </tr>\n",
       "    <tr>\n",
       "      <th>8</th>\n",
       "      <td>1.8904</td>\n",
       "      <td>6.4448</td>\n",
       "      <td>2.5387</td>\n",
       "      <td>0.9314</td>\n",
       "      <td>0.1520</td>\n",
       "      <td>0.1171</td>\n",
       "    </tr>\n",
       "    <tr>\n",
       "      <th>9</th>\n",
       "      <td>1.7112</td>\n",
       "      <td>6.2798</td>\n",
       "      <td>2.5060</td>\n",
       "      <td>0.8933</td>\n",
       "      <td>0.1244</td>\n",
       "      <td>0.0846</td>\n",
       "    </tr>\n",
       "    <tr>\n",
       "      <th>Mean</th>\n",
       "      <td>1.9663</td>\n",
       "      <td>8.7415</td>\n",
       "      <td>2.8348</td>\n",
       "      <td>0.8908</td>\n",
       "      <td>0.1329</td>\n",
       "      <td>0.1009</td>\n",
       "    </tr>\n",
       "    <tr>\n",
       "      <th>SD</th>\n",
       "      <td>0.4069</td>\n",
       "      <td>5.7969</td>\n",
       "      <td>0.8397</td>\n",
       "      <td>0.0578</td>\n",
       "      <td>0.0246</td>\n",
       "      <td>0.0174</td>\n",
       "    </tr>\n",
       "  </tbody>\n",
       "</table>\n",
       "</div>"
      ],
      "text/plain": [
       "         MAE      MSE    RMSE      R2   RMSLE    MAPE\n",
       "0     1.8705   7.4692  2.7330  0.8397  0.1500  0.1078\n",
       "1     1.9412   7.4367  2.7270  0.9108  0.1250  0.1010\n",
       "2     1.8219   5.0169  2.2398  0.9501  0.1157  0.0922\n",
       "3     2.8935  23.0718  4.8033  0.7873  0.1645  0.1234\n",
       "4     1.5680   4.4984  2.1209  0.9688  0.1010  0.0799\n",
       "5     1.7561   4.7730  2.1847  0.9391  0.1121  0.0920\n",
       "6     1.6293   5.9114  2.4313  0.8732  0.1080  0.0796\n",
       "7     2.5809  16.5127  4.0636  0.8144  0.1762  0.1311\n",
       "8     1.8904   6.4448  2.5387  0.9314  0.1520  0.1171\n",
       "9     1.7112   6.2798  2.5060  0.8933  0.1244  0.0846\n",
       "Mean  1.9663   8.7415  2.8348  0.8908  0.1329  0.1009\n",
       "SD    0.4069   5.7969  0.8397  0.0578  0.0246  0.0174"
      ]
     },
     "metadata": {},
     "output_type": "display_data"
    }
   ],
   "source": [
    "hypertune_reg =tune_model('catboost',n_iter=50,optimize='mae');"
   ]
  },
  {
   "cell_type": "markdown",
   "metadata": {},
   "source": [
    "# #clustering "
   ]
  },
  {
   "cell_type": "code",
   "execution_count": 15,
   "metadata": {},
   "outputs": [
    {
     "data": {
      "text/html": [
       "<div>\n",
       "<style scoped>\n",
       "    .dataframe tbody tr th:only-of-type {\n",
       "        vertical-align: middle;\n",
       "    }\n",
       "\n",
       "    .dataframe tbody tr th {\n",
       "        vertical-align: top;\n",
       "    }\n",
       "\n",
       "    .dataframe thead th {\n",
       "        text-align: right;\n",
       "    }\n",
       "</style>\n",
       "<table border=\"1\" class=\"dataframe\">\n",
       "  <thead>\n",
       "    <tr style=\"text-align: right;\">\n",
       "      <th></th>\n",
       "      <th>Age</th>\n",
       "      <th>Income</th>\n",
       "      <th>SpendingScore</th>\n",
       "      <th>Savings</th>\n",
       "    </tr>\n",
       "  </thead>\n",
       "  <tbody>\n",
       "    <tr>\n",
       "      <th>0</th>\n",
       "      <td>58</td>\n",
       "      <td>77769</td>\n",
       "      <td>0.791329</td>\n",
       "      <td>6559.829923</td>\n",
       "    </tr>\n",
       "    <tr>\n",
       "      <th>1</th>\n",
       "      <td>59</td>\n",
       "      <td>81799</td>\n",
       "      <td>0.791082</td>\n",
       "      <td>5417.661426</td>\n",
       "    </tr>\n",
       "    <tr>\n",
       "      <th>2</th>\n",
       "      <td>62</td>\n",
       "      <td>74751</td>\n",
       "      <td>0.702657</td>\n",
       "      <td>9258.992965</td>\n",
       "    </tr>\n",
       "    <tr>\n",
       "      <th>3</th>\n",
       "      <td>59</td>\n",
       "      <td>74373</td>\n",
       "      <td>0.765680</td>\n",
       "      <td>7346.334504</td>\n",
       "    </tr>\n",
       "    <tr>\n",
       "      <th>4</th>\n",
       "      <td>87</td>\n",
       "      <td>17760</td>\n",
       "      <td>0.348778</td>\n",
       "      <td>16869.507130</td>\n",
       "    </tr>\n",
       "  </tbody>\n",
       "</table>\n",
       "</div>"
      ],
      "text/plain": [
       "   Age  Income  SpendingScore       Savings\n",
       "0   58   77769       0.791329   6559.829923\n",
       "1   59   81799       0.791082   5417.661426\n",
       "2   62   74751       0.702657   9258.992965\n",
       "3   59   74373       0.765680   7346.334504\n",
       "4   87   17760       0.348778  16869.507130"
      ]
     },
     "metadata": {},
     "output_type": "display_data"
    }
   ],
   "source": [
    "\n",
    "jewellery = get_data('jewellery')\n"
   ]
  },
  {
   "cell_type": "code",
   "execution_count": 16,
   "metadata": {},
   "outputs": [
    {
     "name": "stdout",
     "output_type": "stream",
     "text": [
      "\n",
      "Setup Succesfully Completed!\n"
     ]
    },
    {
     "data": {
      "text/html": [
       "<style  type=\"text/css\" >\n",
       "</style><table id=\"T_922caa1e_cf5d_11ea_b4d5_94b86dac7f41\" ><thead>    <tr>        <th class=\"blank level0\" ></th>        <th class=\"col_heading level0 col0\" >Description</th>        <th class=\"col_heading level0 col1\" >Value</th>    </tr></thead><tbody>\n",
       "                <tr>\n",
       "                        <th id=\"T_922caa1e_cf5d_11ea_b4d5_94b86dac7f41level0_row0\" class=\"row_heading level0 row0\" >0</th>\n",
       "                        <td id=\"T_922caa1e_cf5d_11ea_b4d5_94b86dac7f41row0_col0\" class=\"data row0 col0\" >session_id </td>\n",
       "                        <td id=\"T_922caa1e_cf5d_11ea_b4d5_94b86dac7f41row0_col1\" class=\"data row0 col1\" >5559</td>\n",
       "            </tr>\n",
       "            <tr>\n",
       "                        <th id=\"T_922caa1e_cf5d_11ea_b4d5_94b86dac7f41level0_row1\" class=\"row_heading level0 row1\" >1</th>\n",
       "                        <td id=\"T_922caa1e_cf5d_11ea_b4d5_94b86dac7f41row1_col0\" class=\"data row1 col0\" >Original Data </td>\n",
       "                        <td id=\"T_922caa1e_cf5d_11ea_b4d5_94b86dac7f41row1_col1\" class=\"data row1 col1\" >(505, 4)</td>\n",
       "            </tr>\n",
       "            <tr>\n",
       "                        <th id=\"T_922caa1e_cf5d_11ea_b4d5_94b86dac7f41level0_row2\" class=\"row_heading level0 row2\" >2</th>\n",
       "                        <td id=\"T_922caa1e_cf5d_11ea_b4d5_94b86dac7f41row2_col0\" class=\"data row2 col0\" >Missing Values </td>\n",
       "                        <td id=\"T_922caa1e_cf5d_11ea_b4d5_94b86dac7f41row2_col1\" class=\"data row2 col1\" >False</td>\n",
       "            </tr>\n",
       "            <tr>\n",
       "                        <th id=\"T_922caa1e_cf5d_11ea_b4d5_94b86dac7f41level0_row3\" class=\"row_heading level0 row3\" >3</th>\n",
       "                        <td id=\"T_922caa1e_cf5d_11ea_b4d5_94b86dac7f41row3_col0\" class=\"data row3 col0\" >Numeric Features </td>\n",
       "                        <td id=\"T_922caa1e_cf5d_11ea_b4d5_94b86dac7f41row3_col1\" class=\"data row3 col1\" >4</td>\n",
       "            </tr>\n",
       "            <tr>\n",
       "                        <th id=\"T_922caa1e_cf5d_11ea_b4d5_94b86dac7f41level0_row4\" class=\"row_heading level0 row4\" >4</th>\n",
       "                        <td id=\"T_922caa1e_cf5d_11ea_b4d5_94b86dac7f41row4_col0\" class=\"data row4 col0\" >Categorical Features </td>\n",
       "                        <td id=\"T_922caa1e_cf5d_11ea_b4d5_94b86dac7f41row4_col1\" class=\"data row4 col1\" >0</td>\n",
       "            </tr>\n",
       "            <tr>\n",
       "                        <th id=\"T_922caa1e_cf5d_11ea_b4d5_94b86dac7f41level0_row5\" class=\"row_heading level0 row5\" >5</th>\n",
       "                        <td id=\"T_922caa1e_cf5d_11ea_b4d5_94b86dac7f41row5_col0\" class=\"data row5 col0\" >Ordinal Features </td>\n",
       "                        <td id=\"T_922caa1e_cf5d_11ea_b4d5_94b86dac7f41row5_col1\" class=\"data row5 col1\" >False</td>\n",
       "            </tr>\n",
       "            <tr>\n",
       "                        <th id=\"T_922caa1e_cf5d_11ea_b4d5_94b86dac7f41level0_row6\" class=\"row_heading level0 row6\" >6</th>\n",
       "                        <td id=\"T_922caa1e_cf5d_11ea_b4d5_94b86dac7f41row6_col0\" class=\"data row6 col0\" >High Cardinality Features </td>\n",
       "                        <td id=\"T_922caa1e_cf5d_11ea_b4d5_94b86dac7f41row6_col1\" class=\"data row6 col1\" >False</td>\n",
       "            </tr>\n",
       "            <tr>\n",
       "                        <th id=\"T_922caa1e_cf5d_11ea_b4d5_94b86dac7f41level0_row7\" class=\"row_heading level0 row7\" >7</th>\n",
       "                        <td id=\"T_922caa1e_cf5d_11ea_b4d5_94b86dac7f41row7_col0\" class=\"data row7 col0\" >Transformed Data </td>\n",
       "                        <td id=\"T_922caa1e_cf5d_11ea_b4d5_94b86dac7f41row7_col1\" class=\"data row7 col1\" >(505, 4)</td>\n",
       "            </tr>\n",
       "            <tr>\n",
       "                        <th id=\"T_922caa1e_cf5d_11ea_b4d5_94b86dac7f41level0_row8\" class=\"row_heading level0 row8\" >8</th>\n",
       "                        <td id=\"T_922caa1e_cf5d_11ea_b4d5_94b86dac7f41row8_col0\" class=\"data row8 col0\" >Numeric Imputer </td>\n",
       "                        <td id=\"T_922caa1e_cf5d_11ea_b4d5_94b86dac7f41row8_col1\" class=\"data row8 col1\" >mean</td>\n",
       "            </tr>\n",
       "            <tr>\n",
       "                        <th id=\"T_922caa1e_cf5d_11ea_b4d5_94b86dac7f41level0_row9\" class=\"row_heading level0 row9\" >9</th>\n",
       "                        <td id=\"T_922caa1e_cf5d_11ea_b4d5_94b86dac7f41row9_col0\" class=\"data row9 col0\" >Categorical Imputer </td>\n",
       "                        <td id=\"T_922caa1e_cf5d_11ea_b4d5_94b86dac7f41row9_col1\" class=\"data row9 col1\" >constant</td>\n",
       "            </tr>\n",
       "            <tr>\n",
       "                        <th id=\"T_922caa1e_cf5d_11ea_b4d5_94b86dac7f41level0_row10\" class=\"row_heading level0 row10\" >10</th>\n",
       "                        <td id=\"T_922caa1e_cf5d_11ea_b4d5_94b86dac7f41row10_col0\" class=\"data row10 col0\" >Normalize </td>\n",
       "                        <td id=\"T_922caa1e_cf5d_11ea_b4d5_94b86dac7f41row10_col1\" class=\"data row10 col1\" >False</td>\n",
       "            </tr>\n",
       "            <tr>\n",
       "                        <th id=\"T_922caa1e_cf5d_11ea_b4d5_94b86dac7f41level0_row11\" class=\"row_heading level0 row11\" >11</th>\n",
       "                        <td id=\"T_922caa1e_cf5d_11ea_b4d5_94b86dac7f41row11_col0\" class=\"data row11 col0\" >Normalize Method </td>\n",
       "                        <td id=\"T_922caa1e_cf5d_11ea_b4d5_94b86dac7f41row11_col1\" class=\"data row11 col1\" >None</td>\n",
       "            </tr>\n",
       "            <tr>\n",
       "                        <th id=\"T_922caa1e_cf5d_11ea_b4d5_94b86dac7f41level0_row12\" class=\"row_heading level0 row12\" >12</th>\n",
       "                        <td id=\"T_922caa1e_cf5d_11ea_b4d5_94b86dac7f41row12_col0\" class=\"data row12 col0\" >Transformation </td>\n",
       "                        <td id=\"T_922caa1e_cf5d_11ea_b4d5_94b86dac7f41row12_col1\" class=\"data row12 col1\" >False</td>\n",
       "            </tr>\n",
       "            <tr>\n",
       "                        <th id=\"T_922caa1e_cf5d_11ea_b4d5_94b86dac7f41level0_row13\" class=\"row_heading level0 row13\" >13</th>\n",
       "                        <td id=\"T_922caa1e_cf5d_11ea_b4d5_94b86dac7f41row13_col0\" class=\"data row13 col0\" >Transformation Method </td>\n",
       "                        <td id=\"T_922caa1e_cf5d_11ea_b4d5_94b86dac7f41row13_col1\" class=\"data row13 col1\" >None</td>\n",
       "            </tr>\n",
       "            <tr>\n",
       "                        <th id=\"T_922caa1e_cf5d_11ea_b4d5_94b86dac7f41level0_row14\" class=\"row_heading level0 row14\" >14</th>\n",
       "                        <td id=\"T_922caa1e_cf5d_11ea_b4d5_94b86dac7f41row14_col0\" class=\"data row14 col0\" >PCA </td>\n",
       "                        <td id=\"T_922caa1e_cf5d_11ea_b4d5_94b86dac7f41row14_col1\" class=\"data row14 col1\" >False</td>\n",
       "            </tr>\n",
       "            <tr>\n",
       "                        <th id=\"T_922caa1e_cf5d_11ea_b4d5_94b86dac7f41level0_row15\" class=\"row_heading level0 row15\" >15</th>\n",
       "                        <td id=\"T_922caa1e_cf5d_11ea_b4d5_94b86dac7f41row15_col0\" class=\"data row15 col0\" >PCA Method </td>\n",
       "                        <td id=\"T_922caa1e_cf5d_11ea_b4d5_94b86dac7f41row15_col1\" class=\"data row15 col1\" >None</td>\n",
       "            </tr>\n",
       "            <tr>\n",
       "                        <th id=\"T_922caa1e_cf5d_11ea_b4d5_94b86dac7f41level0_row16\" class=\"row_heading level0 row16\" >16</th>\n",
       "                        <td id=\"T_922caa1e_cf5d_11ea_b4d5_94b86dac7f41row16_col0\" class=\"data row16 col0\" >PCA components </td>\n",
       "                        <td id=\"T_922caa1e_cf5d_11ea_b4d5_94b86dac7f41row16_col1\" class=\"data row16 col1\" >None</td>\n",
       "            </tr>\n",
       "            <tr>\n",
       "                        <th id=\"T_922caa1e_cf5d_11ea_b4d5_94b86dac7f41level0_row17\" class=\"row_heading level0 row17\" >17</th>\n",
       "                        <td id=\"T_922caa1e_cf5d_11ea_b4d5_94b86dac7f41row17_col0\" class=\"data row17 col0\" >Ignore Low Variance </td>\n",
       "                        <td id=\"T_922caa1e_cf5d_11ea_b4d5_94b86dac7f41row17_col1\" class=\"data row17 col1\" >False</td>\n",
       "            </tr>\n",
       "            <tr>\n",
       "                        <th id=\"T_922caa1e_cf5d_11ea_b4d5_94b86dac7f41level0_row18\" class=\"row_heading level0 row18\" >18</th>\n",
       "                        <td id=\"T_922caa1e_cf5d_11ea_b4d5_94b86dac7f41row18_col0\" class=\"data row18 col0\" >Combine Rare Levels </td>\n",
       "                        <td id=\"T_922caa1e_cf5d_11ea_b4d5_94b86dac7f41row18_col1\" class=\"data row18 col1\" >False</td>\n",
       "            </tr>\n",
       "            <tr>\n",
       "                        <th id=\"T_922caa1e_cf5d_11ea_b4d5_94b86dac7f41level0_row19\" class=\"row_heading level0 row19\" >19</th>\n",
       "                        <td id=\"T_922caa1e_cf5d_11ea_b4d5_94b86dac7f41row19_col0\" class=\"data row19 col0\" >Rare Level Threshold </td>\n",
       "                        <td id=\"T_922caa1e_cf5d_11ea_b4d5_94b86dac7f41row19_col1\" class=\"data row19 col1\" >None</td>\n",
       "            </tr>\n",
       "            <tr>\n",
       "                        <th id=\"T_922caa1e_cf5d_11ea_b4d5_94b86dac7f41level0_row20\" class=\"row_heading level0 row20\" >20</th>\n",
       "                        <td id=\"T_922caa1e_cf5d_11ea_b4d5_94b86dac7f41row20_col0\" class=\"data row20 col0\" >Numeric Binning </td>\n",
       "                        <td id=\"T_922caa1e_cf5d_11ea_b4d5_94b86dac7f41row20_col1\" class=\"data row20 col1\" >False</td>\n",
       "            </tr>\n",
       "            <tr>\n",
       "                        <th id=\"T_922caa1e_cf5d_11ea_b4d5_94b86dac7f41level0_row21\" class=\"row_heading level0 row21\" >21</th>\n",
       "                        <td id=\"T_922caa1e_cf5d_11ea_b4d5_94b86dac7f41row21_col0\" class=\"data row21 col0\" >Remove Multicollinearity </td>\n",
       "                        <td id=\"T_922caa1e_cf5d_11ea_b4d5_94b86dac7f41row21_col1\" class=\"data row21 col1\" >False</td>\n",
       "            </tr>\n",
       "            <tr>\n",
       "                        <th id=\"T_922caa1e_cf5d_11ea_b4d5_94b86dac7f41level0_row22\" class=\"row_heading level0 row22\" >22</th>\n",
       "                        <td id=\"T_922caa1e_cf5d_11ea_b4d5_94b86dac7f41row22_col0\" class=\"data row22 col0\" >Multicollinearity Threshold </td>\n",
       "                        <td id=\"T_922caa1e_cf5d_11ea_b4d5_94b86dac7f41row22_col1\" class=\"data row22 col1\" >None</td>\n",
       "            </tr>\n",
       "            <tr>\n",
       "                        <th id=\"T_922caa1e_cf5d_11ea_b4d5_94b86dac7f41level0_row23\" class=\"row_heading level0 row23\" >23</th>\n",
       "                        <td id=\"T_922caa1e_cf5d_11ea_b4d5_94b86dac7f41row23_col0\" class=\"data row23 col0\" >Group Features </td>\n",
       "                        <td id=\"T_922caa1e_cf5d_11ea_b4d5_94b86dac7f41row23_col1\" class=\"data row23 col1\" >False</td>\n",
       "            </tr>\n",
       "    </tbody></table>"
      ],
      "text/plain": [
       "<pandas.io.formats.style.Styler at 0x26456700448>"
      ]
     },
     "metadata": {},
     "output_type": "display_data"
    }
   ],
   "source": [
    "from pycaret.clustering import *\n",
    "clust_algo =setup(jewellery)"
   ]
  },
  {
   "cell_type": "code",
   "execution_count": 18,
   "metadata": {},
   "outputs": [
    {
     "data": {
      "text/plain": [
       "KMeans(algorithm='auto', copy_x=True, init='k-means++', max_iter=300,\n",
       "       n_clusters=4, n_init=10, n_jobs=None, precompute_distances='auto',\n",
       "       random_state=5559, tol=0.0001, verbose=0)"
      ]
     },
     "execution_count": 18,
     "metadata": {},
     "output_type": "execute_result"
    }
   ],
   "source": [
    "kmeans = create_model('kmeans')\n",
    "kmeans"
   ]
  },
  {
   "cell_type": "code",
   "execution_count": 20,
   "metadata": {},
   "outputs": [
    {
     "data": {
      "text/html": [
       "<div>\n",
       "<style scoped>\n",
       "    .dataframe tbody tr th:only-of-type {\n",
       "        vertical-align: middle;\n",
       "    }\n",
       "\n",
       "    .dataframe tbody tr th {\n",
       "        vertical-align: top;\n",
       "    }\n",
       "\n",
       "    .dataframe thead th {\n",
       "        text-align: right;\n",
       "    }\n",
       "</style>\n",
       "<table border=\"1\" class=\"dataframe\">\n",
       "  <thead>\n",
       "    <tr style=\"text-align: right;\">\n",
       "      <th></th>\n",
       "      <th>Age</th>\n",
       "      <th>Income</th>\n",
       "      <th>SpendingScore</th>\n",
       "      <th>Savings</th>\n",
       "      <th>Cluster</th>\n",
       "    </tr>\n",
       "  </thead>\n",
       "  <tbody>\n",
       "    <tr>\n",
       "      <th>0</th>\n",
       "      <td>58</td>\n",
       "      <td>77769</td>\n",
       "      <td>0.791329</td>\n",
       "      <td>6559.829923</td>\n",
       "      <td>Cluster 2</td>\n",
       "    </tr>\n",
       "    <tr>\n",
       "      <th>1</th>\n",
       "      <td>59</td>\n",
       "      <td>81799</td>\n",
       "      <td>0.791082</td>\n",
       "      <td>5417.661426</td>\n",
       "      <td>Cluster 2</td>\n",
       "    </tr>\n",
       "    <tr>\n",
       "      <th>2</th>\n",
       "      <td>62</td>\n",
       "      <td>74751</td>\n",
       "      <td>0.702657</td>\n",
       "      <td>9258.992965</td>\n",
       "      <td>Cluster 2</td>\n",
       "    </tr>\n",
       "    <tr>\n",
       "      <th>3</th>\n",
       "      <td>59</td>\n",
       "      <td>74373</td>\n",
       "      <td>0.765680</td>\n",
       "      <td>7346.334504</td>\n",
       "      <td>Cluster 2</td>\n",
       "    </tr>\n",
       "    <tr>\n",
       "      <th>4</th>\n",
       "      <td>87</td>\n",
       "      <td>17760</td>\n",
       "      <td>0.348778</td>\n",
       "      <td>16869.507130</td>\n",
       "      <td>Cluster 0</td>\n",
       "    </tr>\n",
       "  </tbody>\n",
       "</table>\n",
       "</div>"
      ],
      "text/plain": [
       "   Age  Income  SpendingScore       Savings    Cluster\n",
       "0   58   77769       0.791329   6559.829923  Cluster 2\n",
       "1   59   81799       0.791082   5417.661426  Cluster 2\n",
       "2   62   74751       0.702657   9258.992965  Cluster 2\n",
       "3   59   74373       0.765680   7346.334504  Cluster 2\n",
       "4   87   17760       0.348778  16869.507130  Cluster 0"
      ]
     },
     "execution_count": 20,
     "metadata": {},
     "output_type": "execute_result"
    }
   ],
   "source": [
    "kmeans_df = assign_model(kmeans)\n",
    "kmeans_df.head()"
   ]
  },
  {
   "cell_type": "code",
   "execution_count": 22,
   "metadata": {},
   "outputs": [
    {
     "data": {
      "text/html": [
       "        <script type=\"text/javascript\">\n",
       "        window.PlotlyConfig = {MathJaxConfig: 'local'};\n",
       "        if (window.MathJax) {MathJax.Hub.Config({SVG: {font: \"STIX-Web\"}});}\n",
       "        if (typeof require !== 'undefined') {\n",
       "        require.undef(\"plotly\");\n",
       "        requirejs.config({\n",
       "            paths: {\n",
       "                'plotly': ['https://cdn.plot.ly/plotly-latest.min']\n",
       "            }\n",
       "        });\n",
       "        require(['plotly'], function(Plotly) {\n",
       "            window._Plotly = Plotly;\n",
       "        });\n",
       "        }\n",
       "        </script>\n",
       "        "
      ]
     },
     "metadata": {},
     "output_type": "display_data"
    },
    {
     "data": {
      "application/vnd.plotly.v1+json": {
       "config": {
        "plotlyServerURL": "https://plot.ly"
       },
       "data": [
        {
         "customdata": [
          [
           58
          ],
          [
           59
          ],
          [
           62
          ],
          [
           59
          ],
          [
           87
          ],
          [
           29
          ],
          [
           54
          ],
          [
           87
          ],
          [
           83
          ],
          [
           84
          ],
          [
           85
          ],
          [
           36
          ],
          [
           30
          ],
          [
           31
          ],
          [
           61
          ],
          [
           92
          ],
          [
           55
          ],
          [
           87
          ],
          [
           82
          ],
          [
           88
          ],
          [
           30
          ],
          [
           84
          ],
          [
           53
          ],
          [
           91
          ],
          [
           89
          ],
          [
           30
          ],
          [
           17
          ],
          [
           55
          ],
          [
           90
          ],
          [
           61
          ],
          [
           59
          ],
          [
           59
          ],
          [
           88
          ],
          [
           56
          ],
          [
           33
          ],
          [
           61
          ],
          [
           84
          ],
          [
           61
          ],
          [
           39
          ],
          [
           31
          ],
          [
           60
          ],
          [
           87
          ],
          [
           20
          ],
          [
           57
          ],
          [
           61
          ],
          [
           18
          ],
          [
           83
          ],
          [
           25
          ],
          [
           31
          ],
          [
           55
          ],
          [
           84
          ],
          [
           36
          ],
          [
           27
          ],
          [
           91
          ],
          [
           53
          ],
          [
           91
          ],
          [
           25
          ],
          [
           83
          ],
          [
           87
          ],
          [
           90
          ],
          [
           83
          ],
          [
           83
          ],
          [
           83
          ],
          [
           61
          ],
          [
           64
          ],
          [
           62
          ],
          [
           91
          ],
          [
           28
          ],
          [
           23
          ],
          [
           55
          ],
          [
           58
          ],
          [
           31
          ],
          [
           83
          ],
          [
           91
          ],
          [
           30
          ],
          [
           57
          ],
          [
           33
          ],
          [
           59
          ],
          [
           58
          ],
          [
           29
          ],
          [
           59
          ],
          [
           84
          ],
          [
           64
          ],
          [
           87
          ],
          [
           88
          ],
          [
           35
          ],
          [
           34
          ],
          [
           58
          ],
          [
           56
          ],
          [
           63
          ],
          [
           58
          ],
          [
           60
          ],
          [
           24
          ],
          [
           94
          ],
          [
           58
          ],
          [
           25
          ],
          [
           36
          ],
          [
           62
          ],
          [
           66
          ],
          [
           37
          ],
          [
           27
          ],
          [
           24
          ],
          [
           31
          ],
          [
           23
          ],
          [
           34
          ],
          [
           88
          ],
          [
           89
          ],
          [
           32
          ],
          [
           38
          ],
          [
           57
          ],
          [
           90
          ],
          [
           33
          ],
          [
           66
          ],
          [
           35
          ],
          [
           31
          ],
          [
           35
          ],
          [
           63
          ],
          [
           30
          ],
          [
           22
          ],
          [
           84
          ],
          [
           28
          ],
          [
           88
          ],
          [
           84
          ],
          [
           88
          ],
          [
           35
          ],
          [
           82
          ],
          [
           64
          ],
          [
           91
          ],
          [
           62
          ],
          [
           62
          ],
          [
           34
          ],
          [
           60
          ],
          [
           32
          ],
          [
           65
          ],
          [
           24
          ],
          [
           88
          ],
          [
           82
          ],
          [
           26
          ],
          [
           60
          ],
          [
           31
          ],
          [
           85
          ],
          [
           63
          ],
          [
           56
          ],
          [
           28
          ],
          [
           58
          ],
          [
           26
          ],
          [
           62
          ]
         ],
         "hoverlabel": {
          "namelength": 0
         },
         "hovertemplate": "Cluster=Cluster 0<br>PCA1=%{x}<br>PCA2=%{y}<br>Feature=%{customdata[0]}",
         "legendgroup": "Cluster=Cluster 0",
         "marker": {
          "color": "#636efa",
          "opacity": 0.5,
          "symbol": "circle"
         },
         "mode": "markers",
         "name": "Cluster=Cluster 0",
         "showlegend": true,
         "textposition": "top center",
         "type": "scatter",
         "x": [
          -45316.581406095574,
          -49427.524137026114,
          -47129.84416342061,
          -47975.62989430368,
          -41047.376366850294,
          -57176.86780610604,
          -42194.79873495242,
          -47211.309218979404,
          -55300.438356116465,
          -39708.64698966348,
          -37510.588011321175,
          -43231.47790879878,
          -55368.9842756801,
          -48469.75822555577,
          -51191.18311026794,
          -46897.287204841836,
          -36822.88272990107,
          -42594.24300193297,
          -48754.55322293145,
          -49610.67501015969,
          -28705.212826769814,
          -47927.75615335326,
          -45592.662714596445,
          -50446.68725850559,
          -42805.17469366228,
          -40907.25147798809,
          -51240.794674902085,
          -42382.6988320362,
          -46294.696525815096,
          -49640.516333935906,
          -33685.82303783499,
          -41654.285370916725,
          -46752.17189114909,
          -53680.72058527788,
          -60035.355735186306,
          -47339.947334108256,
          -59885.183450800876,
          -41090.43271162366,
          -51335.69636219801,
          -43219.57063079796,
          -45489.12002421862,
          -47271.41327624212,
          -54957.49098917233,
          -44945.699014443,
          -40724.15688509663,
          -47490.05337363707,
          -58306.893741211316,
          -44680.893509319234,
          -51006.62596717178,
          -49952.563864247546,
          -50055.787564293554,
          -50029.04867348442,
          -48459.57885316466,
          -42253.87287795822,
          -43012.7697834914,
          -58127.50387027,
          -45508.35388587766,
          -50504.823142737696,
          -48762.36466827119,
          -37730.76934060817,
          -28723.99191956601,
          -46206.76070917288,
          -44821.271955370925,
          -56178.67327005177,
          -49206.0729792362,
          -54413.15855352473,
          -45504.92821664386,
          -53514.36608306824,
          -43811.47262039389,
          -63634.72200273956,
          -39063.2866761909,
          -63656.34758998012,
          -53329.088908637925,
          -56491.72616160143,
          -53484.99044797619,
          -57750.75774612389,
          -42432.64509966227,
          -48329.375219863425,
          -47000.17170879291,
          -48496.84792497304,
          -53103.8479128973,
          -46522.919419751175,
          -39882.023331383025,
          -46108.564418073125,
          -45148.062146087905,
          -57495.82751822279,
          -48890.162042831646,
          -48254.00622992488,
          -56854.24491468409,
          -41272.8953398618,
          -55116.83601816837,
          -58771.330100436164,
          -51459.51350546344,
          -56820.08755360424,
          -42172.09142372814,
          -39916.590611526895,
          -48448.18982139338,
          -49274.44239615929,
          -46888.40589877375,
          -47148.0495066526,
          -51304.420791210185,
          -49855.36023906116,
          -49083.98904448347,
          -52219.788910263225,
          -53905.330808706676,
          -45889.16124528394,
          -39730.75492373198,
          -44207.369196690044,
          -42334.04767150634,
          -49618.56425158389,
          -42152.502819378744,
          -39255.473865513464,
          -52957.616291780956,
          -48338.70466261932,
          -56895.33602609464,
          -41183.65207165711,
          -47591.225111219996,
          -52877.381646033355,
          -38257.01252267869,
          -45243.3359957098,
          -38870.67264138035,
          -55003.11473536294,
          -51590.97205811302,
          -51858.95285225973,
          -48031.600338698336,
          -53120.54070874581,
          -52745.27199507382,
          -57888.98693798615,
          -44891.72694017816,
          -33223.78792758689,
          -46621.675189920876,
          -57945.29400939378,
          -52350.13688160766,
          -44316.39097613651,
          -42485.19893050838,
          -41229.085326467895,
          -55837.89621255906,
          -57516.27318363642,
          -42546.30928703383,
          -47366.64939309711,
          -40392.523538135756,
          -48086.471615067814,
          -52508.30353343573,
          -45053.50115134016,
          -48867.334224124745,
          -40276.44813108955,
          -47072.8327082788
         ],
         "xaxis": "x",
         "y": [
          72.341896208541,
          -3282.4967836895103,
          -2166.9455265130246,
          -2697.480649636873,
          163.0086019424059,
          -500.3822260290347,
          -2831.2449726497766,
          -497.0287321468143,
          -2379.445392952535,
          -2812.640832274527,
          -2385.930673599972,
          -2464.366506729348,
          -990.607597031653,
          -975.0110199269368,
          -2999.0481368530063,
          -1500.5997535503461,
          -3004.1359250357314,
          -4573.1359496761315,
          -3476.7575329414067,
          -2494.346015854769,
          -2125.516573296834,
          1139.0677249894095,
          -1858.741542867275,
          -1789.831061373505,
          -2383.9235864924353,
          -2247.7230980697595,
          -337.58311029945673,
          -1026.2178281219421,
          -3445.140762666876,
          -2403.452656500527,
          -2359.9810608524376,
          -1284.2763352326012,
          -4260.667936777426,
          -1523.1531827794768,
          -2067.785202202857,
          -2756.210456765216,
          968.182184170177,
          -2507.468037848858,
          -2253.3249547903133,
          -982.6374045457429,
          -857.2365574199121,
          -1422.2632521531457,
          -1273.0340909671534,
          -2663.4363034143594,
          -3403.3549980948796,
          -1025.655637713158,
          -1498.3070625904002,
          -3320.2381091067423,
          1229.634202103801,
          -1016.3628176053354,
          -458.7329379734681,
          -2907.798180135492,
          -623.0248233972341,
          -2813.4088657561038,
          -2388.397515567187,
          -3329.4241557503897,
          -1716.0957515179941,
          -2541.1040744024217,
          -1902.3037525718119,
          -3447.5228656993527,
          -1283.2493416842203,
          -3972.437291114198,
          -809.2478504066135,
          -1450.7318688866615,
          646.543872375205,
          -1055.9968931753688,
          -1656.4250558163048,
          -3511.650542757559,
          -3844.0506429942843,
          -958.5365645110749,
          -2178.9512608782675,
          -672.1303645870979,
          -3704.115203066883,
          -1529.9495201383825,
          -2964.8711615389434,
          -1546.7860227984638,
          -2804.3175987818167,
          -2106.9565485318567,
          -3258.592731249429,
          -1255.0231217175199,
          -1838.6646455566593,
          -2395.15062032791,
          -3145.838811669632,
          -4704.9007181400775,
          -918.443541374457,
          -874.5938320396223,
          -3117.043572435124,
          -3586.392912339361,
          -1039.8869670204494,
          -2039.0519450914778,
          -3386.631387427836,
          -1946.4256348815322,
          -1443.6312210611668,
          -2626.494760123041,
          -3482.9509244203145,
          -5860.406970913431,
          -424.49445160247075,
          -1819.1411133435668,
          -1747.2845158743746,
          -948.1700320034137,
          -1341.6421504993373,
          -2551.6409458673,
          -2706.954245859542,
          -361.82287722905954,
          776.7213551828822,
          -3656.860040523122,
          -3215.311753103619,
          -1788.5950192551393,
          -946.4427010468269,
          -1200.4987085747011,
          -3595.426499455155,
          -2456.0624695072056,
          -512.1681616652352,
          -296.94791022013555,
          -219.83567344031948,
          -2299.177576458252,
          -2876.0168218541626,
          -1034.046286118068,
          -3209.7056998551225,
          -2386.7446703879696,
          -4966.632983631632,
          -1806.3716349634751,
          -1709.6809922654024,
          -1998.3145148841265,
          -2520.8796709258986,
          -2373.906852113615,
          -3270.2500120301265,
          -2297.4104284560144,
          -1059.5099705589164,
          -4327.599800404028,
          -1061.392829700627,
          -1690.2235244245398,
          -1271.8366968001822,
          -1681.1078093986166,
          -1573.1293339464687,
          -559.888734331156,
          -2913.1513261933924,
          -2662.237917413057,
          -2323.955025066742,
          -2226.523883594684,
          -1918.070653976536,
          -3267.6645334787436,
          -2003.3795586148942,
          -3267.853088065967,
          -3330.0950893142626,
          -3159.40306528874,
          -3652.143022077505
         ],
         "yaxis": "y"
        },
        {
         "customdata": [
          [
           86
          ],
          [
           56
          ],
          [
           91
          ],
          [
           59
          ],
          [
           28
          ],
          [
           85
          ],
          [
           65
          ],
          [
           94
          ],
          [
           86
          ],
          [
           30
          ],
          [
           62
          ],
          [
           85
          ],
          [
           59
          ],
          [
           30
          ],
          [
           83
          ],
          [
           66
          ],
          [
           31
          ],
          [
           88
          ],
          [
           28
          ],
          [
           85
          ],
          [
           64
          ],
          [
           33
          ],
          [
           62
          ],
          [
           89
          ],
          [
           61
          ],
          [
           29
          ],
          [
           56
          ],
          [
           92
          ],
          [
           62
          ],
          [
           60
          ],
          [
           85
          ],
          [
           88
          ],
          [
           94
          ],
          [
           62
          ],
          [
           64
          ],
          [
           29
          ],
          [
           27
          ],
          [
           31
          ],
          [
           87
          ],
          [
           32
          ],
          [
           63
          ],
          [
           58
          ],
          [
           62
          ],
          [
           32
          ],
          [
           93
          ],
          [
           59
          ],
          [
           61
          ],
          [
           53
          ],
          [
           82
          ],
          [
           28
          ],
          [
           32
          ],
          [
           89
          ],
          [
           84
          ],
          [
           87
          ],
          [
           29
          ],
          [
           58
          ],
          [
           29
          ],
          [
           55
          ],
          [
           25
          ],
          [
           60
          ],
          [
           88
          ],
          [
           24
          ],
          [
           56
          ],
          [
           95
          ],
          [
           89
          ],
          [
           86
          ],
          [
           85
          ],
          [
           60
          ],
          [
           87
          ],
          [
           29
          ],
          [
           23
          ],
          [
           31
          ],
          [
           89
          ],
          [
           58
          ],
          [
           56
          ],
          [
           37
          ],
          [
           89
          ],
          [
           29
          ],
          [
           23
          ],
          [
           34
          ],
          [
           64
          ],
          [
           63
          ],
          [
           85
          ],
          [
           62
          ],
          [
           59
          ],
          [
           92
          ],
          [
           67
          ],
          [
           58
          ],
          [
           58
          ],
          [
           38
          ],
          [
           57
          ],
          [
           31
          ],
          [
           36
          ],
          [
           25
          ],
          [
           66
          ],
          [
           64
          ],
          [
           59
          ],
          [
           90
          ],
          [
           68
          ],
          [
           35
          ],
          [
           84
          ],
          [
           24
          ],
          [
           29
          ],
          [
           28
          ],
          [
           81
          ],
          [
           57
          ],
          [
           37
          ],
          [
           91
          ],
          [
           82
          ],
          [
           36
          ],
          [
           31
          ],
          [
           61
          ],
          [
           64
          ],
          [
           83
          ],
          [
           63
          ],
          [
           55
          ],
          [
           86
          ],
          [
           57
          ],
          [
           94
          ],
          [
           37
          ],
          [
           26
          ],
          [
           57
          ],
          [
           37
          ],
          [
           88
          ],
          [
           61
          ],
          [
           91
          ],
          [
           84
          ],
          [
           43
          ],
          [
           59
          ],
          [
           90
          ]
         ],
         "hoverlabel": {
          "namelength": 0
         },
         "hovertemplate": "Cluster=Cluster 1<br>PCA1=%{x}<br>PCA2=%{y}<br>Feature=%{customdata[0]}",
         "legendgroup": "Cluster=Cluster 1",
         "marker": {
          "color": "#EF553B",
          "opacity": 0.5,
          "symbol": "circle"
         },
         "mode": "markers",
         "name": "Cluster=Cluster 1",
         "showlegend": true,
         "textposition": "top center",
         "type": "scatter",
         "x": [
          30806.776341952784,
          24706.12835284515,
          25328.069962281665,
          25363.91922672041,
          37194.902279074195,
          26228.37628643618,
          37939.71700891233,
          31960.754514207256,
          26983.046364278183,
          20592.346613007754,
          35036.7158554872,
          18943.37281781303,
          34834.90179465996,
          35572.71538685355,
          25732.344972190545,
          32561.02536006329,
          23470.84703332801,
          31361.08526779914,
          31045.220255678778,
          27758.387575808203,
          35758.275435536685,
          39135.376223130064,
          30949.636901997932,
          32572.75027236618,
          23967.006087975617,
          35579.20581580629,
          22393.41773018012,
          31911.001239366324,
          40673.859644327444,
          26298.14841024672,
          38869.64945267169,
          32797.643669354926,
          21900.785300032756,
          38847.16976776079,
          32210.9797686424,
          22224.556143435286,
          19295.267686809562,
          25474.40276379728,
          24613.751980326113,
          21973.30795044382,
          41298.63129283506,
          30584.124615113236,
          32416.93987389554,
          23032.680124651262,
          24491.38889864472,
          37228.734745200665,
          29861.546669621446,
          33379.42058468908,
          32912.892063315834,
          22350.769816321557,
          39513.27355543241,
          25938.05049675624,
          25376.693266073155,
          14006.000965365394,
          22105.034591078245,
          30046.489080926054,
          30148.68267391607,
          15764.491431415825,
          32307.93672914094,
          24294.80847834633,
          31253.4685304494,
          32289.540207166643,
          34830.866037353575,
          31016.952770667864,
          34815.25492053804,
          31614.442565419093,
          23196.213306438225,
          36008.7253591223,
          33345.15627123117,
          23858.598240023417,
          22258.608668569894,
          23748.67781545404,
          34360.481807350574,
          32345.70842870059,
          32149.921292682873,
          27456.913266673102,
          32322.908553122474,
          38938.11813871434,
          31317.2980645537,
          30614.165778553557,
          39941.23737509608,
          20486.14069594545,
          24819.360949497746,
          31330.343984524774,
          28912.89513619994,
          28960.634964946767,
          36813.76713420395,
          33203.842568888016,
          28627.25985640029,
          26343.678673902457,
          32691.869561685715,
          26507.042872359907,
          29210.55694643968,
          36260.39985707387,
          38543.62512292868,
          28639.38500245049,
          31502.360342968223,
          26312.372968927524,
          22236.169474372276,
          33217.92661094808,
          16918.67620110012,
          26023.56635140614,
          39399.40138181148,
          34753.14848573079,
          23022.21826312664,
          40419.57669510414,
          19785.994393274676,
          30836.978307627433,
          23392.94204685058,
          25765.79004232835,
          30950.101839682393,
          15177.31971466768,
          30155.334159636972,
          30268.705481263285,
          27412.69140542122,
          19017.1694649175,
          32853.062283695246,
          35023.21627080028,
          31202.41268247607,
          26003.522431925612,
          28681.54988758575,
          35187.91053468465,
          24827.978780545964,
          40849.48059769062,
          26071.98118135924,
          29240.509748648095,
          34060.87750047383,
          26578.153196266176,
          35711.07999432945,
          23896.36880790408
         ],
         "xaxis": "x",
         "y": [
          -5560.204679600006,
          -6304.286871577947,
          -4507.818852759073,
          -6518.8777436186265,
          -4030.4860762357544,
          -4266.484164687805,
          -4683.440281859754,
          -7950.137679904545,
          -2897.4181107781205,
          -4611.587648361574,
          -6415.6995362262505,
          -6099.926511675165,
          -5079.540930731752,
          -4807.665202226779,
          -4846.28000974612,
          -5658.529147335401,
          -4720.24892540839,
          -4837.589604607755,
          -4354.880673536978,
          -3524.6018820414956,
          -4122.472097486015,
          -4339.707016425758,
          -4397.197322284795,
          -6711.005814772028,
          -5918.696393593379,
          -6195.2565154027325,
          -5150.746928288216,
          -2672.9112969661546,
          -5771.827716588532,
          -5023.038755192277,
          -4117.8360470190155,
          -5654.546848389323,
          -5234.914435436249,
          -8209.63930809388,
          -5806.362366658901,
          -5737.014216399175,
          -3266.6501002799155,
          -4541.161711915868,
          -3288.4642893518353,
          -5227.9723061599525,
          -6422.065006311355,
          -5198.651743783725,
          -3316.873784519853,
          -5461.179044520957,
          -3378.5440905478704,
          -4575.537648425255,
          -4210.491742797327,
          -4139.053044046941,
          -4588.664684244314,
          -5405.192380070514,
          -4805.682520520943,
          -4054.252841897087,
          -3922.3292073945436,
          -1775.605039983353,
          -4346.187741550612,
          -2733.1094851712664,
          -3727.641222685247,
          -2149.1522120766244,
          -3401.0815217687796,
          -3156.174867738153,
          -4792.820172444666,
          -3634.341360640741,
          -5377.229021116219,
          -4865.004407317281,
          -5108.281670571715,
          -3948.41315370151,
          -5613.714946473873,
          -6111.7051713952615,
          -6080.2998260482045,
          -4857.9973025145555,
          -5195.925409188558,
          -4085.387888540781,
          -5038.81644074218,
          -2201.720436215357,
          -5508.945169399099,
          -4868.312164441832,
          -3681.2903856818057,
          -4443.169815276391,
          -6141.763263553497,
          -4762.434912619339,
          -5237.49503230101,
          -4804.203700356803,
          -6443.116567478202,
          -5635.163544619189,
          -5224.554435670846,
          -5439.902381792012,
          -4615.462129870632,
          -6552.893169384947,
          -3324.8164217780177,
          -3863.0068749343095,
          -6066.457122934578,
          -5484.6746561211,
          -6286.356908964107,
          -3890.344796261259,
          -7198.063753004444,
          -3130.9505393461045,
          -5081.205331963825,
          -4286.405360287335,
          -4400.042331000774,
          -4387.404636496329,
          -2877.1946078768788,
          -7172.334785619938,
          -5202.090344164471,
          -4008.5890127539037,
          -4439.122859420634,
          -6642.23364026395,
          -4699.391527469766,
          -4248.410998779934,
          -5117.926369906294,
          -4647.515091833701,
          -6274.399407676461,
          4253.6702688112655,
          -6491.845916302066,
          -4917.675594824389,
          -5970.659605817783,
          -4587.056600403999,
          -5910.595724540106,
          -4416.577273256121,
          -4006.880782404125,
          -3786.1336424715314,
          -4194.112454577072,
          -4164.858385743975,
          -5088.6083123016115,
          -5591.430862352511,
          -4687.76461949545,
          -5240.709879901144,
          -5075.678351149008,
          -4542.181472406771,
          -4543.4811053447365,
          -4653.572550884042
         ],
         "yaxis": "y"
        },
        {
         "customdata": [
          [
           88
          ],
          [
           59
          ],
          [
           59
          ],
          [
           88
          ],
          [
           37
          ],
          [
           33
          ],
          [
           90
          ],
          [
           31
          ],
          [
           90
          ],
          [
           91
          ],
          [
           29
          ],
          [
           83
          ],
          [
           84
          ],
          [
           87
          ],
          [
           22
          ],
          [
           58
          ],
          [
           31
          ],
          [
           33
          ],
          [
           56
          ],
          [
           30
          ],
          [
           85
          ],
          [
           87
          ],
          [
           34
          ],
          [
           61
          ],
          [
           30
          ],
          [
           88
          ],
          [
           56
          ],
          [
           30
          ],
          [
           25
          ],
          [
           61
          ],
          [
           88
          ],
          [
           37
          ],
          [
           35
          ],
          [
           85
          ],
          [
           85
          ],
          [
           88
          ],
          [
           59
          ],
          [
           90
          ],
          [
           33
          ],
          [
           62
          ],
          [
           59
          ],
          [
           91
          ],
          [
           33
          ],
          [
           87
          ],
          [
           26
          ],
          [
           88
          ],
          [
           24
          ],
          [
           91
          ],
          [
           86
          ],
          [
           36
          ],
          [
           87
          ],
          [
           33
          ],
          [
           59
          ],
          [
           29
          ],
          [
           59
          ],
          [
           57
          ],
          [
           40
          ],
          [
           42
          ],
          [
           89
          ],
          [
           93
          ],
          [
           17
          ],
          [
           24
          ],
          [
           34
          ],
          [
           90
          ],
          [
           20
          ],
          [
           92
          ],
          [
           84
          ],
          [
           59
          ],
          [
           61
          ],
          [
           67
          ],
          [
           82
          ],
          [
           94
          ],
          [
           28
          ],
          [
           36
          ],
          [
           91
          ],
          [
           34
          ],
          [
           77
          ],
          [
           63
          ],
          [
           35
          ],
          [
           21
          ],
          [
           86
          ],
          [
           56
          ],
          [
           83
          ],
          [
           28
          ],
          [
           59
          ],
          [
           83
          ],
          [
           83
          ],
          [
           58
          ],
          [
           91
          ],
          [
           29
          ],
          [
           61
          ],
          [
           84
          ],
          [
           34
          ],
          [
           33
          ],
          [
           55
          ],
          [
           88
          ],
          [
           91
          ],
          [
           91
          ],
          [
           84
          ],
          [
           87
          ],
          [
           39
          ],
          [
           38
          ],
          [
           89
          ],
          [
           59
          ],
          [
           35
          ],
          [
           59
          ],
          [
           87
          ],
          [
           94
          ],
          [
           86
          ],
          [
           60
          ],
          [
           79
          ],
          [
           86
          ],
          [
           60
          ],
          [
           85
          ],
          [
           92
          ],
          [
           37
          ],
          [
           89
          ],
          [
           67
          ],
          [
           31
          ],
          [
           20
          ],
          [
           37
          ],
          [
           57
          ],
          [
           87
          ],
          [
           33
          ],
          [
           56
          ],
          [
           67
          ],
          [
           58
          ],
          [
           89
          ],
          [
           34
          ],
          [
           25
          ],
          [
           44
          ],
          [
           68
          ],
          [
           31
          ],
          [
           58
          ],
          [
           55
          ],
          [
           21
          ],
          [
           36
          ],
          [
           88
          ],
          [
           26
          ],
          [
           29
          ],
          [
           38
          ],
          [
           79
          ],
          [
           51
          ],
          [
           82
          ],
          [
           39
          ],
          [
           87
          ],
          [
           36
          ],
          [
           57
          ],
          [
           61
          ],
          [
           86
          ],
          [
           86
          ],
          [
           35
          ],
          [
           89
          ],
          [
           30
          ],
          [
           60
          ],
          [
           64
          ]
         ],
         "hoverlabel": {
          "namelength": 0
         },
         "hovertemplate": "Cluster=Cluster 2<br>PCA1=%{x}<br>PCA2=%{y}<br>Feature=%{customdata[0]}",
         "legendgroup": "Cluster=Cluster 2",
         "marker": {
          "color": "#00cc96",
          "opacity": 0.5,
          "symbol": "circle"
         },
         "mode": "markers",
         "name": "Cluster=Cluster 2",
         "showlegend": true,
         "textposition": "top center",
         "type": "scatter",
         "x": [
          -7981.746810683434,
          -10371.48705707171,
          -2220.6354506100597,
          3607.621847535447,
          -805.5182840466917,
          -811.2733012583004,
          -3147.971690102397,
          -12402.61400603573,
          5619.125538763626,
          2868.675335891812,
          7034.566991846877,
          -1709.0067116984312,
          -3127.7464754071816,
          4615.604589783895,
          4968.764645874572,
          -6214.354917756373,
          5679.935032255559,
          -4794.730185972457,
          -9823.292971418654,
          -5787.584457334283,
          1547.912439559427,
          -7431.169946592943,
          -11770.096221904685,
          -3197.770674931705,
          -1424.2968527852481,
          -5149.414552966308,
          -4588.845682887322,
          -9176.93991716044,
          1855.0479869186845,
          7017.407229806949,
          5122.282562298919,
          -967.134529229481,
          -10419.65072709327,
          -4883.720561797806,
          3333.0370081988967,
          -7827.504392605746,
          -6270.130057704633,
          -4114.66581250266,
          -7225.656651496549,
          -4661.64319943644,
          -6586.375015596337,
          -7793.211508914152,
          -6075.723945911868,
          3574.8676282851334,
          -1755.3663563989862,
          -1864.5940590614434,
          -9270.983246113965,
          2555.7842351602158,
          -5898.744479681143,
          -5327.512619806882,
          -1710.0091006297732,
          -2630.794135208177,
          1381.2925438038967,
          -10238.83792874303,
          -2329.616759752763,
          -3536.62489961886,
          -11570.013629472285,
          -12594.175242128524,
          -3881.2792235448237,
          -9447.566957019651,
          -4595.725467462923,
          5567.478117111805,
          9121.208329826179,
          4848.44276438798,
          499.4966180961385,
          -4176.722631704306,
          -6529.597912750253,
          -7423.928769536227,
          -9153.992100917832,
          4864.6836514129955,
          -7249.028129796924,
          7325.256189492693,
          1198.2155272857235,
          -6945.490220855896,
          -5628.983771409204,
          -6874.447300583775,
          3175.7301008876825,
          -10072.875118803531,
          -5806.077052611815,
          -6051.7980271496335,
          11039.026942031705,
          -4972.922141129963,
          11129.424149229608,
          6644.59761279823,
          -611.8920766835425,
          -879.6961231840161,
          1270.5926186365132,
          -3354.4093954920436,
          -3652.0516272195146,
          1535.320034923864,
          3442.06786540105,
          1691.1469990055043,
          -9514.742122293763,
          -5495.930030665681,
          -11393.264281389034,
          -1006.794280892694,
          -11385.807297750875,
          10499.407295945583,
          -5228.773548143093,
          -2009.7086141751672,
          -847.3002227743362,
          -13124.391604038397,
          -6112.701966838932,
          -14757.626854505603,
          -5414.451723823089,
          -4197.995995572501,
          -907.6690876091158,
          4241.775895153048,
          -2601.869628345942,
          1797.8692846207564,
          -860.4354477953748,
          13091.374153516677,
          -4333.353171495312,
          106.44730782999898,
          -5414.84962138029,
          -1148.5927138363124,
          834.606341685354,
          -182.8750970628947,
          -12401.012614422623,
          384.48865377878604,
          -15876.014194933867,
          2392.95140001323,
          -4856.160277619078,
          -9604.976101231392,
          -3578.6411667637294,
          3594.042421690832,
          -5713.304475031714,
          -7793.454352086524,
          -18832.323089995087,
          277.31945471803914,
          2456.1149429108855,
          3385.8220491313223,
          -1867.5011952055088,
          -4025.5345868614922,
          -5506.504775277299,
          1380.9095854822624,
          -1254.796105082277,
          1223.3332842063578,
          -10817.514881421732,
          375.61202524741634,
          -18377.080919160886,
          -7740.904879089714,
          -9600.009525716889,
          -284.93461613174765,
          -15159.901916245666,
          -4335.121223668238,
          -3902.6507601274043,
          -9955.599000501963,
          8122.080380415546,
          5073.487356522345,
          871.0561448640477,
          3735.222300120546,
          -8175.9447838416445,
          -7927.279393999558,
          -3222.02849711764,
          2663.8141427242613
         ],
         "xaxis": "x",
         "y": [
          3467.5659749114197,
          6211.274488459202,
          4177.140129281852,
          4852.444518767339,
          4348.095679784139,
          4771.515153180694,
          5506.996622913864,
          4277.420432790432,
          4314.803908984971,
          5223.642330390358,
          3374.2871342934277,
          3684.6952959403598,
          5318.281993622228,
          5713.442041909505,
          3943.1170736339136,
          8154.200533863812,
          4711.285967238693,
          5174.470545977295,
          6862.2475720806115,
          5711.62839326697,
          3973.9069974865147,
          6342.03690187803,
          5001.420783196853,
          5127.949261280458,
          7267.3285423970065,
          5556.666139133822,
          4468.268102563843,
          7146.66285825278,
          5468.743274286698,
          5588.800602998207,
          3424.073603905288,
          4638.7242406741525,
          5982.858221439135,
          4688.370746949259,
          4012.2154933423167,
          5701.697575023515,
          5401.821696967171,
          3078.896438494593,
          4564.617621855318,
          4875.412034392044,
          4795.659622307599,
          6334.243251982049,
          3500.5964543132545,
          6638.189488143049,
          4273.205301847636,
          5267.352553209779,
          5996.549152653397,
          5164.690387393577,
          5205.84015421388,
          5507.674538617936,
          5692.091704359402,
          5512.809888472103,
          5207.221097509012,
          7423.315368546439,
          6502.207882775595,
          5070.413098436327,
          6393.584927460238,
          5058.593507665869,
          3532.750801645637,
          6026.370137728774,
          4575.315245883315,
          6399.679457928579,
          4076.188863858499,
          6716.389270082331,
          4450.572465085802,
          5121.948177991022,
          5174.060016070753,
          5595.425208078432,
          6237.4550067498,
          4834.9539918658875,
          5030.101509904848,
          5245.750156657966,
          6031.597780098121,
          5240.283697626607,
          3413.4609900340342,
          3266.47018326438,
          4727.079813055349,
          7033.832306225474,
          5686.13234995181,
          6221.683453940022,
          4384.687289531574,
          5053.974394482309,
          2451.3956456354927,
          6074.108821940041,
          2642.856462873311,
          4574.029852480234,
          4918.861099714737,
          4039.0497082186093,
          4298.1479342158,
          6617.143404468859,
          3293.925709825785,
          4305.605513370141,
          5484.062210130752,
          5033.927181148626,
          4760.726683836122,
          6827.736752280871,
          5239.8344862521335,
          4092.586810582496,
          4906.821369117011,
          4571.311601888516,
          5435.293808150468,
          5122.298575466136,
          7150.265686204212,
          5008.01210377861,
          6401.496850378558,
          4646.423038232097,
          4662.571801362163,
          4854.373611538009,
          5720.06391063185,
          3616.9066222648635,
          1366.2175061913897,
          3878.0740056043546,
          6791.121727987133,
          5019.545071865862,
          4509.378948047732,
          6154.518606181518,
          5141.101367432592,
          4411.324353776286,
          6731.6223712281435,
          6845.141814371282,
          7337.46258433077,
          5992.684094109711,
          6861.841710581508,
          5517.456998799794,
          4687.331305792247,
          5244.223767536207,
          6098.4071714992115,
          5788.85389338375,
          6823.2533280405705,
          5152.077722121317,
          5539.978254276129,
          4513.159427781259,
          2685.6626854367964,
          5644.552199614272,
          6298.430178867738,
          5567.112673818734,
          6380.915494292794,
          5666.367954752703,
          6677.482101590941,
          5049.606296947778,
          5086.374324713106,
          5133.63947168739,
          4923.281603355224,
          4064.0083360808117,
          5573.24359276873,
          2658.297518890414,
          5499.339332721769,
          4085.3122504461226,
          4731.012058760931,
          5244.436809348919,
          5689.000453091913,
          4370.467828822719,
          5599.274828311295,
          5673.527728610807,
          4129.181189416358,
          3399.1203547303244
         ],
         "yaxis": "y"
        },
        {
         "customdata": [
          [
           37
          ],
          [
           65
          ],
          [
           90
          ],
          [
           59
          ],
          [
           29
          ],
          [
           58
          ],
          [
           88
          ],
          [
           63
          ],
          [
           92
          ],
          [
           17
          ],
          [
           34
          ],
          [
           22
          ],
          [
           24
          ],
          [
           36
          ],
          [
           34
          ],
          [
           87
          ],
          [
           85
          ],
          [
           61
          ],
          [
           27
          ],
          [
           59
          ],
          [
           31
          ],
          [
           31
          ],
          [
           93
          ],
          [
           17
          ],
          [
           35
          ],
          [
           28
          ],
          [
           94
          ],
          [
           28
          ],
          [
           33
          ],
          [
           56
          ],
          [
           28
          ],
          [
           86
          ],
          [
           92
          ],
          [
           18
          ],
          [
           61
          ],
          [
           32
          ],
          [
           63
          ],
          [
           58
          ],
          [
           31
          ],
          [
           62
          ],
          [
           60
          ],
          [
           62
          ],
          [
           90
          ],
          [
           33
          ],
          [
           33
          ],
          [
           65
          ],
          [
           59
          ],
          [
           65
          ],
          [
           86
          ],
          [
           32
          ],
          [
           84
          ],
          [
           84
          ],
          [
           90
          ],
          [
           91
          ],
          [
           26
          ],
          [
           92
          ],
          [
           97
          ],
          [
           84
          ],
          [
           58
          ],
          [
           61
          ],
          [
           92
          ],
          [
           87
          ],
          [
           66
          ],
          [
           22
          ],
          [
           91
          ],
          [
           30
          ],
          [
           25
          ],
          [
           28
          ],
          [
           93
          ],
          [
           90
          ],
          [
           91
          ],
          [
           89
          ]
         ],
         "hoverlabel": {
          "namelength": 0
         },
         "hovertemplate": "Cluster=Cluster 3<br>PCA1=%{x}<br>PCA2=%{y}<br>Feature=%{customdata[0]}",
         "legendgroup": "Cluster=Cluster 3",
         "marker": {
          "color": "#ab63fa",
          "opacity": 0.5,
          "symbol": "circle"
         },
         "mode": "markers",
         "name": "Cluster=Cluster 3",
         "showlegend": true,
         "textposition": "top center",
         "type": "scatter",
         "x": [
          48551.897791192634,
          42414.13984409392,
          46271.749990668126,
          48029.23598296091,
          62912.4570978057,
          43629.012739237536,
          55587.351730733586,
          56651.455483747486,
          41328.252663309984,
          43861.74709102549,
          53899.234059979586,
          44952.90203538893,
          47549.76254622708,
          47842.88367906651,
          59798.17482849972,
          47182.06858155577,
          51395.2243559995,
          57857.28905692232,
          47415.38916240534,
          58984.55027496727,
          48410.009290472284,
          55168.4515450619,
          59803.04557919302,
          53976.79000263131,
          56449.678138281415,
          46993.64108790838,
          53422.552485701235,
          41580.27174463821,
          47836.448391826845,
          48602.57111184021,
          52465.033586659905,
          52263.49410874446,
          50433.85138453333,
          51532.47005840451,
          46000.802484699554,
          63317.06653244292,
          52086.38065892722,
          50397.08389773136,
          43600.216180309755,
          54542.56026091129,
          52679.137422450585,
          54778.91990969144,
          45728.40114434413,
          59239.853528398155,
          41859.154369975586,
          48281.96476402192,
          54230.311420476624,
          49923.23240258632,
          48577.24594456368,
          45920.30384600759,
          45302.57090416745,
          55809.60825993981,
          43084.431301068355,
          48697.32854440997,
          50874.59373315182,
          44074.74432267947,
          47210.61128412963,
          52844.21454083211,
          47518.88131856793,
          53924.59703955878,
          42157.80542870097,
          66750.62108457653,
          45280.29645748764,
          61617.25602185723,
          61085.16181542693,
          41933.87634909211,
          55783.42885801492,
          42045.79570257138,
          55795.99791496396,
          45049.713037748494,
          59196.59308633912,
          47964.552261386896
         ],
         "xaxis": "x",
         "y": [
          4668.214697412174,
          -5432.28181950965,
          4207.414796612182,
          5422.323757682563,
          5261.355213266388,
          -6254.8409412091305,
          3427.1351952588097,
          4271.292185091135,
          -4823.645899335601,
          -6877.035883382073,
          3176.74688540909,
          -4985.514801220404,
          3437.8964823947786,
          4758.188729714915,
          4315.7517925590655,
          -4557.716601791882,
          5657.241494980819,
          5717.501137167641,
          4709.388807631826,
          3350.7116179336454,
          -5693.665441157455,
          4016.981622201614,
          8450.307562492615,
          5488.389984582108,
          5101.398697367522,
          -4647.1290885886565,
          3894.2354791277485,
          -5615.560772408646,
          6059.98332337455,
          6249.537360930084,
          3371.533065013097,
          5916.358054129831,
          -6854.206134077963,
          6006.733833662533,
          3884.452851319085,
          4946.177510120509,
          3388.4270346813737,
          2890.550968564703,
          -5657.478831520011,
          4193.882999372307,
          -4749.0570257153695,
          4629.791365281097,
          3658.306501252221,
          4745.144589124807,
          -4543.326267067202,
          8499.966944599808,
          3238.428770323684,
          6048.724079227708,
          -6305.307759672736,
          -4953.921129423367,
          3778.1814213096072,
          3879.1497332626573,
          -4660.855622444514,
          5282.497809754308,
          -5178.052813440078,
          -6307.6691406259815,
          6674.23467749592,
          -5677.667475551918,
          4941.999362973272,
          5765.842845736465,
          -5954.45460185115,
          2693.00818662175,
          4437.35656616774,
          6726.313750520612,
          4243.721728508765,
          4717.997205237608,
          4732.087714707706,
          -3106.1034758683627,
          4252.897540706997,
          4590.872583456106,
          3903.9749268153687,
          -4397.186114919684
         ],
         "yaxis": "y"
        }
       ],
       "layout": {
        "height": 600,
        "legend": {
         "tracegroupgap": 0
        },
        "margin": {
         "t": 60
        },
        "plot_bgcolor": "rgb(240,240,240)",
        "template": {
         "data": {
          "bar": [
           {
            "error_x": {
             "color": "#2a3f5f"
            },
            "error_y": {
             "color": "#2a3f5f"
            },
            "marker": {
             "line": {
              "color": "#E5ECF6",
              "width": 0.5
             }
            },
            "type": "bar"
           }
          ],
          "barpolar": [
           {
            "marker": {
             "line": {
              "color": "#E5ECF6",
              "width": 0.5
             }
            },
            "type": "barpolar"
           }
          ],
          "carpet": [
           {
            "aaxis": {
             "endlinecolor": "#2a3f5f",
             "gridcolor": "white",
             "linecolor": "white",
             "minorgridcolor": "white",
             "startlinecolor": "#2a3f5f"
            },
            "baxis": {
             "endlinecolor": "#2a3f5f",
             "gridcolor": "white",
             "linecolor": "white",
             "minorgridcolor": "white",
             "startlinecolor": "#2a3f5f"
            },
            "type": "carpet"
           }
          ],
          "choropleth": [
           {
            "colorbar": {
             "outlinewidth": 0,
             "ticks": ""
            },
            "type": "choropleth"
           }
          ],
          "contour": [
           {
            "colorbar": {
             "outlinewidth": 0,
             "ticks": ""
            },
            "colorscale": [
             [
              0,
              "#0d0887"
             ],
             [
              0.1111111111111111,
              "#46039f"
             ],
             [
              0.2222222222222222,
              "#7201a8"
             ],
             [
              0.3333333333333333,
              "#9c179e"
             ],
             [
              0.4444444444444444,
              "#bd3786"
             ],
             [
              0.5555555555555556,
              "#d8576b"
             ],
             [
              0.6666666666666666,
              "#ed7953"
             ],
             [
              0.7777777777777778,
              "#fb9f3a"
             ],
             [
              0.8888888888888888,
              "#fdca26"
             ],
             [
              1,
              "#f0f921"
             ]
            ],
            "type": "contour"
           }
          ],
          "contourcarpet": [
           {
            "colorbar": {
             "outlinewidth": 0,
             "ticks": ""
            },
            "type": "contourcarpet"
           }
          ],
          "heatmap": [
           {
            "colorbar": {
             "outlinewidth": 0,
             "ticks": ""
            },
            "colorscale": [
             [
              0,
              "#0d0887"
             ],
             [
              0.1111111111111111,
              "#46039f"
             ],
             [
              0.2222222222222222,
              "#7201a8"
             ],
             [
              0.3333333333333333,
              "#9c179e"
             ],
             [
              0.4444444444444444,
              "#bd3786"
             ],
             [
              0.5555555555555556,
              "#d8576b"
             ],
             [
              0.6666666666666666,
              "#ed7953"
             ],
             [
              0.7777777777777778,
              "#fb9f3a"
             ],
             [
              0.8888888888888888,
              "#fdca26"
             ],
             [
              1,
              "#f0f921"
             ]
            ],
            "type": "heatmap"
           }
          ],
          "heatmapgl": [
           {
            "colorbar": {
             "outlinewidth": 0,
             "ticks": ""
            },
            "colorscale": [
             [
              0,
              "#0d0887"
             ],
             [
              0.1111111111111111,
              "#46039f"
             ],
             [
              0.2222222222222222,
              "#7201a8"
             ],
             [
              0.3333333333333333,
              "#9c179e"
             ],
             [
              0.4444444444444444,
              "#bd3786"
             ],
             [
              0.5555555555555556,
              "#d8576b"
             ],
             [
              0.6666666666666666,
              "#ed7953"
             ],
             [
              0.7777777777777778,
              "#fb9f3a"
             ],
             [
              0.8888888888888888,
              "#fdca26"
             ],
             [
              1,
              "#f0f921"
             ]
            ],
            "type": "heatmapgl"
           }
          ],
          "histogram": [
           {
            "marker": {
             "colorbar": {
              "outlinewidth": 0,
              "ticks": ""
             }
            },
            "type": "histogram"
           }
          ],
          "histogram2d": [
           {
            "colorbar": {
             "outlinewidth": 0,
             "ticks": ""
            },
            "colorscale": [
             [
              0,
              "#0d0887"
             ],
             [
              0.1111111111111111,
              "#46039f"
             ],
             [
              0.2222222222222222,
              "#7201a8"
             ],
             [
              0.3333333333333333,
              "#9c179e"
             ],
             [
              0.4444444444444444,
              "#bd3786"
             ],
             [
              0.5555555555555556,
              "#d8576b"
             ],
             [
              0.6666666666666666,
              "#ed7953"
             ],
             [
              0.7777777777777778,
              "#fb9f3a"
             ],
             [
              0.8888888888888888,
              "#fdca26"
             ],
             [
              1,
              "#f0f921"
             ]
            ],
            "type": "histogram2d"
           }
          ],
          "histogram2dcontour": [
           {
            "colorbar": {
             "outlinewidth": 0,
             "ticks": ""
            },
            "colorscale": [
             [
              0,
              "#0d0887"
             ],
             [
              0.1111111111111111,
              "#46039f"
             ],
             [
              0.2222222222222222,
              "#7201a8"
             ],
             [
              0.3333333333333333,
              "#9c179e"
             ],
             [
              0.4444444444444444,
              "#bd3786"
             ],
             [
              0.5555555555555556,
              "#d8576b"
             ],
             [
              0.6666666666666666,
              "#ed7953"
             ],
             [
              0.7777777777777778,
              "#fb9f3a"
             ],
             [
              0.8888888888888888,
              "#fdca26"
             ],
             [
              1,
              "#f0f921"
             ]
            ],
            "type": "histogram2dcontour"
           }
          ],
          "mesh3d": [
           {
            "colorbar": {
             "outlinewidth": 0,
             "ticks": ""
            },
            "type": "mesh3d"
           }
          ],
          "parcoords": [
           {
            "line": {
             "colorbar": {
              "outlinewidth": 0,
              "ticks": ""
             }
            },
            "type": "parcoords"
           }
          ],
          "pie": [
           {
            "automargin": true,
            "type": "pie"
           }
          ],
          "scatter": [
           {
            "marker": {
             "colorbar": {
              "outlinewidth": 0,
              "ticks": ""
             }
            },
            "type": "scatter"
           }
          ],
          "scatter3d": [
           {
            "line": {
             "colorbar": {
              "outlinewidth": 0,
              "ticks": ""
             }
            },
            "marker": {
             "colorbar": {
              "outlinewidth": 0,
              "ticks": ""
             }
            },
            "type": "scatter3d"
           }
          ],
          "scattercarpet": [
           {
            "marker": {
             "colorbar": {
              "outlinewidth": 0,
              "ticks": ""
             }
            },
            "type": "scattercarpet"
           }
          ],
          "scattergeo": [
           {
            "marker": {
             "colorbar": {
              "outlinewidth": 0,
              "ticks": ""
             }
            },
            "type": "scattergeo"
           }
          ],
          "scattergl": [
           {
            "marker": {
             "colorbar": {
              "outlinewidth": 0,
              "ticks": ""
             }
            },
            "type": "scattergl"
           }
          ],
          "scattermapbox": [
           {
            "marker": {
             "colorbar": {
              "outlinewidth": 0,
              "ticks": ""
             }
            },
            "type": "scattermapbox"
           }
          ],
          "scatterpolar": [
           {
            "marker": {
             "colorbar": {
              "outlinewidth": 0,
              "ticks": ""
             }
            },
            "type": "scatterpolar"
           }
          ],
          "scatterpolargl": [
           {
            "marker": {
             "colorbar": {
              "outlinewidth": 0,
              "ticks": ""
             }
            },
            "type": "scatterpolargl"
           }
          ],
          "scatterternary": [
           {
            "marker": {
             "colorbar": {
              "outlinewidth": 0,
              "ticks": ""
             }
            },
            "type": "scatterternary"
           }
          ],
          "surface": [
           {
            "colorbar": {
             "outlinewidth": 0,
             "ticks": ""
            },
            "colorscale": [
             [
              0,
              "#0d0887"
             ],
             [
              0.1111111111111111,
              "#46039f"
             ],
             [
              0.2222222222222222,
              "#7201a8"
             ],
             [
              0.3333333333333333,
              "#9c179e"
             ],
             [
              0.4444444444444444,
              "#bd3786"
             ],
             [
              0.5555555555555556,
              "#d8576b"
             ],
             [
              0.6666666666666666,
              "#ed7953"
             ],
             [
              0.7777777777777778,
              "#fb9f3a"
             ],
             [
              0.8888888888888888,
              "#fdca26"
             ],
             [
              1,
              "#f0f921"
             ]
            ],
            "type": "surface"
           }
          ],
          "table": [
           {
            "cells": {
             "fill": {
              "color": "#EBF0F8"
             },
             "line": {
              "color": "white"
             }
            },
            "header": {
             "fill": {
              "color": "#C8D4E3"
             },
             "line": {
              "color": "white"
             }
            },
            "type": "table"
           }
          ]
         },
         "layout": {
          "annotationdefaults": {
           "arrowcolor": "#2a3f5f",
           "arrowhead": 0,
           "arrowwidth": 1
          },
          "coloraxis": {
           "colorbar": {
            "outlinewidth": 0,
            "ticks": ""
           }
          },
          "colorscale": {
           "diverging": [
            [
             0,
             "#8e0152"
            ],
            [
             0.1,
             "#c51b7d"
            ],
            [
             0.2,
             "#de77ae"
            ],
            [
             0.3,
             "#f1b6da"
            ],
            [
             0.4,
             "#fde0ef"
            ],
            [
             0.5,
             "#f7f7f7"
            ],
            [
             0.6,
             "#e6f5d0"
            ],
            [
             0.7,
             "#b8e186"
            ],
            [
             0.8,
             "#7fbc41"
            ],
            [
             0.9,
             "#4d9221"
            ],
            [
             1,
             "#276419"
            ]
           ],
           "sequential": [
            [
             0,
             "#0d0887"
            ],
            [
             0.1111111111111111,
             "#46039f"
            ],
            [
             0.2222222222222222,
             "#7201a8"
            ],
            [
             0.3333333333333333,
             "#9c179e"
            ],
            [
             0.4444444444444444,
             "#bd3786"
            ],
            [
             0.5555555555555556,
             "#d8576b"
            ],
            [
             0.6666666666666666,
             "#ed7953"
            ],
            [
             0.7777777777777778,
             "#fb9f3a"
            ],
            [
             0.8888888888888888,
             "#fdca26"
            ],
            [
             1,
             "#f0f921"
            ]
           ],
           "sequentialminus": [
            [
             0,
             "#0d0887"
            ],
            [
             0.1111111111111111,
             "#46039f"
            ],
            [
             0.2222222222222222,
             "#7201a8"
            ],
            [
             0.3333333333333333,
             "#9c179e"
            ],
            [
             0.4444444444444444,
             "#bd3786"
            ],
            [
             0.5555555555555556,
             "#d8576b"
            ],
            [
             0.6666666666666666,
             "#ed7953"
            ],
            [
             0.7777777777777778,
             "#fb9f3a"
            ],
            [
             0.8888888888888888,
             "#fdca26"
            ],
            [
             1,
             "#f0f921"
            ]
           ]
          },
          "colorway": [
           "#636efa",
           "#EF553B",
           "#00cc96",
           "#ab63fa",
           "#FFA15A",
           "#19d3f3",
           "#FF6692",
           "#B6E880",
           "#FF97FF",
           "#FECB52"
          ],
          "font": {
           "color": "#2a3f5f"
          },
          "geo": {
           "bgcolor": "white",
           "lakecolor": "white",
           "landcolor": "#E5ECF6",
           "showlakes": true,
           "showland": true,
           "subunitcolor": "white"
          },
          "hoverlabel": {
           "align": "left"
          },
          "hovermode": "closest",
          "mapbox": {
           "style": "light"
          },
          "paper_bgcolor": "white",
          "plot_bgcolor": "#E5ECF6",
          "polar": {
           "angularaxis": {
            "gridcolor": "white",
            "linecolor": "white",
            "ticks": ""
           },
           "bgcolor": "#E5ECF6",
           "radialaxis": {
            "gridcolor": "white",
            "linecolor": "white",
            "ticks": ""
           }
          },
          "scene": {
           "xaxis": {
            "backgroundcolor": "#E5ECF6",
            "gridcolor": "white",
            "gridwidth": 2,
            "linecolor": "white",
            "showbackground": true,
            "ticks": "",
            "zerolinecolor": "white"
           },
           "yaxis": {
            "backgroundcolor": "#E5ECF6",
            "gridcolor": "white",
            "gridwidth": 2,
            "linecolor": "white",
            "showbackground": true,
            "ticks": "",
            "zerolinecolor": "white"
           },
           "zaxis": {
            "backgroundcolor": "#E5ECF6",
            "gridcolor": "white",
            "gridwidth": 2,
            "linecolor": "white",
            "showbackground": true,
            "ticks": "",
            "zerolinecolor": "white"
           }
          },
          "shapedefaults": {
           "line": {
            "color": "#2a3f5f"
           }
          },
          "ternary": {
           "aaxis": {
            "gridcolor": "white",
            "linecolor": "white",
            "ticks": ""
           },
           "baxis": {
            "gridcolor": "white",
            "linecolor": "white",
            "ticks": ""
           },
           "bgcolor": "#E5ECF6",
           "caxis": {
            "gridcolor": "white",
            "linecolor": "white",
            "ticks": ""
           }
          },
          "title": {
           "x": 0.05
          },
          "xaxis": {
           "automargin": true,
           "gridcolor": "white",
           "linecolor": "white",
           "ticks": "",
           "title": {
            "standoff": 15
           },
           "zerolinecolor": "white",
           "zerolinewidth": 2
          },
          "yaxis": {
           "automargin": true,
           "gridcolor": "white",
           "linecolor": "white",
           "ticks": "",
           "title": {
            "standoff": 15
           },
           "zerolinecolor": "white",
           "zerolinewidth": 2
          }
         }
        },
        "title": {
         "text": "2D Cluster PCA Plot"
        },
        "xaxis": {
         "anchor": "y",
         "domain": [
          0,
          1
         ],
         "title": {
          "text": "PCA1"
         }
        },
        "yaxis": {
         "anchor": "x",
         "domain": [
          0,
          1
         ],
         "title": {
          "text": "PCA2"
         }
        }
       }
      },
      "text/html": [
       "<div>\n",
       "        \n",
       "        \n",
       "            <div id=\"dafd1770-6a14-4eea-914e-3c4f3ae34dc8\" class=\"plotly-graph-div\" style=\"height:600px; width:100%;\"></div>\n",
       "            <script type=\"text/javascript\">\n",
       "                require([\"plotly\"], function(Plotly) {\n",
       "                    window.PLOTLYENV=window.PLOTLYENV || {};\n",
       "                    \n",
       "                if (document.getElementById(\"dafd1770-6a14-4eea-914e-3c4f3ae34dc8\")) {\n",
       "                    Plotly.newPlot(\n",
       "                        'dafd1770-6a14-4eea-914e-3c4f3ae34dc8',\n",
       "                        [{\"customdata\": [[58], [59], [62], [59], [87], [29], [54], [87], [83], [84], [85], [36], [30], [31], [61], [92], [55], [87], [82], [88], [30], [84], [53], [91], [89], [30], [17], [55], [90], [61], [59], [59], [88], [56], [33], [61], [84], [61], [39], [31], [60], [87], [20], [57], [61], [18], [83], [25], [31], [55], [84], [36], [27], [91], [53], [91], [25], [83], [87], [90], [83], [83], [83], [61], [64], [62], [91], [28], [23], [55], [58], [31], [83], [91], [30], [57], [33], [59], [58], [29], [59], [84], [64], [87], [88], [35], [34], [58], [56], [63], [58], [60], [24], [94], [58], [25], [36], [62], [66], [37], [27], [24], [31], [23], [34], [88], [89], [32], [38], [57], [90], [33], [66], [35], [31], [35], [63], [30], [22], [84], [28], [88], [84], [88], [35], [82], [64], [91], [62], [62], [34], [60], [32], [65], [24], [88], [82], [26], [60], [31], [85], [63], [56], [28], [58], [26], [62]], \"hoverlabel\": {\"namelength\": 0}, \"hovertemplate\": \"Cluster=Cluster 0<br>PCA1=%{x}<br>PCA2=%{y}<br>Feature=%{customdata[0]}\", \"legendgroup\": \"Cluster=Cluster 0\", \"marker\": {\"color\": \"#636efa\", \"opacity\": 0.5, \"symbol\": \"circle\"}, \"mode\": \"markers\", \"name\": \"Cluster=Cluster 0\", \"showlegend\": true, \"textposition\": \"top center\", \"type\": \"scatter\", \"x\": [-45316.581406095574, -49427.524137026114, -47129.84416342061, -47975.62989430368, -41047.376366850294, -57176.86780610604, -42194.79873495242, -47211.309218979404, -55300.438356116465, -39708.64698966348, -37510.588011321175, -43231.47790879878, -55368.9842756801, -48469.75822555577, -51191.18311026794, -46897.287204841836, -36822.88272990107, -42594.24300193297, -48754.55322293145, -49610.67501015969, -28705.212826769814, -47927.75615335326, -45592.662714596445, -50446.68725850559, -42805.17469366228, -40907.25147798809, -51240.794674902085, -42382.6988320362, -46294.696525815096, -49640.516333935906, -33685.82303783499, -41654.285370916725, -46752.17189114909, -53680.72058527788, -60035.355735186306, -47339.947334108256, -59885.183450800876, -41090.43271162366, -51335.69636219801, -43219.57063079796, -45489.12002421862, -47271.41327624212, -54957.49098917233, -44945.699014443, -40724.15688509663, -47490.05337363707, -58306.893741211316, -44680.893509319234, -51006.62596717178, -49952.563864247546, -50055.787564293554, -50029.04867348442, -48459.57885316466, -42253.87287795822, -43012.7697834914, -58127.50387027, -45508.35388587766, -50504.823142737696, -48762.36466827119, -37730.76934060817, -28723.99191956601, -46206.76070917288, -44821.271955370925, -56178.67327005177, -49206.0729792362, -54413.15855352473, -45504.92821664386, -53514.36608306824, -43811.47262039389, -63634.72200273956, -39063.2866761909, -63656.34758998012, -53329.088908637925, -56491.72616160143, -53484.99044797619, -57750.75774612389, -42432.64509966227, -48329.375219863425, -47000.17170879291, -48496.84792497304, -53103.8479128973, -46522.919419751175, -39882.023331383025, -46108.564418073125, -45148.062146087905, -57495.82751822279, -48890.162042831646, -48254.00622992488, -56854.24491468409, -41272.8953398618, -55116.83601816837, -58771.330100436164, -51459.51350546344, -56820.08755360424, -42172.09142372814, -39916.590611526895, -48448.18982139338, -49274.44239615929, -46888.40589877375, -47148.0495066526, -51304.420791210185, -49855.36023906116, -49083.98904448347, -52219.788910263225, -53905.330808706676, -45889.16124528394, -39730.75492373198, -44207.369196690044, -42334.04767150634, -49618.56425158389, -42152.502819378744, -39255.473865513464, -52957.616291780956, -48338.70466261932, -56895.33602609464, -41183.65207165711, -47591.225111219996, -52877.381646033355, -38257.01252267869, -45243.3359957098, -38870.67264138035, -55003.11473536294, -51590.97205811302, -51858.95285225973, -48031.600338698336, -53120.54070874581, -52745.27199507382, -57888.98693798615, -44891.72694017816, -33223.78792758689, -46621.675189920876, -57945.29400939378, -52350.13688160766, -44316.39097613651, -42485.19893050838, -41229.085326467895, -55837.89621255906, -57516.27318363642, -42546.30928703383, -47366.64939309711, -40392.523538135756, -48086.471615067814, -52508.30353343573, -45053.50115134016, -48867.334224124745, -40276.44813108955, -47072.8327082788], \"xaxis\": \"x\", \"y\": [72.341896208541, -3282.4967836895103, -2166.9455265130246, -2697.480649636873, 163.0086019424059, -500.3822260290347, -2831.2449726497766, -497.0287321468143, -2379.445392952535, -2812.640832274527, -2385.930673599972, -2464.366506729348, -990.607597031653, -975.0110199269368, -2999.0481368530063, -1500.5997535503461, -3004.1359250357314, -4573.1359496761315, -3476.7575329414067, -2494.346015854769, -2125.516573296834, 1139.0677249894095, -1858.741542867275, -1789.831061373505, -2383.9235864924353, -2247.7230980697595, -337.58311029945673, -1026.2178281219421, -3445.140762666876, -2403.452656500527, -2359.9810608524376, -1284.2763352326012, -4260.667936777426, -1523.1531827794768, -2067.785202202857, -2756.210456765216, 968.182184170177, -2507.468037848858, -2253.3249547903133, -982.6374045457429, -857.2365574199121, -1422.2632521531457, -1273.0340909671534, -2663.4363034143594, -3403.3549980948796, -1025.655637713158, -1498.3070625904002, -3320.2381091067423, 1229.634202103801, -1016.3628176053354, -458.7329379734681, -2907.798180135492, -623.0248233972341, -2813.4088657561038, -2388.397515567187, -3329.4241557503897, -1716.0957515179941, -2541.1040744024217, -1902.3037525718119, -3447.5228656993527, -1283.2493416842203, -3972.437291114198, -809.2478504066135, -1450.7318688866615, 646.543872375205, -1055.9968931753688, -1656.4250558163048, -3511.650542757559, -3844.0506429942843, -958.5365645110749, -2178.9512608782675, -672.1303645870979, -3704.115203066883, -1529.9495201383825, -2964.8711615389434, -1546.7860227984638, -2804.3175987818167, -2106.9565485318567, -3258.592731249429, -1255.0231217175199, -1838.6646455566593, -2395.15062032791, -3145.838811669632, -4704.9007181400775, -918.443541374457, -874.5938320396223, -3117.043572435124, -3586.392912339361, -1039.8869670204494, -2039.0519450914778, -3386.631387427836, -1946.4256348815322, -1443.6312210611668, -2626.494760123041, -3482.9509244203145, -5860.406970913431, -424.49445160247075, -1819.1411133435668, -1747.2845158743746, -948.1700320034137, -1341.6421504993373, -2551.6409458673, -2706.954245859542, -361.82287722905954, 776.7213551828822, -3656.860040523122, -3215.311753103619, -1788.5950192551393, -946.4427010468269, -1200.4987085747011, -3595.426499455155, -2456.0624695072056, -512.1681616652352, -296.94791022013555, -219.83567344031948, -2299.177576458252, -2876.0168218541626, -1034.046286118068, -3209.7056998551225, -2386.7446703879696, -4966.632983631632, -1806.3716349634751, -1709.6809922654024, -1998.3145148841265, -2520.8796709258986, -2373.906852113615, -3270.2500120301265, -2297.4104284560144, -1059.5099705589164, -4327.599800404028, -1061.392829700627, -1690.2235244245398, -1271.8366968001822, -1681.1078093986166, -1573.1293339464687, -559.888734331156, -2913.1513261933924, -2662.237917413057, -2323.955025066742, -2226.523883594684, -1918.070653976536, -3267.6645334787436, -2003.3795586148942, -3267.853088065967, -3330.0950893142626, -3159.40306528874, -3652.143022077505], \"yaxis\": \"y\"}, {\"customdata\": [[86], [56], [91], [59], [28], [85], [65], [94], [86], [30], [62], [85], [59], [30], [83], [66], [31], [88], [28], [85], [64], [33], [62], [89], [61], [29], [56], [92], [62], [60], [85], [88], [94], [62], [64], [29], [27], [31], [87], [32], [63], [58], [62], [32], [93], [59], [61], [53], [82], [28], [32], [89], [84], [87], [29], [58], [29], [55], [25], [60], [88], [24], [56], [95], [89], [86], [85], [60], [87], [29], [23], [31], [89], [58], [56], [37], [89], [29], [23], [34], [64], [63], [85], [62], [59], [92], [67], [58], [58], [38], [57], [31], [36], [25], [66], [64], [59], [90], [68], [35], [84], [24], [29], [28], [81], [57], [37], [91], [82], [36], [31], [61], [64], [83], [63], [55], [86], [57], [94], [37], [26], [57], [37], [88], [61], [91], [84], [43], [59], [90]], \"hoverlabel\": {\"namelength\": 0}, \"hovertemplate\": \"Cluster=Cluster 1<br>PCA1=%{x}<br>PCA2=%{y}<br>Feature=%{customdata[0]}\", \"legendgroup\": \"Cluster=Cluster 1\", \"marker\": {\"color\": \"#EF553B\", \"opacity\": 0.5, \"symbol\": \"circle\"}, \"mode\": \"markers\", \"name\": \"Cluster=Cluster 1\", \"showlegend\": true, \"textposition\": \"top center\", \"type\": \"scatter\", \"x\": [30806.776341952784, 24706.12835284515, 25328.069962281665, 25363.91922672041, 37194.902279074195, 26228.37628643618, 37939.71700891233, 31960.754514207256, 26983.046364278183, 20592.346613007754, 35036.7158554872, 18943.37281781303, 34834.90179465996, 35572.71538685355, 25732.344972190545, 32561.02536006329, 23470.84703332801, 31361.08526779914, 31045.220255678778, 27758.387575808203, 35758.275435536685, 39135.376223130064, 30949.636901997932, 32572.75027236618, 23967.006087975617, 35579.20581580629, 22393.41773018012, 31911.001239366324, 40673.859644327444, 26298.14841024672, 38869.64945267169, 32797.643669354926, 21900.785300032756, 38847.16976776079, 32210.9797686424, 22224.556143435286, 19295.267686809562, 25474.40276379728, 24613.751980326113, 21973.30795044382, 41298.63129283506, 30584.124615113236, 32416.93987389554, 23032.680124651262, 24491.38889864472, 37228.734745200665, 29861.546669621446, 33379.42058468908, 32912.892063315834, 22350.769816321557, 39513.27355543241, 25938.05049675624, 25376.693266073155, 14006.000965365394, 22105.034591078245, 30046.489080926054, 30148.68267391607, 15764.491431415825, 32307.93672914094, 24294.80847834633, 31253.4685304494, 32289.540207166643, 34830.866037353575, 31016.952770667864, 34815.25492053804, 31614.442565419093, 23196.213306438225, 36008.7253591223, 33345.15627123117, 23858.598240023417, 22258.608668569894, 23748.67781545404, 34360.481807350574, 32345.70842870059, 32149.921292682873, 27456.913266673102, 32322.908553122474, 38938.11813871434, 31317.2980645537, 30614.165778553557, 39941.23737509608, 20486.14069594545, 24819.360949497746, 31330.343984524774, 28912.89513619994, 28960.634964946767, 36813.76713420395, 33203.842568888016, 28627.25985640029, 26343.678673902457, 32691.869561685715, 26507.042872359907, 29210.55694643968, 36260.39985707387, 38543.62512292868, 28639.38500245049, 31502.360342968223, 26312.372968927524, 22236.169474372276, 33217.92661094808, 16918.67620110012, 26023.56635140614, 39399.40138181148, 34753.14848573079, 23022.21826312664, 40419.57669510414, 19785.994393274676, 30836.978307627433, 23392.94204685058, 25765.79004232835, 30950.101839682393, 15177.31971466768, 30155.334159636972, 30268.705481263285, 27412.69140542122, 19017.1694649175, 32853.062283695246, 35023.21627080028, 31202.41268247607, 26003.522431925612, 28681.54988758575, 35187.91053468465, 24827.978780545964, 40849.48059769062, 26071.98118135924, 29240.509748648095, 34060.87750047383, 26578.153196266176, 35711.07999432945, 23896.36880790408], \"xaxis\": \"x\", \"y\": [-5560.204679600006, -6304.286871577947, -4507.818852759073, -6518.8777436186265, -4030.4860762357544, -4266.484164687805, -4683.440281859754, -7950.137679904545, -2897.4181107781205, -4611.587648361574, -6415.6995362262505, -6099.926511675165, -5079.540930731752, -4807.665202226779, -4846.28000974612, -5658.529147335401, -4720.24892540839, -4837.589604607755, -4354.880673536978, -3524.6018820414956, -4122.472097486015, -4339.707016425758, -4397.197322284795, -6711.005814772028, -5918.696393593379, -6195.2565154027325, -5150.746928288216, -2672.9112969661546, -5771.827716588532, -5023.038755192277, -4117.8360470190155, -5654.546848389323, -5234.914435436249, -8209.63930809388, -5806.362366658901, -5737.014216399175, -3266.6501002799155, -4541.161711915868, -3288.4642893518353, -5227.9723061599525, -6422.065006311355, -5198.651743783725, -3316.873784519853, -5461.179044520957, -3378.5440905478704, -4575.537648425255, -4210.491742797327, -4139.053044046941, -4588.664684244314, -5405.192380070514, -4805.682520520943, -4054.252841897087, -3922.3292073945436, -1775.605039983353, -4346.187741550612, -2733.1094851712664, -3727.641222685247, -2149.1522120766244, -3401.0815217687796, -3156.174867738153, -4792.820172444666, -3634.341360640741, -5377.229021116219, -4865.004407317281, -5108.281670571715, -3948.41315370151, -5613.714946473873, -6111.7051713952615, -6080.2998260482045, -4857.9973025145555, -5195.925409188558, -4085.387888540781, -5038.81644074218, -2201.720436215357, -5508.945169399099, -4868.312164441832, -3681.2903856818057, -4443.169815276391, -6141.763263553497, -4762.434912619339, -5237.49503230101, -4804.203700356803, -6443.116567478202, -5635.163544619189, -5224.554435670846, -5439.902381792012, -4615.462129870632, -6552.893169384947, -3324.8164217780177, -3863.0068749343095, -6066.457122934578, -5484.6746561211, -6286.356908964107, -3890.344796261259, -7198.063753004444, -3130.9505393461045, -5081.205331963825, -4286.405360287335, -4400.042331000774, -4387.404636496329, -2877.1946078768788, -7172.334785619938, -5202.090344164471, -4008.5890127539037, -4439.122859420634, -6642.23364026395, -4699.391527469766, -4248.410998779934, -5117.926369906294, -4647.515091833701, -6274.399407676461, 4253.6702688112655, -6491.845916302066, -4917.675594824389, -5970.659605817783, -4587.056600403999, -5910.595724540106, -4416.577273256121, -4006.880782404125, -3786.1336424715314, -4194.112454577072, -4164.858385743975, -5088.6083123016115, -5591.430862352511, -4687.76461949545, -5240.709879901144, -5075.678351149008, -4542.181472406771, -4543.4811053447365, -4653.572550884042], \"yaxis\": \"y\"}, {\"customdata\": [[88], [59], [59], [88], [37], [33], [90], [31], [90], [91], [29], [83], [84], [87], [22], [58], [31], [33], [56], [30], [85], [87], [34], [61], [30], [88], [56], [30], [25], [61], [88], [37], [35], [85], [85], [88], [59], [90], [33], [62], [59], [91], [33], [87], [26], [88], [24], [91], [86], [36], [87], [33], [59], [29], [59], [57], [40], [42], [89], [93], [17], [24], [34], [90], [20], [92], [84], [59], [61], [67], [82], [94], [28], [36], [91], [34], [77], [63], [35], [21], [86], [56], [83], [28], [59], [83], [83], [58], [91], [29], [61], [84], [34], [33], [55], [88], [91], [91], [84], [87], [39], [38], [89], [59], [35], [59], [87], [94], [86], [60], [79], [86], [60], [85], [92], [37], [89], [67], [31], [20], [37], [57], [87], [33], [56], [67], [58], [89], [34], [25], [44], [68], [31], [58], [55], [21], [36], [88], [26], [29], [38], [79], [51], [82], [39], [87], [36], [57], [61], [86], [86], [35], [89], [30], [60], [64]], \"hoverlabel\": {\"namelength\": 0}, \"hovertemplate\": \"Cluster=Cluster 2<br>PCA1=%{x}<br>PCA2=%{y}<br>Feature=%{customdata[0]}\", \"legendgroup\": \"Cluster=Cluster 2\", \"marker\": {\"color\": \"#00cc96\", \"opacity\": 0.5, \"symbol\": \"circle\"}, \"mode\": \"markers\", \"name\": \"Cluster=Cluster 2\", \"showlegend\": true, \"textposition\": \"top center\", \"type\": \"scatter\", \"x\": [-7981.746810683434, -10371.48705707171, -2220.6354506100597, 3607.621847535447, -805.5182840466917, -811.2733012583004, -3147.971690102397, -12402.61400603573, 5619.125538763626, 2868.675335891812, 7034.566991846877, -1709.0067116984312, -3127.7464754071816, 4615.604589783895, 4968.764645874572, -6214.354917756373, 5679.935032255559, -4794.730185972457, -9823.292971418654, -5787.584457334283, 1547.912439559427, -7431.169946592943, -11770.096221904685, -3197.770674931705, -1424.2968527852481, -5149.414552966308, -4588.845682887322, -9176.93991716044, 1855.0479869186845, 7017.407229806949, 5122.282562298919, -967.134529229481, -10419.65072709327, -4883.720561797806, 3333.0370081988967, -7827.504392605746, -6270.130057704633, -4114.66581250266, -7225.656651496549, -4661.64319943644, -6586.375015596337, -7793.211508914152, -6075.723945911868, 3574.8676282851334, -1755.3663563989862, -1864.5940590614434, -9270.983246113965, 2555.7842351602158, -5898.744479681143, -5327.512619806882, -1710.0091006297732, -2630.794135208177, 1381.2925438038967, -10238.83792874303, -2329.616759752763, -3536.62489961886, -11570.013629472285, -12594.175242128524, -3881.2792235448237, -9447.566957019651, -4595.725467462923, 5567.478117111805, 9121.208329826179, 4848.44276438798, 499.4966180961385, -4176.722631704306, -6529.597912750253, -7423.928769536227, -9153.992100917832, 4864.6836514129955, -7249.028129796924, 7325.256189492693, 1198.2155272857235, -6945.490220855896, -5628.983771409204, -6874.447300583775, 3175.7301008876825, -10072.875118803531, -5806.077052611815, -6051.7980271496335, 11039.026942031705, -4972.922141129963, 11129.424149229608, 6644.59761279823, -611.8920766835425, -879.6961231840161, 1270.5926186365132, -3354.4093954920436, -3652.0516272195146, 1535.320034923864, 3442.06786540105, 1691.1469990055043, -9514.742122293763, -5495.930030665681, -11393.264281389034, -1006.794280892694, -11385.807297750875, 10499.407295945583, -5228.773548143093, -2009.7086141751672, -847.3002227743362, -13124.391604038397, -6112.701966838932, -14757.626854505603, -5414.451723823089, -4197.995995572501, -907.6690876091158, 4241.775895153048, -2601.869628345942, 1797.8692846207564, -860.4354477953748, 13091.374153516677, -4333.353171495312, 106.44730782999898, -5414.84962138029, -1148.5927138363124, 834.606341685354, -182.8750970628947, -12401.012614422623, 384.48865377878604, -15876.014194933867, 2392.95140001323, -4856.160277619078, -9604.976101231392, -3578.6411667637294, 3594.042421690832, -5713.304475031714, -7793.454352086524, -18832.323089995087, 277.31945471803914, 2456.1149429108855, 3385.8220491313223, -1867.5011952055088, -4025.5345868614922, -5506.504775277299, 1380.9095854822624, -1254.796105082277, 1223.3332842063578, -10817.514881421732, 375.61202524741634, -18377.080919160886, -7740.904879089714, -9600.009525716889, -284.93461613174765, -15159.901916245666, -4335.121223668238, -3902.6507601274043, -9955.599000501963, 8122.080380415546, 5073.487356522345, 871.0561448640477, 3735.222300120546, -8175.9447838416445, -7927.279393999558, -3222.02849711764, 2663.8141427242613], \"xaxis\": \"x\", \"y\": [3467.5659749114197, 6211.274488459202, 4177.140129281852, 4852.444518767339, 4348.095679784139, 4771.515153180694, 5506.996622913864, 4277.420432790432, 4314.803908984971, 5223.642330390358, 3374.2871342934277, 3684.6952959403598, 5318.281993622228, 5713.442041909505, 3943.1170736339136, 8154.200533863812, 4711.285967238693, 5174.470545977295, 6862.2475720806115, 5711.62839326697, 3973.9069974865147, 6342.03690187803, 5001.420783196853, 5127.949261280458, 7267.3285423970065, 5556.666139133822, 4468.268102563843, 7146.66285825278, 5468.743274286698, 5588.800602998207, 3424.073603905288, 4638.7242406741525, 5982.858221439135, 4688.370746949259, 4012.2154933423167, 5701.697575023515, 5401.821696967171, 3078.896438494593, 4564.617621855318, 4875.412034392044, 4795.659622307599, 6334.243251982049, 3500.5964543132545, 6638.189488143049, 4273.205301847636, 5267.352553209779, 5996.549152653397, 5164.690387393577, 5205.84015421388, 5507.674538617936, 5692.091704359402, 5512.809888472103, 5207.221097509012, 7423.315368546439, 6502.207882775595, 5070.413098436327, 6393.584927460238, 5058.593507665869, 3532.750801645637, 6026.370137728774, 4575.315245883315, 6399.679457928579, 4076.188863858499, 6716.389270082331, 4450.572465085802, 5121.948177991022, 5174.060016070753, 5595.425208078432, 6237.4550067498, 4834.9539918658875, 5030.101509904848, 5245.750156657966, 6031.597780098121, 5240.283697626607, 3413.4609900340342, 3266.47018326438, 4727.079813055349, 7033.832306225474, 5686.13234995181, 6221.683453940022, 4384.687289531574, 5053.974394482309, 2451.3956456354927, 6074.108821940041, 2642.856462873311, 4574.029852480234, 4918.861099714737, 4039.0497082186093, 4298.1479342158, 6617.143404468859, 3293.925709825785, 4305.605513370141, 5484.062210130752, 5033.927181148626, 4760.726683836122, 6827.736752280871, 5239.8344862521335, 4092.586810582496, 4906.821369117011, 4571.311601888516, 5435.293808150468, 5122.298575466136, 7150.265686204212, 5008.01210377861, 6401.496850378558, 4646.423038232097, 4662.571801362163, 4854.373611538009, 5720.06391063185, 3616.9066222648635, 1366.2175061913897, 3878.0740056043546, 6791.121727987133, 5019.545071865862, 4509.378948047732, 6154.518606181518, 5141.101367432592, 4411.324353776286, 6731.6223712281435, 6845.141814371282, 7337.46258433077, 5992.684094109711, 6861.841710581508, 5517.456998799794, 4687.331305792247, 5244.223767536207, 6098.4071714992115, 5788.85389338375, 6823.2533280405705, 5152.077722121317, 5539.978254276129, 4513.159427781259, 2685.6626854367964, 5644.552199614272, 6298.430178867738, 5567.112673818734, 6380.915494292794, 5666.367954752703, 6677.482101590941, 5049.606296947778, 5086.374324713106, 5133.63947168739, 4923.281603355224, 4064.0083360808117, 5573.24359276873, 2658.297518890414, 5499.339332721769, 4085.3122504461226, 4731.012058760931, 5244.436809348919, 5689.000453091913, 4370.467828822719, 5599.274828311295, 5673.527728610807, 4129.181189416358, 3399.1203547303244], \"yaxis\": \"y\"}, {\"customdata\": [[37], [65], [90], [59], [29], [58], [88], [63], [92], [17], [34], [22], [24], [36], [34], [87], [85], [61], [27], [59], [31], [31], [93], [17], [35], [28], [94], [28], [33], [56], [28], [86], [92], [18], [61], [32], [63], [58], [31], [62], [60], [62], [90], [33], [33], [65], [59], [65], [86], [32], [84], [84], [90], [91], [26], [92], [97], [84], [58], [61], [92], [87], [66], [22], [91], [30], [25], [28], [93], [90], [91], [89]], \"hoverlabel\": {\"namelength\": 0}, \"hovertemplate\": \"Cluster=Cluster 3<br>PCA1=%{x}<br>PCA2=%{y}<br>Feature=%{customdata[0]}\", \"legendgroup\": \"Cluster=Cluster 3\", \"marker\": {\"color\": \"#ab63fa\", \"opacity\": 0.5, \"symbol\": \"circle\"}, \"mode\": \"markers\", \"name\": \"Cluster=Cluster 3\", \"showlegend\": true, \"textposition\": \"top center\", \"type\": \"scatter\", \"x\": [48551.897791192634, 42414.13984409392, 46271.749990668126, 48029.23598296091, 62912.4570978057, 43629.012739237536, 55587.351730733586, 56651.455483747486, 41328.252663309984, 43861.74709102549, 53899.234059979586, 44952.90203538893, 47549.76254622708, 47842.88367906651, 59798.17482849972, 47182.06858155577, 51395.2243559995, 57857.28905692232, 47415.38916240534, 58984.55027496727, 48410.009290472284, 55168.4515450619, 59803.04557919302, 53976.79000263131, 56449.678138281415, 46993.64108790838, 53422.552485701235, 41580.27174463821, 47836.448391826845, 48602.57111184021, 52465.033586659905, 52263.49410874446, 50433.85138453333, 51532.47005840451, 46000.802484699554, 63317.06653244292, 52086.38065892722, 50397.08389773136, 43600.216180309755, 54542.56026091129, 52679.137422450585, 54778.91990969144, 45728.40114434413, 59239.853528398155, 41859.154369975586, 48281.96476402192, 54230.311420476624, 49923.23240258632, 48577.24594456368, 45920.30384600759, 45302.57090416745, 55809.60825993981, 43084.431301068355, 48697.32854440997, 50874.59373315182, 44074.74432267947, 47210.61128412963, 52844.21454083211, 47518.88131856793, 53924.59703955878, 42157.80542870097, 66750.62108457653, 45280.29645748764, 61617.25602185723, 61085.16181542693, 41933.87634909211, 55783.42885801492, 42045.79570257138, 55795.99791496396, 45049.713037748494, 59196.59308633912, 47964.552261386896], \"xaxis\": \"x\", \"y\": [4668.214697412174, -5432.28181950965, 4207.414796612182, 5422.323757682563, 5261.355213266388, -6254.8409412091305, 3427.1351952588097, 4271.292185091135, -4823.645899335601, -6877.035883382073, 3176.74688540909, -4985.514801220404, 3437.8964823947786, 4758.188729714915, 4315.7517925590655, -4557.716601791882, 5657.241494980819, 5717.501137167641, 4709.388807631826, 3350.7116179336454, -5693.665441157455, 4016.981622201614, 8450.307562492615, 5488.389984582108, 5101.398697367522, -4647.1290885886565, 3894.2354791277485, -5615.560772408646, 6059.98332337455, 6249.537360930084, 3371.533065013097, 5916.358054129831, -6854.206134077963, 6006.733833662533, 3884.452851319085, 4946.177510120509, 3388.4270346813737, 2890.550968564703, -5657.478831520011, 4193.882999372307, -4749.0570257153695, 4629.791365281097, 3658.306501252221, 4745.144589124807, -4543.326267067202, 8499.966944599808, 3238.428770323684, 6048.724079227708, -6305.307759672736, -4953.921129423367, 3778.1814213096072, 3879.1497332626573, -4660.855622444514, 5282.497809754308, -5178.052813440078, -6307.6691406259815, 6674.23467749592, -5677.667475551918, 4941.999362973272, 5765.842845736465, -5954.45460185115, 2693.00818662175, 4437.35656616774, 6726.313750520612, 4243.721728508765, 4717.997205237608, 4732.087714707706, -3106.1034758683627, 4252.897540706997, 4590.872583456106, 3903.9749268153687, -4397.186114919684], \"yaxis\": \"y\"}],\n",
       "                        {\"height\": 600, \"legend\": {\"tracegroupgap\": 0}, \"margin\": {\"t\": 60}, \"plot_bgcolor\": \"rgb(240,240,240)\", \"template\": {\"data\": {\"bar\": [{\"error_x\": {\"color\": \"#2a3f5f\"}, \"error_y\": {\"color\": \"#2a3f5f\"}, \"marker\": {\"line\": {\"color\": \"#E5ECF6\", \"width\": 0.5}}, \"type\": \"bar\"}], \"barpolar\": [{\"marker\": {\"line\": {\"color\": \"#E5ECF6\", \"width\": 0.5}}, \"type\": \"barpolar\"}], \"carpet\": [{\"aaxis\": {\"endlinecolor\": \"#2a3f5f\", \"gridcolor\": \"white\", \"linecolor\": \"white\", \"minorgridcolor\": \"white\", \"startlinecolor\": \"#2a3f5f\"}, \"baxis\": {\"endlinecolor\": \"#2a3f5f\", \"gridcolor\": \"white\", \"linecolor\": \"white\", \"minorgridcolor\": \"white\", \"startlinecolor\": \"#2a3f5f\"}, \"type\": \"carpet\"}], \"choropleth\": [{\"colorbar\": {\"outlinewidth\": 0, \"ticks\": \"\"}, \"type\": \"choropleth\"}], \"contour\": [{\"colorbar\": {\"outlinewidth\": 0, \"ticks\": \"\"}, \"colorscale\": [[0.0, \"#0d0887\"], [0.1111111111111111, \"#46039f\"], [0.2222222222222222, \"#7201a8\"], [0.3333333333333333, \"#9c179e\"], [0.4444444444444444, \"#bd3786\"], [0.5555555555555556, \"#d8576b\"], [0.6666666666666666, \"#ed7953\"], [0.7777777777777778, \"#fb9f3a\"], [0.8888888888888888, \"#fdca26\"], [1.0, \"#f0f921\"]], \"type\": \"contour\"}], \"contourcarpet\": [{\"colorbar\": {\"outlinewidth\": 0, \"ticks\": \"\"}, \"type\": \"contourcarpet\"}], \"heatmap\": [{\"colorbar\": {\"outlinewidth\": 0, \"ticks\": \"\"}, \"colorscale\": [[0.0, \"#0d0887\"], [0.1111111111111111, \"#46039f\"], [0.2222222222222222, \"#7201a8\"], [0.3333333333333333, \"#9c179e\"], [0.4444444444444444, \"#bd3786\"], [0.5555555555555556, \"#d8576b\"], [0.6666666666666666, \"#ed7953\"], [0.7777777777777778, \"#fb9f3a\"], [0.8888888888888888, \"#fdca26\"], [1.0, \"#f0f921\"]], \"type\": \"heatmap\"}], \"heatmapgl\": [{\"colorbar\": {\"outlinewidth\": 0, \"ticks\": \"\"}, \"colorscale\": [[0.0, \"#0d0887\"], [0.1111111111111111, \"#46039f\"], [0.2222222222222222, \"#7201a8\"], [0.3333333333333333, \"#9c179e\"], [0.4444444444444444, \"#bd3786\"], [0.5555555555555556, \"#d8576b\"], [0.6666666666666666, \"#ed7953\"], [0.7777777777777778, \"#fb9f3a\"], [0.8888888888888888, \"#fdca26\"], [1.0, \"#f0f921\"]], \"type\": \"heatmapgl\"}], \"histogram\": [{\"marker\": {\"colorbar\": {\"outlinewidth\": 0, \"ticks\": \"\"}}, \"type\": \"histogram\"}], \"histogram2d\": [{\"colorbar\": {\"outlinewidth\": 0, \"ticks\": \"\"}, \"colorscale\": [[0.0, \"#0d0887\"], [0.1111111111111111, \"#46039f\"], [0.2222222222222222, \"#7201a8\"], [0.3333333333333333, \"#9c179e\"], [0.4444444444444444, \"#bd3786\"], [0.5555555555555556, \"#d8576b\"], [0.6666666666666666, \"#ed7953\"], [0.7777777777777778, \"#fb9f3a\"], [0.8888888888888888, \"#fdca26\"], [1.0, \"#f0f921\"]], \"type\": \"histogram2d\"}], \"histogram2dcontour\": [{\"colorbar\": {\"outlinewidth\": 0, \"ticks\": \"\"}, \"colorscale\": [[0.0, \"#0d0887\"], [0.1111111111111111, \"#46039f\"], [0.2222222222222222, \"#7201a8\"], [0.3333333333333333, \"#9c179e\"], [0.4444444444444444, \"#bd3786\"], [0.5555555555555556, \"#d8576b\"], [0.6666666666666666, \"#ed7953\"], [0.7777777777777778, \"#fb9f3a\"], [0.8888888888888888, \"#fdca26\"], [1.0, \"#f0f921\"]], \"type\": \"histogram2dcontour\"}], \"mesh3d\": [{\"colorbar\": {\"outlinewidth\": 0, \"ticks\": \"\"}, \"type\": \"mesh3d\"}], \"parcoords\": [{\"line\": {\"colorbar\": {\"outlinewidth\": 0, \"ticks\": \"\"}}, \"type\": \"parcoords\"}], \"pie\": [{\"automargin\": true, \"type\": \"pie\"}], \"scatter\": [{\"marker\": {\"colorbar\": {\"outlinewidth\": 0, \"ticks\": \"\"}}, \"type\": \"scatter\"}], \"scatter3d\": [{\"line\": {\"colorbar\": {\"outlinewidth\": 0, \"ticks\": \"\"}}, \"marker\": {\"colorbar\": {\"outlinewidth\": 0, \"ticks\": \"\"}}, \"type\": \"scatter3d\"}], \"scattercarpet\": [{\"marker\": {\"colorbar\": {\"outlinewidth\": 0, \"ticks\": \"\"}}, \"type\": \"scattercarpet\"}], \"scattergeo\": [{\"marker\": {\"colorbar\": {\"outlinewidth\": 0, \"ticks\": \"\"}}, \"type\": \"scattergeo\"}], \"scattergl\": [{\"marker\": {\"colorbar\": {\"outlinewidth\": 0, \"ticks\": \"\"}}, \"type\": \"scattergl\"}], \"scattermapbox\": [{\"marker\": {\"colorbar\": {\"outlinewidth\": 0, \"ticks\": \"\"}}, \"type\": \"scattermapbox\"}], \"scatterpolar\": [{\"marker\": {\"colorbar\": {\"outlinewidth\": 0, \"ticks\": \"\"}}, \"type\": \"scatterpolar\"}], \"scatterpolargl\": [{\"marker\": {\"colorbar\": {\"outlinewidth\": 0, \"ticks\": \"\"}}, \"type\": \"scatterpolargl\"}], \"scatterternary\": [{\"marker\": {\"colorbar\": {\"outlinewidth\": 0, \"ticks\": \"\"}}, \"type\": \"scatterternary\"}], \"surface\": [{\"colorbar\": {\"outlinewidth\": 0, \"ticks\": \"\"}, \"colorscale\": [[0.0, \"#0d0887\"], [0.1111111111111111, \"#46039f\"], [0.2222222222222222, \"#7201a8\"], [0.3333333333333333, \"#9c179e\"], [0.4444444444444444, \"#bd3786\"], [0.5555555555555556, \"#d8576b\"], [0.6666666666666666, \"#ed7953\"], [0.7777777777777778, \"#fb9f3a\"], [0.8888888888888888, \"#fdca26\"], [1.0, \"#f0f921\"]], \"type\": \"surface\"}], \"table\": [{\"cells\": {\"fill\": {\"color\": \"#EBF0F8\"}, \"line\": {\"color\": \"white\"}}, \"header\": {\"fill\": {\"color\": \"#C8D4E3\"}, \"line\": {\"color\": \"white\"}}, \"type\": \"table\"}]}, \"layout\": {\"annotationdefaults\": {\"arrowcolor\": \"#2a3f5f\", \"arrowhead\": 0, \"arrowwidth\": 1}, \"coloraxis\": {\"colorbar\": {\"outlinewidth\": 0, \"ticks\": \"\"}}, \"colorscale\": {\"diverging\": [[0, \"#8e0152\"], [0.1, \"#c51b7d\"], [0.2, \"#de77ae\"], [0.3, \"#f1b6da\"], [0.4, \"#fde0ef\"], [0.5, \"#f7f7f7\"], [0.6, \"#e6f5d0\"], [0.7, \"#b8e186\"], [0.8, \"#7fbc41\"], [0.9, \"#4d9221\"], [1, \"#276419\"]], \"sequential\": [[0.0, \"#0d0887\"], [0.1111111111111111, \"#46039f\"], [0.2222222222222222, \"#7201a8\"], [0.3333333333333333, \"#9c179e\"], [0.4444444444444444, \"#bd3786\"], [0.5555555555555556, \"#d8576b\"], [0.6666666666666666, \"#ed7953\"], [0.7777777777777778, \"#fb9f3a\"], [0.8888888888888888, \"#fdca26\"], [1.0, \"#f0f921\"]], \"sequentialminus\": [[0.0, \"#0d0887\"], [0.1111111111111111, \"#46039f\"], [0.2222222222222222, \"#7201a8\"], [0.3333333333333333, \"#9c179e\"], [0.4444444444444444, \"#bd3786\"], [0.5555555555555556, \"#d8576b\"], [0.6666666666666666, \"#ed7953\"], [0.7777777777777778, \"#fb9f3a\"], [0.8888888888888888, \"#fdca26\"], [1.0, \"#f0f921\"]]}, \"colorway\": [\"#636efa\", \"#EF553B\", \"#00cc96\", \"#ab63fa\", \"#FFA15A\", \"#19d3f3\", \"#FF6692\", \"#B6E880\", \"#FF97FF\", \"#FECB52\"], \"font\": {\"color\": \"#2a3f5f\"}, \"geo\": {\"bgcolor\": \"white\", \"lakecolor\": \"white\", \"landcolor\": \"#E5ECF6\", \"showlakes\": true, \"showland\": true, \"subunitcolor\": \"white\"}, \"hoverlabel\": {\"align\": \"left\"}, \"hovermode\": \"closest\", \"mapbox\": {\"style\": \"light\"}, \"paper_bgcolor\": \"white\", \"plot_bgcolor\": \"#E5ECF6\", \"polar\": {\"angularaxis\": {\"gridcolor\": \"white\", \"linecolor\": \"white\", \"ticks\": \"\"}, \"bgcolor\": \"#E5ECF6\", \"radialaxis\": {\"gridcolor\": \"white\", \"linecolor\": \"white\", \"ticks\": \"\"}}, \"scene\": {\"xaxis\": {\"backgroundcolor\": \"#E5ECF6\", \"gridcolor\": \"white\", \"gridwidth\": 2, \"linecolor\": \"white\", \"showbackground\": true, \"ticks\": \"\", \"zerolinecolor\": \"white\"}, \"yaxis\": {\"backgroundcolor\": \"#E5ECF6\", \"gridcolor\": \"white\", \"gridwidth\": 2, \"linecolor\": \"white\", \"showbackground\": true, \"ticks\": \"\", \"zerolinecolor\": \"white\"}, \"zaxis\": {\"backgroundcolor\": \"#E5ECF6\", \"gridcolor\": \"white\", \"gridwidth\": 2, \"linecolor\": \"white\", \"showbackground\": true, \"ticks\": \"\", \"zerolinecolor\": \"white\"}}, \"shapedefaults\": {\"line\": {\"color\": \"#2a3f5f\"}}, \"ternary\": {\"aaxis\": {\"gridcolor\": \"white\", \"linecolor\": \"white\", \"ticks\": \"\"}, \"baxis\": {\"gridcolor\": \"white\", \"linecolor\": \"white\", \"ticks\": \"\"}, \"bgcolor\": \"#E5ECF6\", \"caxis\": {\"gridcolor\": \"white\", \"linecolor\": \"white\", \"ticks\": \"\"}}, \"title\": {\"x\": 0.05}, \"xaxis\": {\"automargin\": true, \"gridcolor\": \"white\", \"linecolor\": \"white\", \"ticks\": \"\", \"title\": {\"standoff\": 15}, \"zerolinecolor\": \"white\", \"zerolinewidth\": 2}, \"yaxis\": {\"automargin\": true, \"gridcolor\": \"white\", \"linecolor\": \"white\", \"ticks\": \"\", \"title\": {\"standoff\": 15}, \"zerolinecolor\": \"white\", \"zerolinewidth\": 2}}}, \"title\": {\"text\": \"2D Cluster PCA Plot\"}, \"xaxis\": {\"anchor\": \"y\", \"domain\": [0.0, 1.0], \"title\": {\"text\": \"PCA1\"}}, \"yaxis\": {\"anchor\": \"x\", \"domain\": [0.0, 1.0], \"title\": {\"text\": \"PCA2\"}}},\n",
       "                        {\"responsive\": true}\n",
       "                    ).then(function(){\n",
       "                            \n",
       "var gd = document.getElementById('dafd1770-6a14-4eea-914e-3c4f3ae34dc8');\n",
       "var x = new MutationObserver(function (mutations, observer) {{\n",
       "        var display = window.getComputedStyle(gd).display;\n",
       "        if (!display || display === 'none') {{\n",
       "            console.log([gd, 'removed!']);\n",
       "            Plotly.purge(gd);\n",
       "            observer.disconnect();\n",
       "        }}\n",
       "}});\n",
       "\n",
       "// Listen for the removal of the full notebook cells\n",
       "var notebookContainer = gd.closest('#notebook-container');\n",
       "if (notebookContainer) {{\n",
       "    x.observe(notebookContainer, {childList: true});\n",
       "}}\n",
       "\n",
       "// Listen for the clearing of the current output cell\n",
       "var outputEl = gd.closest('.output');\n",
       "if (outputEl) {{\n",
       "    x.observe(outputEl, {childList: true});\n",
       "}}\n",
       "\n",
       "                        })\n",
       "                };\n",
       "                });\n",
       "            </script>\n",
       "        </div>"
      ]
     },
     "metadata": {},
     "output_type": "display_data"
    }
   ],
   "source": [
    "plot_model(kmeans)"
   ]
  },
  {
   "cell_type": "code",
   "execution_count": null,
   "metadata": {},
   "outputs": [],
   "source": []
  }
 ],
 "metadata": {
  "kernelspec": {
   "display_name": "Python 3",
   "language": "python",
   "name": "python3"
  },
  "language_info": {
   "codemirror_mode": {
    "name": "ipython",
    "version": 3
   },
   "file_extension": ".py",
   "mimetype": "text/x-python",
   "name": "python",
   "nbconvert_exporter": "python",
   "pygments_lexer": "ipython3",
   "version": "3.7.7"
  }
 },
 "nbformat": 4,
 "nbformat_minor": 4
}
